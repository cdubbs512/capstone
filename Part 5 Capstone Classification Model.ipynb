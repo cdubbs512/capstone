{
 "cells": [
  {
   "cell_type": "markdown",
   "metadata": {
    "slideshow": {
     "slide_type": "slide"
    }
   },
   "source": [
    "<center>\n",
    "    \n",
    "    \n",
    "# Part 5: Capstone Classification Model\n",
    "\n",
    "- **Predicting Footballers Market Values**\n",
    " \n",
    "- **Using 2008 - 2017 data from transfermarkt.co.uk**\n",
    " \n",
    "- **Christopher Williams, ATX, GA DSI Feb 2019**\n",
    " \n",
    "</center>\n",
    "\n"
   ]
  },
  {
   "cell_type": "markdown",
   "metadata": {
    "slideshow": {
     "slide_type": "slide"
    },
    "toc": true
   },
   "source": [
    "<h1>Table of Contents<span class=\"tocSkip\"></span></h1>\n",
    "<div class=\"toc\"><ul class=\"toc-item\"><li><span><a href=\"#Part-5:-Capstone-Classification-Model\" data-toc-modified-id=\"Part-5:-Capstone-Classification-Model-1\"><span class=\"toc-item-num\">1&nbsp;&nbsp;</span>Part 5: Capstone Classification Model</a></span><ul class=\"toc-item\"><li><span><a href=\"#The-data-science-process.\" data-toc-modified-id=\"The-data-science-process.-1.1\"><span class=\"toc-item-num\">1.1&nbsp;&nbsp;</span>The data science process.</a></span></li><li><span><a href=\"#Define-the-problem.\" data-toc-modified-id=\"Define-the-problem.-1.2\"><span class=\"toc-item-num\">1.2&nbsp;&nbsp;</span>Define the problem.</a></span></li><li><span><a href=\"#Import-libraries\" data-toc-modified-id=\"Import-libraries-1.3\"><span class=\"toc-item-num\">1.3&nbsp;&nbsp;</span>Import libraries</a></span></li></ul></li><li><span><a href=\"#Import-dataframe-df_master.csv-and-rename-as-df\" data-toc-modified-id=\"Import-dataframe-df_master.csv-and-rename-as-df-2\"><span class=\"toc-item-num\">2&nbsp;&nbsp;</span>Import dataframe df_master.csv and rename as df</a></span></li><li><span><a href=\"#Explore-the-data.\" data-toc-modified-id=\"Explore-the-data.-3\"><span class=\"toc-item-num\">3&nbsp;&nbsp;</span>Explore the data.</a></span><ul class=\"toc-item\"><li><ul class=\"toc-item\"><li><span><a href=\"#About-the-data:\" data-toc-modified-id=\"About-the-data:-3.0.1\"><span class=\"toc-item-num\">3.0.1&nbsp;&nbsp;</span>About the data:</a></span><ul class=\"toc-item\"><li><span><a href=\"#Market-Value-Info\" data-toc-modified-id=\"Market-Value-Info-3.0.1.1\"><span class=\"toc-item-num\">3.0.1.1&nbsp;&nbsp;</span>Market Value Info</a></span></li></ul></li></ul></li></ul></li><li><span><a href=\"#Classification-Models-on-Position\" data-toc-modified-id=\"Classification-Models-on-Position-4\"><span class=\"toc-item-num\">4&nbsp;&nbsp;</span>Classification Models on Position</a></span><ul class=\"toc-item\"><li><span><a href=\"#Exploring-the-SVC-Model\" data-toc-modified-id=\"Exploring-the-SVC-Model-4.1\"><span class=\"toc-item-num\">4.1&nbsp;&nbsp;</span>Exploring the SVC Model</a></span></li></ul></li><li><span><a href=\"#End\" data-toc-modified-id=\"End-5\"><span class=\"toc-item-num\">5&nbsp;&nbsp;</span>End</a></span></li></ul></div>"
   ]
  },
  {
   "cell_type": "markdown",
   "metadata": {},
   "source": [
    "\n",
    "\n",
    "## The data science process.\n",
    "\n",
    ">1. Define the problem.\n",
    ">2. Gather the data.\n",
    ">3. Explore the data.\n",
    ">4. Model the data.\n",
    ">5. Evaluate the model.\n",
    ">6. Answer the problem.\n",
    "\n",
    ">- In this jupyter notebook, I'm going address steps 4, 5, and 6 to determine which models and subsets of data are appropriate to optimize. \n",
    "\n",
    ">- See Capstone Data Collection jupyter notebook to learn how the data was collected. \n",
    "\n",
    "\n",
    "## Define the problem.\n",
    "\n",
    "\n",
    "Classification model:\n",
    "- **Classification: Using market values and footballer's stats, how accurately can you classify if one is a forward, defender, midfielder or goalie?**\n",
    "- I will pull in the cleaned csv of data gathered via scraping the webpages and focus mostly on creating and then comparing classification models to see what we can learn from the data and how much the data can be used to predict a player's position based on transfermarkt's player annual statistics. \n"
   ]
  },
  {
   "cell_type": "markdown",
   "metadata": {
    "slideshow": {
     "slide_type": "slide"
    }
   },
   "source": [
    "## Import libraries\n"
   ]
  },
  {
   "cell_type": "code",
   "execution_count": 1,
   "metadata": {
    "ExecuteTime": {
     "end_time": "2019-02-12T08:39:29.267986Z",
     "start_time": "2019-02-12T08:39:29.264842Z"
    },
    "slideshow": {
     "slide_type": "slide"
    }
   },
   "outputs": [],
   "source": [
    "# # To display at max window width\n",
    "# from IPython.core.display import display, HTML\n",
    "# display(HTML(\"<style>.container { width:100% !important; }</style>\"))"
   ]
  },
  {
   "cell_type": "code",
   "execution_count": 2,
   "metadata": {
    "ExecuteTime": {
     "end_time": "2019-02-12T08:39:30.954058Z",
     "start_time": "2019-02-12T08:39:29.272034Z"
    },
    "slideshow": {
     "slide_type": "slide"
    }
   },
   "outputs": [],
   "source": [
    "# Imports\n",
    "\n",
    "import pandas as pd\n",
    "import numpy as np\n",
    "import requests\n",
    "import matplotlib.pyplot as plt\n",
    "from bs4 import BeautifulSoup \n",
    "from time import sleep\n",
    "from selenium import webdriver\n",
    "import os\n",
    "import sys\n",
    "import sqlalchemy\n",
    "import re\n",
    "import psycopg2 as pg2\n",
    "\n",
    "import numpy as np\n",
    "import patsy\n",
    "import matplotlib\n",
    "import matplotlib.pyplot as plt\n",
    "import seaborn as sns\n",
    "from math import sqrt\n",
    "plt.style.use('fivethirtyeight')\n",
    "\n",
    "%config InlineBackend.figure_format = 'retina'\n",
    "%matplotlib inline\n",
    "\n",
    "import warnings\n",
    "warnings.simplefilter(action='ignore', category=FutureWarning)\n",
    "import sys\n",
    "\n",
    "if not sys.warnoptions:\n",
    "    import warnings\n",
    "    warnings.simplefilter(\"ignore\")\n",
    "\n",
    "from IPython.core.interactiveshell import InteractiveShell\n",
    "InteractiveShell.ast_node_interactivity = \"all\"\n",
    "\n",
    "pd.set_option('display.max_columns', 500)\n",
    "pd.set_option('display.max_rows', 500)\n",
    "pd.set_option('display.max_colwidth', -1)"
   ]
  },
  {
   "cell_type": "markdown",
   "metadata": {},
   "source": [
    "# Import dataframe df_master.csv and rename as df"
   ]
  },
  {
   "cell_type": "code",
   "execution_count": 3,
   "metadata": {
    "ExecuteTime": {
     "end_time": "2019-02-12T08:39:31.173048Z",
     "start_time": "2019-02-12T08:39:30.957741Z"
    }
   },
   "outputs": [
    {
     "data": {
      "text/html": [
       "<div>\n",
       "<style scoped>\n",
       "    .dataframe tbody tr th:only-of-type {\n",
       "        vertical-align: middle;\n",
       "    }\n",
       "\n",
       "    .dataframe tbody tr th {\n",
       "        vertical-align: top;\n",
       "    }\n",
       "\n",
       "    .dataframe thead th {\n",
       "        text-align: right;\n",
       "    }\n",
       "</style>\n",
       "<table border=\"1\" class=\"dataframe\">\n",
       "  <thead>\n",
       "    <tr style=\"text-align: right;\">\n",
       "      <th></th>\n",
       "      <th>player</th>\n",
       "      <th>current_team</th>\n",
       "      <th>current_year</th>\n",
       "      <th>birthdate_age</th>\n",
       "      <th>nationality</th>\n",
       "      <th>height_m</th>\n",
       "      <th>foot</th>\n",
       "      <th>date_joined</th>\n",
       "      <th>year_joined</th>\n",
       "      <th>signed_from</th>\n",
       "      <th>transfer_fee</th>\n",
       "      <th>contract_until</th>\n",
       "      <th>market_value</th>\n",
       "      <th>number</th>\n",
       "      <th>position</th>\n",
       "      <th>general_position</th>\n",
       "      <th>age</th>\n",
       "      <th>in_squad</th>\n",
       "      <th>appearances</th>\n",
       "      <th>goals</th>\n",
       "      <th>assists</th>\n",
       "      <th>yellow_card</th>\n",
       "      <th>second_yellow</th>\n",
       "      <th>red_cards</th>\n",
       "      <th>substituted_on</th>\n",
       "      <th>substituted_off</th>\n",
       "      <th>ppm</th>\n",
       "      <th>minutes_played</th>\n",
       "    </tr>\n",
       "  </thead>\n",
       "  <tbody>\n",
       "    <tr>\n",
       "      <th>0</th>\n",
       "      <td>Víctor Valdés</td>\n",
       "      <td>fc-barcelona</td>\n",
       "      <td>2008</td>\n",
       "      <td>Jan 14, 1982 (26)</td>\n",
       "      <td>Spain</td>\n",
       "      <td>1.83</td>\n",
       "      <td>right</td>\n",
       "      <td>Jul 1, 2002</td>\n",
       "      <td>2002</td>\n",
       "      <td>FC Barcelona B</td>\n",
       "      <td>0.0</td>\n",
       "      <td>-</td>\n",
       "      <td>13500000.0</td>\n",
       "      <td>1</td>\n",
       "      <td>Goalkeeper</td>\n",
       "      <td>Goalkeeper</td>\n",
       "      <td>26.0</td>\n",
       "      <td>52.0</td>\n",
       "      <td>49.0</td>\n",
       "      <td>0.0</td>\n",
       "      <td>0.0</td>\n",
       "      <td>3.0</td>\n",
       "      <td>0.0</td>\n",
       "      <td>0.0</td>\n",
       "      <td>0.0</td>\n",
       "      <td>0.0</td>\n",
       "      <td>2.35</td>\n",
       "      <td>4410.0</td>\n",
       "    </tr>\n",
       "    <tr>\n",
       "      <th>1</th>\n",
       "      <td>José Manuel Pinto</td>\n",
       "      <td>fc-barcelona</td>\n",
       "      <td>2008</td>\n",
       "      <td>Nov 8, 1975 (32)</td>\n",
       "      <td>Spain</td>\n",
       "      <td>1.85</td>\n",
       "      <td>right</td>\n",
       "      <td>Jul 1, 2008</td>\n",
       "      <td>2008</td>\n",
       "      <td>Spain</td>\n",
       "      <td>0.0</td>\n",
       "      <td>-</td>\n",
       "      <td>1800000.0</td>\n",
       "      <td>13</td>\n",
       "      <td>Goalkeeper</td>\n",
       "      <td>Goalkeeper</td>\n",
       "      <td>32.0</td>\n",
       "      <td>51.0</td>\n",
       "      <td>11.0</td>\n",
       "      <td>0.0</td>\n",
       "      <td>0.0</td>\n",
       "      <td>1.0</td>\n",
       "      <td>0.0</td>\n",
       "      <td>0.0</td>\n",
       "      <td>0.0</td>\n",
       "      <td>0.0</td>\n",
       "      <td>2.18</td>\n",
       "      <td>990.0</td>\n",
       "    </tr>\n",
       "  </tbody>\n",
       "</table>\n",
       "</div>"
      ],
      "text/plain": [
       "              player  current_team  current_year      birthdate_age  \\\n",
       "0  Víctor Valdés      fc-barcelona  2008          Jan 14, 1982 (26)   \n",
       "1  José Manuel Pinto  fc-barcelona  2008          Nov 8, 1975 (32)    \n",
       "\n",
       "  nationality  height_m   foot  date_joined year_joined     signed_from  \\\n",
       "0  Spain       1.83      right  Jul 1, 2002  2002        FC Barcelona B   \n",
       "1  Spain       1.85      right  Jul 1, 2008  2008        Spain            \n",
       "\n",
       "   transfer_fee contract_until  market_value  number    position  \\\n",
       "0  0.0           -              13500000.0    1       Goalkeeper   \n",
       "1  0.0           -              1800000.0     13      Goalkeeper   \n",
       "\n",
       "  general_position   age  in_squad  appearances  goals  assists  yellow_card  \\\n",
       "0  Goalkeeper       26.0  52.0      49.0         0.0    0.0      3.0           \n",
       "1  Goalkeeper       32.0  51.0      11.0         0.0    0.0      1.0           \n",
       "\n",
       "   second_yellow  red_cards  substituted_on  substituted_off   ppm  \\\n",
       "0  0.0            0.0        0.0             0.0              2.35   \n",
       "1  0.0            0.0        0.0             0.0              2.18   \n",
       "\n",
       "   minutes_played  \n",
       "0  4410.0          \n",
       "1  990.0           "
      ]
     },
     "execution_count": 3,
     "metadata": {},
     "output_type": "execute_result"
    }
   ],
   "source": [
    "df = pd.read_csv('df_master.csv')\n",
    "df = df.drop(columns='Unnamed: 0', axis=1)\n",
    "df.head(2)"
   ]
  },
  {
   "cell_type": "code",
   "execution_count": 4,
   "metadata": {
    "ExecuteTime": {
     "end_time": "2019-02-12T08:39:31.220835Z",
     "start_time": "2019-02-12T08:39:31.182080Z"
    },
    "scrolled": true
   },
   "outputs": [
    {
     "name": "stdout",
     "output_type": "stream",
     "text": [
      "<class 'pandas.core.frame.DataFrame'>\n",
      "RangeIndex: 21570 entries, 0 to 21569\n",
      "Data columns (total 28 columns):\n",
      "player              21570 non-null object\n",
      "current_team        21570 non-null object\n",
      "current_year        21570 non-null int64\n",
      "birthdate_age       21570 non-null object\n",
      "nationality         21570 non-null object\n",
      "height_m            21570 non-null float64\n",
      "foot                21570 non-null object\n",
      "date_joined         21570 non-null object\n",
      "year_joined         21570 non-null object\n",
      "signed_from         21570 non-null object\n",
      "transfer_fee        21570 non-null float64\n",
      "contract_until      21570 non-null object\n",
      "market_value        21570 non-null float64\n",
      "number              21570 non-null int64\n",
      "position            21570 non-null object\n",
      "general_position    21570 non-null object\n",
      "age                 21570 non-null float64\n",
      "in_squad            21570 non-null float64\n",
      "appearances         21570 non-null float64\n",
      "goals               21570 non-null float64\n",
      "assists             21570 non-null float64\n",
      "yellow_card         21570 non-null float64\n",
      "second_yellow       21570 non-null float64\n",
      "red_cards           21570 non-null float64\n",
      "substituted_on      21570 non-null float64\n",
      "substituted_off     21570 non-null float64\n",
      "ppm                 21570 non-null float64\n",
      "minutes_played      21570 non-null float64\n",
      "dtypes: float64(15), int64(2), object(11)\n",
      "memory usage: 4.6+ MB\n"
     ]
    }
   ],
   "source": [
    "df.info()"
   ]
  },
  {
   "cell_type": "markdown",
   "metadata": {},
   "source": [
    "# Explore the data.\n",
    "\n",
    "##### We are attempting to predict market value by using the players stats features.\n",
    "\n",
    "### About the data:\n",
    " \n",
    ">- Market & Transfer Value are in pounds sterling\n",
    "- Height is in meters\n",
    "- PPM is player preferred moves (which could be a proxy for players position, moves and habits). \n",
    "\n",
    "\n",
    "Features used in model to predict:\n",
    "- Age\n",
    "- Market -Value (not included when target)\n",
    "- Transfer-Fee (not included when target)\n",
    "- In-Squad (included on bench) \n",
    "- Appearances (games played)\n",
    "- Goals\n",
    "- Assists\n",
    "- Yellow Cards\n",
    "- Second Yellow Cards\n",
    "- Red Cards\n",
    "- Substituted On\n",
    "- Substituted Off\n",
    "- PPM\n",
    "- Minutes Played\n"
   ]
  },
  {
   "cell_type": "code",
   "execution_count": 5,
   "metadata": {
    "ExecuteTime": {
     "end_time": "2019-02-12T08:39:33.370891Z",
     "start_time": "2019-02-12T08:39:31.226500Z"
    },
    "scrolled": true
   },
   "outputs": [
    {
     "data": {
      "image/png": "[encoded data removed]",
      "text/plain": [
       "<Figure size 864x864 with 2 Axes>"
      ]
     },
     "metadata": {
      "image/png": {
       "height": 753,
       "width": 803
      },
      "needs_background": "light"
     },
     "output_type": "display_data"
    }
   ],
   "source": [
    "plt.figure(figsize=(12,12))\n",
    "sns.heatmap(df.corr(), cmap=\"YlGnBu\", annot=True);"
   ]
  },
  {
   "cell_type": "code",
   "execution_count": 6,
   "metadata": {
    "ExecuteTime": {
     "end_time": "2019-02-12T08:39:33.512270Z",
     "start_time": "2019-02-12T08:39:33.373617Z"
    },
    "scrolled": false
   },
   "outputs": [
    {
     "data": {
      "text/html": [
       "<div>\n",
       "<style scoped>\n",
       "    .dataframe tbody tr th:only-of-type {\n",
       "        vertical-align: middle;\n",
       "    }\n",
       "\n",
       "    .dataframe tbody tr th {\n",
       "        vertical-align: top;\n",
       "    }\n",
       "\n",
       "    .dataframe thead th {\n",
       "        text-align: right;\n",
       "    }\n",
       "</style>\n",
       "<table border=\"1\" class=\"dataframe\">\n",
       "  <thead>\n",
       "    <tr style=\"text-align: right;\">\n",
       "      <th></th>\n",
       "      <th>count</th>\n",
       "      <th>mean</th>\n",
       "      <th>std</th>\n",
       "      <th>min</th>\n",
       "      <th>25%</th>\n",
       "      <th>50%</th>\n",
       "      <th>75%</th>\n",
       "      <th>max</th>\n",
       "    </tr>\n",
       "  </thead>\n",
       "  <tbody>\n",
       "    <tr>\n",
       "      <th>current_year</th>\n",
       "      <td>21570.0</td>\n",
       "      <td>2.012735e+03</td>\n",
       "      <td>2.929718e+00</td>\n",
       "      <td>2008.00</td>\n",
       "      <td>2010.00</td>\n",
       "      <td>2012.00</td>\n",
       "      <td>2015.00</td>\n",
       "      <td>2.017000e+03</td>\n",
       "    </tr>\n",
       "    <tr>\n",
       "      <th>height_m</th>\n",
       "      <td>21570.0</td>\n",
       "      <td>1.821707e+00</td>\n",
       "      <td>6.457274e-02</td>\n",
       "      <td>0.17</td>\n",
       "      <td>1.78</td>\n",
       "      <td>1.83</td>\n",
       "      <td>1.87</td>\n",
       "      <td>2.040000e+00</td>\n",
       "    </tr>\n",
       "    <tr>\n",
       "      <th>transfer_fee</th>\n",
       "      <td>21570.0</td>\n",
       "      <td>1.148156e+06</td>\n",
       "      <td>4.662077e+06</td>\n",
       "      <td>0.00</td>\n",
       "      <td>0.00</td>\n",
       "      <td>0.00</td>\n",
       "      <td>0.00</td>\n",
       "      <td>9.090000e+07</td>\n",
       "    </tr>\n",
       "    <tr>\n",
       "      <th>market_value</th>\n",
       "      <td>21570.0</td>\n",
       "      <td>4.412661e+06</td>\n",
       "      <td>7.315357e+06</td>\n",
       "      <td>23000.00</td>\n",
       "      <td>675000.00</td>\n",
       "      <td>1800000.00</td>\n",
       "      <td>4730000.00</td>\n",
       "      <td>1.080000e+08</td>\n",
       "    </tr>\n",
       "    <tr>\n",
       "      <th>number</th>\n",
       "      <td>21570.0</td>\n",
       "      <td>-7.322188e+01</td>\n",
       "      <td>2.905640e+02</td>\n",
       "      <td>-999.00</td>\n",
       "      <td>6.00</td>\n",
       "      <td>14.00</td>\n",
       "      <td>23.00</td>\n",
       "      <td>9.900000e+01</td>\n",
       "    </tr>\n",
       "    <tr>\n",
       "      <th>age</th>\n",
       "      <td>21570.0</td>\n",
       "      <td>2.551145e+01</td>\n",
       "      <td>4.292170e+00</td>\n",
       "      <td>16.00</td>\n",
       "      <td>22.00</td>\n",
       "      <td>25.00</td>\n",
       "      <td>29.00</td>\n",
       "      <td>4.200000e+01</td>\n",
       "    </tr>\n",
       "    <tr>\n",
       "      <th>in_squad</th>\n",
       "      <td>21570.0</td>\n",
       "      <td>2.947413e+01</td>\n",
       "      <td>1.414995e+01</td>\n",
       "      <td>0.00</td>\n",
       "      <td>18.00</td>\n",
       "      <td>32.00</td>\n",
       "      <td>40.00</td>\n",
       "      <td>6.800000e+01</td>\n",
       "    </tr>\n",
       "    <tr>\n",
       "      <th>appearances</th>\n",
       "      <td>21570.0</td>\n",
       "      <td>2.307997e+01</td>\n",
       "      <td>1.432896e+01</td>\n",
       "      <td>1.00</td>\n",
       "      <td>10.00</td>\n",
       "      <td>23.00</td>\n",
       "      <td>35.00</td>\n",
       "      <td>7.600000e+01</td>\n",
       "    </tr>\n",
       "    <tr>\n",
       "      <th>goals</th>\n",
       "      <td>21570.0</td>\n",
       "      <td>2.504729e+00</td>\n",
       "      <td>4.697557e+00</td>\n",
       "      <td>0.00</td>\n",
       "      <td>0.00</td>\n",
       "      <td>1.00</td>\n",
       "      <td>3.00</td>\n",
       "      <td>7.300000e+01</td>\n",
       "    </tr>\n",
       "    <tr>\n",
       "      <th>assists</th>\n",
       "      <td>21570.0</td>\n",
       "      <td>1.952666e+00</td>\n",
       "      <td>3.096413e+00</td>\n",
       "      <td>0.00</td>\n",
       "      <td>0.00</td>\n",
       "      <td>1.00</td>\n",
       "      <td>3.00</td>\n",
       "      <td>3.500000e+01</td>\n",
       "    </tr>\n",
       "    <tr>\n",
       "      <th>yellow_card</th>\n",
       "      <td>21570.0</td>\n",
       "      <td>3.270190e+00</td>\n",
       "      <td>3.284262e+00</td>\n",
       "      <td>0.00</td>\n",
       "      <td>1.00</td>\n",
       "      <td>2.00</td>\n",
       "      <td>5.00</td>\n",
       "      <td>2.200000e+01</td>\n",
       "    </tr>\n",
       "    <tr>\n",
       "      <th>second_yellow</th>\n",
       "      <td>21570.0</td>\n",
       "      <td>9.684747e-02</td>\n",
       "      <td>3.268819e-01</td>\n",
       "      <td>0.00</td>\n",
       "      <td>0.00</td>\n",
       "      <td>0.00</td>\n",
       "      <td>0.00</td>\n",
       "      <td>3.000000e+00</td>\n",
       "    </tr>\n",
       "    <tr>\n",
       "      <th>red_cards</th>\n",
       "      <td>21570.0</td>\n",
       "      <td>9.244321e-02</td>\n",
       "      <td>3.097672e-01</td>\n",
       "      <td>0.00</td>\n",
       "      <td>0.00</td>\n",
       "      <td>0.00</td>\n",
       "      <td>0.00</td>\n",
       "      <td>3.000000e+00</td>\n",
       "    </tr>\n",
       "    <tr>\n",
       "      <th>substituted_on</th>\n",
       "      <td>21570.0</td>\n",
       "      <td>4.549652e+00</td>\n",
       "      <td>4.998870e+00</td>\n",
       "      <td>0.00</td>\n",
       "      <td>1.00</td>\n",
       "      <td>3.00</td>\n",
       "      <td>7.00</td>\n",
       "      <td>5.100000e+01</td>\n",
       "    </tr>\n",
       "    <tr>\n",
       "      <th>substituted_off</th>\n",
       "      <td>21570.0</td>\n",
       "      <td>4.731340e+00</td>\n",
       "      <td>5.342982e+00</td>\n",
       "      <td>0.00</td>\n",
       "      <td>1.00</td>\n",
       "      <td>3.00</td>\n",
       "      <td>7.00</td>\n",
       "      <td>4.900000e+01</td>\n",
       "    </tr>\n",
       "    <tr>\n",
       "      <th>ppm</th>\n",
       "      <td>21570.0</td>\n",
       "      <td>1.505433e+00</td>\n",
       "      <td>5.834805e-01</td>\n",
       "      <td>0.00</td>\n",
       "      <td>1.17</td>\n",
       "      <td>1.50</td>\n",
       "      <td>1.85</td>\n",
       "      <td>7.500000e+00</td>\n",
       "    </tr>\n",
       "    <tr>\n",
       "      <th>minutes_played</th>\n",
       "      <td>21570.0</td>\n",
       "      <td>1.680216e+03</td>\n",
       "      <td>1.488418e+03</td>\n",
       "      <td>1.00</td>\n",
       "      <td>541.25</td>\n",
       "      <td>1528.00</td>\n",
       "      <td>2656.00</td>\n",
       "      <td>6.502000e+04</td>\n",
       "    </tr>\n",
       "  </tbody>\n",
       "</table>\n",
       "</div>"
      ],
      "text/plain": [
       "                   count          mean           std       min        25%  \\\n",
       "current_year     21570.0  2.012735e+03  2.929718e+00  2008.00   2010.00     \n",
       "height_m         21570.0  1.821707e+00  6.457274e-02  0.17      1.78        \n",
       "transfer_fee     21570.0  1.148156e+06  4.662077e+06  0.00      0.00        \n",
       "market_value     21570.0  4.412661e+06  7.315357e+06  23000.00  675000.00   \n",
       "number           21570.0 -7.322188e+01  2.905640e+02 -999.00    6.00        \n",
       "age              21570.0  2.551145e+01  4.292170e+00  16.00     22.00       \n",
       "in_squad         21570.0  2.947413e+01  1.414995e+01  0.00      18.00       \n",
       "appearances      21570.0  2.307997e+01  1.432896e+01  1.00      10.00       \n",
       "goals            21570.0  2.504729e+00  4.697557e+00  0.00      0.00        \n",
       "assists          21570.0  1.952666e+00  3.096413e+00  0.00      0.00        \n",
       "yellow_card      21570.0  3.270190e+00  3.284262e+00  0.00      1.00        \n",
       "second_yellow    21570.0  9.684747e-02  3.268819e-01  0.00      0.00        \n",
       "red_cards        21570.0  9.244321e-02  3.097672e-01  0.00      0.00        \n",
       "substituted_on   21570.0  4.549652e+00  4.998870e+00  0.00      1.00        \n",
       "substituted_off  21570.0  4.731340e+00  5.342982e+00  0.00      1.00        \n",
       "ppm              21570.0  1.505433e+00  5.834805e-01  0.00      1.17        \n",
       "minutes_played   21570.0  1.680216e+03  1.488418e+03  1.00      541.25      \n",
       "\n",
       "                        50%         75%           max  \n",
       "current_year     2012.00     2015.00     2.017000e+03  \n",
       "height_m         1.83        1.87        2.040000e+00  \n",
       "transfer_fee     0.00        0.00        9.090000e+07  \n",
       "market_value     1800000.00  4730000.00  1.080000e+08  \n",
       "number           14.00       23.00       9.900000e+01  \n",
       "age              25.00       29.00       4.200000e+01  \n",
       "in_squad         32.00       40.00       6.800000e+01  \n",
       "appearances      23.00       35.00       7.600000e+01  \n",
       "goals            1.00        3.00        7.300000e+01  \n",
       "assists          1.00        3.00        3.500000e+01  \n",
       "yellow_card      2.00        5.00        2.200000e+01  \n",
       "second_yellow    0.00        0.00        3.000000e+00  \n",
       "red_cards        0.00        0.00        3.000000e+00  \n",
       "substituted_on   3.00        7.00        5.100000e+01  \n",
       "substituted_off  3.00        7.00        4.900000e+01  \n",
       "ppm              1.50        1.85        7.500000e+00  \n",
       "minutes_played   1528.00     2656.00     6.502000e+04  "
      ]
     },
     "execution_count": 6,
     "metadata": {},
     "output_type": "execute_result"
    }
   ],
   "source": [
    "df.describe().T"
   ]
  },
  {
   "cell_type": "code",
   "execution_count": 7,
   "metadata": {
    "ExecuteTime": {
     "end_time": "2019-02-12T08:39:33.534871Z",
     "start_time": "2019-02-12T08:39:33.519107Z"
    }
   },
   "outputs": [
    {
     "data": {
      "text/plain": [
       "(21570, 28)"
      ]
     },
     "execution_count": 7,
     "metadata": {},
     "output_type": "execute_result"
    }
   ],
   "source": [
    "df.shape"
   ]
  },
  {
   "cell_type": "code",
   "execution_count": 8,
   "metadata": {
    "ExecuteTime": {
     "end_time": "2019-02-12T08:39:33.570188Z",
     "start_time": "2019-02-12T08:39:33.542281Z"
    }
   },
   "outputs": [
    {
     "data": {
      "text/plain": [
       "7090"
      ]
     },
     "execution_count": 8,
     "metadata": {},
     "output_type": "execute_result"
    }
   ],
   "source": [
    "# Number of unique players\n",
    "len(df['player'].value_counts())"
   ]
  },
  {
   "cell_type": "code",
   "execution_count": 9,
   "metadata": {
    "ExecuteTime": {
     "end_time": "2019-02-12T08:39:33.595777Z",
     "start_time": "2019-02-12T08:39:33.583733Z"
    }
   },
   "outputs": [
    {
     "data": {
      "text/plain": [
       "2.5047287899860917"
      ]
     },
     "execution_count": 9,
     "metadata": {},
     "output_type": "execute_result"
    }
   ],
   "source": [
    "df['goals'].mean()"
   ]
  },
  {
   "cell_type": "code",
   "execution_count": 10,
   "metadata": {
    "ExecuteTime": {
     "end_time": "2019-02-12T08:39:33.693804Z",
     "start_time": "2019-02-12T08:39:33.611081Z"
    },
    "scrolled": false
   },
   "outputs": [
    {
     "data": {
      "text/html": [
       "<div>\n",
       "<style scoped>\n",
       "    .dataframe tbody tr th:only-of-type {\n",
       "        vertical-align: middle;\n",
       "    }\n",
       "\n",
       "    .dataframe tbody tr th {\n",
       "        vertical-align: top;\n",
       "    }\n",
       "\n",
       "    .dataframe thead th {\n",
       "        text-align: right;\n",
       "    }\n",
       "</style>\n",
       "<table border=\"1\" class=\"dataframe\">\n",
       "  <thead>\n",
       "    <tr style=\"text-align: right;\">\n",
       "      <th></th>\n",
       "      <th>player</th>\n",
       "      <th>current_team</th>\n",
       "      <th>current_year</th>\n",
       "      <th>birthdate_age</th>\n",
       "      <th>nationality</th>\n",
       "      <th>height_m</th>\n",
       "      <th>foot</th>\n",
       "      <th>date_joined</th>\n",
       "      <th>year_joined</th>\n",
       "      <th>signed_from</th>\n",
       "      <th>transfer_fee</th>\n",
       "      <th>contract_until</th>\n",
       "      <th>market_value</th>\n",
       "      <th>number</th>\n",
       "      <th>position</th>\n",
       "      <th>general_position</th>\n",
       "      <th>age</th>\n",
       "      <th>in_squad</th>\n",
       "      <th>appearances</th>\n",
       "      <th>goals</th>\n",
       "      <th>assists</th>\n",
       "      <th>yellow_card</th>\n",
       "      <th>second_yellow</th>\n",
       "      <th>red_cards</th>\n",
       "      <th>substituted_on</th>\n",
       "      <th>substituted_off</th>\n",
       "      <th>ppm</th>\n",
       "      <th>minutes_played</th>\n",
       "    </tr>\n",
       "  </thead>\n",
       "  <tbody>\n",
       "    <tr>\n",
       "      <th>6176</th>\n",
       "      <td>Lionel Messi</td>\n",
       "      <td>fc-barcelona</td>\n",
       "      <td>2011</td>\n",
       "      <td>Jun 24, 1987 (24)</td>\n",
       "      <td>Argentina</td>\n",
       "      <td>1.70</td>\n",
       "      <td>left</td>\n",
       "      <td>Jul 1, 2005</td>\n",
       "      <td>2005</td>\n",
       "      <td>FC Barcelona</td>\n",
       "      <td>0.0</td>\n",
       "      <td>30.06.2021</td>\n",
       "      <td>90000000.0</td>\n",
       "      <td>10</td>\n",
       "      <td>Right Winger</td>\n",
       "      <td>Forward</td>\n",
       "      <td>24.0</td>\n",
       "      <td>60.0</td>\n",
       "      <td>60.0</td>\n",
       "      <td>73.0</td>\n",
       "      <td>29.0</td>\n",
       "      <td>9.0</td>\n",
       "      <td>0.0</td>\n",
       "      <td>0.0</td>\n",
       "      <td>3.0</td>\n",
       "      <td>0.0</td>\n",
       "      <td>2.37</td>\n",
       "      <td>5221.0</td>\n",
       "    </tr>\n",
       "    <tr>\n",
       "      <th>6198</th>\n",
       "      <td>Cristiano Ronaldo</td>\n",
       "      <td>real-madrid</td>\n",
       "      <td>2011</td>\n",
       "      <td>Feb 5, 1985 (26)</td>\n",
       "      <td>Portugal</td>\n",
       "      <td>1.87</td>\n",
       "      <td>both</td>\n",
       "      <td>Jul 1, 2009</td>\n",
       "      <td>2009</td>\n",
       "      <td>Manchester United</td>\n",
       "      <td>84600000.0</td>\n",
       "      <td>30.06.2021</td>\n",
       "      <td>81000000.0</td>\n",
       "      <td>7</td>\n",
       "      <td>Left Winger</td>\n",
       "      <td>Forward</td>\n",
       "      <td>26.0</td>\n",
       "      <td>56.0</td>\n",
       "      <td>55.0</td>\n",
       "      <td>60.0</td>\n",
       "      <td>15.0</td>\n",
       "      <td>7.0</td>\n",
       "      <td>0.0</td>\n",
       "      <td>0.0</td>\n",
       "      <td>1.0</td>\n",
       "      <td>3.0</td>\n",
       "      <td>2.42</td>\n",
       "      <td>4902.0</td>\n",
       "    </tr>\n",
       "    <tr>\n",
       "      <th>8610</th>\n",
       "      <td>Lionel Messi</td>\n",
       "      <td>fc-barcelona</td>\n",
       "      <td>2012</td>\n",
       "      <td>Jun 24, 1987 (25)</td>\n",
       "      <td>Argentina</td>\n",
       "      <td>1.70</td>\n",
       "      <td>left</td>\n",
       "      <td>Jul 1, 2005</td>\n",
       "      <td>2005</td>\n",
       "      <td>FC Barcelona</td>\n",
       "      <td>0.0</td>\n",
       "      <td>30.06.2021</td>\n",
       "      <td>90000000.0</td>\n",
       "      <td>10</td>\n",
       "      <td>Right Winger</td>\n",
       "      <td>Forward</td>\n",
       "      <td>25.0</td>\n",
       "      <td>52.0</td>\n",
       "      <td>50.0</td>\n",
       "      <td>60.0</td>\n",
       "      <td>15.0</td>\n",
       "      <td>2.0</td>\n",
       "      <td>0.0</td>\n",
       "      <td>0.0</td>\n",
       "      <td>6.0</td>\n",
       "      <td>4.0</td>\n",
       "      <td>2.22</td>\n",
       "      <td>4070.0</td>\n",
       "    </tr>\n",
       "    <tr>\n",
       "      <th>13811</th>\n",
       "      <td>Luis Suárez</td>\n",
       "      <td>fc-barcelona</td>\n",
       "      <td>2015</td>\n",
       "      <td>Jan 24, 1987 (28)</td>\n",
       "      <td>Uruguay</td>\n",
       "      <td>1.82</td>\n",
       "      <td>right</td>\n",
       "      <td>Jul 11, 2014</td>\n",
       "      <td>2014</td>\n",
       "      <td>FC Barcelona</td>\n",
       "      <td>0.0</td>\n",
       "      <td>30.06.2021</td>\n",
       "      <td>54000000.0</td>\n",
       "      <td>9</td>\n",
       "      <td>Centre-Forward</td>\n",
       "      <td>Forward</td>\n",
       "      <td>28.0</td>\n",
       "      <td>57.0</td>\n",
       "      <td>53.0</td>\n",
       "      <td>59.0</td>\n",
       "      <td>24.0</td>\n",
       "      <td>10.0</td>\n",
       "      <td>0.0</td>\n",
       "      <td>0.0</td>\n",
       "      <td>0.0</td>\n",
       "      <td>1.0</td>\n",
       "      <td>2.43</td>\n",
       "      <td>4766.0</td>\n",
       "    </tr>\n",
       "    <tr>\n",
       "      <th>8633</th>\n",
       "      <td>Cristiano Ronaldo</td>\n",
       "      <td>real-madrid</td>\n",
       "      <td>2012</td>\n",
       "      <td>Feb 5, 1985 (27)</td>\n",
       "      <td>Portugal</td>\n",
       "      <td>1.87</td>\n",
       "      <td>both</td>\n",
       "      <td>Jul 1, 2009</td>\n",
       "      <td>2009</td>\n",
       "      <td>Manchester United</td>\n",
       "      <td>84600000.0</td>\n",
       "      <td>30.06.2021</td>\n",
       "      <td>81000000.0</td>\n",
       "      <td>7</td>\n",
       "      <td>Left Winger</td>\n",
       "      <td>Forward</td>\n",
       "      <td>27.0</td>\n",
       "      <td>56.0</td>\n",
       "      <td>55.0</td>\n",
       "      <td>55.0</td>\n",
       "      <td>13.0</td>\n",
       "      <td>13.0</td>\n",
       "      <td>0.0</td>\n",
       "      <td>1.0</td>\n",
       "      <td>4.0</td>\n",
       "      <td>5.0</td>\n",
       "      <td>2.04</td>\n",
       "      <td>4631.0</td>\n",
       "    </tr>\n",
       "  </tbody>\n",
       "</table>\n",
       "</div>"
      ],
      "text/plain": [
       "                  player  current_team  current_year      birthdate_age  \\\n",
       "6176   Lionel Messi       fc-barcelona  2011          Jun 24, 1987 (24)   \n",
       "6198   Cristiano Ronaldo  real-madrid   2011          Feb 5, 1985 (26)    \n",
       "8610   Lionel Messi       fc-barcelona  2012          Jun 24, 1987 (25)   \n",
       "13811  Luis Suárez        fc-barcelona  2015          Jan 24, 1987 (28)   \n",
       "8633   Cristiano Ronaldo  real-madrid   2012          Feb 5, 1985 (27)    \n",
       "\n",
       "      nationality  height_m   foot   date_joined year_joined  \\\n",
       "6176   Argentina   1.70      left   Jul 1, 2005   2005         \n",
       "6198   Portugal    1.87      both   Jul 1, 2009   2009         \n",
       "8610   Argentina   1.70      left   Jul 1, 2005   2005         \n",
       "13811  Uruguay     1.82      right  Jul 11, 2014  2014         \n",
       "8633   Portugal    1.87      both   Jul 1, 2009   2009         \n",
       "\n",
       "             signed_from  transfer_fee contract_until  market_value  number  \\\n",
       "6176   FC Barcelona       0.0           30.06.2021     90000000.0    10       \n",
       "6198   Manchester United  84600000.0    30.06.2021     81000000.0    7        \n",
       "8610   FC Barcelona       0.0           30.06.2021     90000000.0    10       \n",
       "13811  FC Barcelona       0.0           30.06.2021     54000000.0    9        \n",
       "8633   Manchester United  84600000.0    30.06.2021     81000000.0    7        \n",
       "\n",
       "             position general_position   age  in_squad  appearances  goals  \\\n",
       "6176   Right Winger    Forward          24.0  60.0      60.0         73.0    \n",
       "6198   Left Winger     Forward          26.0  56.0      55.0         60.0    \n",
       "8610   Right Winger    Forward          25.0  52.0      50.0         60.0    \n",
       "13811  Centre-Forward  Forward          28.0  57.0      53.0         59.0    \n",
       "8633   Left Winger     Forward          27.0  56.0      55.0         55.0    \n",
       "\n",
       "       assists  yellow_card  second_yellow  red_cards  substituted_on  \\\n",
       "6176   29.0     9.0          0.0            0.0        3.0              \n",
       "6198   15.0     7.0          0.0            0.0        1.0              \n",
       "8610   15.0     2.0          0.0            0.0        6.0              \n",
       "13811  24.0     10.0         0.0            0.0        0.0              \n",
       "8633   13.0     13.0         0.0            1.0        4.0              \n",
       "\n",
       "       substituted_off   ppm  minutes_played  \n",
       "6176   0.0              2.37  5221.0          \n",
       "6198   3.0              2.42  4902.0          \n",
       "8610   4.0              2.22  4070.0          \n",
       "13811  1.0              2.43  4766.0          \n",
       "8633   5.0              2.04  4631.0          "
      ]
     },
     "execution_count": 10,
     "metadata": {},
     "output_type": "execute_result"
    }
   ],
   "source": [
    "df.sort_values(by='goals', ascending=False).head(5)"
   ]
  },
  {
   "cell_type": "code",
   "execution_count": 11,
   "metadata": {
    "ExecuteTime": {
     "end_time": "2019-02-12T08:39:33.716119Z",
     "start_time": "2019-02-12T08:39:33.704760Z"
    }
   },
   "outputs": [
    {
     "data": {
      "text/plain": [
       "23.079972183588318"
      ]
     },
     "execution_count": 11,
     "metadata": {},
     "output_type": "execute_result"
    }
   ],
   "source": [
    "df['appearances'].mean()"
   ]
  },
  {
   "cell_type": "code",
   "execution_count": 12,
   "metadata": {
    "ExecuteTime": {
     "end_time": "2019-02-12T08:39:33.731208Z",
     "start_time": "2019-02-12T08:39:33.720813Z"
    }
   },
   "outputs": [
    {
     "data": {
      "text/plain": [
       "25.511451089476125"
      ]
     },
     "execution_count": 12,
     "metadata": {},
     "output_type": "execute_result"
    }
   ],
   "source": [
    "df['age'].mean()"
   ]
  },
  {
   "cell_type": "code",
   "execution_count": 13,
   "metadata": {
    "ExecuteTime": {
     "end_time": "2019-02-12T08:39:33.796629Z",
     "start_time": "2019-02-12T08:39:33.736465Z"
    },
    "scrolled": true
   },
   "outputs": [
    {
     "data": {
      "text/html": [
       "<div>\n",
       "<style scoped>\n",
       "    .dataframe tbody tr th:only-of-type {\n",
       "        vertical-align: middle;\n",
       "    }\n",
       "\n",
       "    .dataframe tbody tr th {\n",
       "        vertical-align: top;\n",
       "    }\n",
       "\n",
       "    .dataframe thead th {\n",
       "        text-align: right;\n",
       "    }\n",
       "</style>\n",
       "<table border=\"1\" class=\"dataframe\">\n",
       "  <thead>\n",
       "    <tr style=\"text-align: right;\">\n",
       "      <th></th>\n",
       "      <th>player</th>\n",
       "      <th>current_team</th>\n",
       "      <th>current_year</th>\n",
       "      <th>birthdate_age</th>\n",
       "      <th>nationality</th>\n",
       "      <th>height_m</th>\n",
       "      <th>foot</th>\n",
       "      <th>date_joined</th>\n",
       "      <th>year_joined</th>\n",
       "      <th>signed_from</th>\n",
       "      <th>transfer_fee</th>\n",
       "      <th>contract_until</th>\n",
       "      <th>market_value</th>\n",
       "      <th>number</th>\n",
       "      <th>position</th>\n",
       "      <th>general_position</th>\n",
       "      <th>age</th>\n",
       "      <th>in_squad</th>\n",
       "      <th>appearances</th>\n",
       "      <th>goals</th>\n",
       "      <th>assists</th>\n",
       "      <th>yellow_card</th>\n",
       "      <th>second_yellow</th>\n",
       "      <th>red_cards</th>\n",
       "      <th>substituted_on</th>\n",
       "      <th>substituted_off</th>\n",
       "      <th>ppm</th>\n",
       "      <th>minutes_played</th>\n",
       "    </tr>\n",
       "  </thead>\n",
       "  <tbody>\n",
       "    <tr>\n",
       "      <th>15966</th>\n",
       "      <td>Mark Schwarzer</td>\n",
       "      <td>leicester-city</td>\n",
       "      <td>2015</td>\n",
       "      <td>Oct 6, 1972 (42)</td>\n",
       "      <td>Australia</td>\n",
       "      <td>1.94</td>\n",
       "      <td>right</td>\n",
       "      <td>Jan 6, 2015</td>\n",
       "      <td>2014</td>\n",
       "      <td>Retired</td>\n",
       "      <td>0.0</td>\n",
       "      <td>-</td>\n",
       "      <td>450000.0</td>\n",
       "      <td>32</td>\n",
       "      <td>Goalkeeper</td>\n",
       "      <td>Goalkeeper</td>\n",
       "      <td>42.0</td>\n",
       "      <td>42.0</td>\n",
       "      <td>3.0</td>\n",
       "      <td>0.0</td>\n",
       "      <td>0.0</td>\n",
       "      <td>0.0</td>\n",
       "      <td>0.0</td>\n",
       "      <td>0.0</td>\n",
       "      <td>0.0</td>\n",
       "      <td>0.0</td>\n",
       "      <td>2.00</td>\n",
       "      <td>330.0</td>\n",
       "    </tr>\n",
       "    <tr>\n",
       "      <th>13422</th>\n",
       "      <td>Mark Schwarzer</td>\n",
       "      <td>leicester-city</td>\n",
       "      <td>2014</td>\n",
       "      <td>Oct 6, 1972 (41)</td>\n",
       "      <td>Australia</td>\n",
       "      <td>1.94</td>\n",
       "      <td>right</td>\n",
       "      <td>Jan 6, 2015</td>\n",
       "      <td>2014</td>\n",
       "      <td>Australia</td>\n",
       "      <td>0.0</td>\n",
       "      <td>-</td>\n",
       "      <td>900000.0</td>\n",
       "      <td>32</td>\n",
       "      <td>Goalkeeper</td>\n",
       "      <td>Goalkeeper</td>\n",
       "      <td>41.0</td>\n",
       "      <td>20.0</td>\n",
       "      <td>8.0</td>\n",
       "      <td>0.0</td>\n",
       "      <td>0.0</td>\n",
       "      <td>0.0</td>\n",
       "      <td>0.0</td>\n",
       "      <td>0.0</td>\n",
       "      <td>0.0</td>\n",
       "      <td>0.0</td>\n",
       "      <td>0.63</td>\n",
       "      <td>720.0</td>\n",
       "    </tr>\n",
       "    <tr>\n",
       "      <th>10540</th>\n",
       "      <td>Brad Friedel</td>\n",
       "      <td>tottenham-hotspur</td>\n",
       "      <td>2012</td>\n",
       "      <td>May 18, 1971 (41)</td>\n",
       "      <td>United States</td>\n",
       "      <td>1.91</td>\n",
       "      <td>right</td>\n",
       "      <td>Jul 1, 2011</td>\n",
       "      <td>2011</td>\n",
       "      <td>Aston Villa</td>\n",
       "      <td>0.0</td>\n",
       "      <td>-</td>\n",
       "      <td>900000.0</td>\n",
       "      <td>24</td>\n",
       "      <td>Goalkeeper</td>\n",
       "      <td>Goalkeeper</td>\n",
       "      <td>41.0</td>\n",
       "      <td>47.0</td>\n",
       "      <td>20.0</td>\n",
       "      <td>0.0</td>\n",
       "      <td>0.0</td>\n",
       "      <td>1.0</td>\n",
       "      <td>0.0</td>\n",
       "      <td>0.0</td>\n",
       "      <td>0.0</td>\n",
       "      <td>0.0</td>\n",
       "      <td>1.55</td>\n",
       "      <td>1830.0</td>\n",
       "    </tr>\n",
       "    <tr>\n",
       "      <th>10759</th>\n",
       "      <td>David James</td>\n",
       "      <td>afc-bournemouth</td>\n",
       "      <td>2012</td>\n",
       "      <td>Aug 1, 1970 (41)</td>\n",
       "      <td>England</td>\n",
       "      <td>1.93</td>\n",
       "      <td>right</td>\n",
       "      <td>Sep 28, 2012</td>\n",
       "      <td>2012</td>\n",
       "      <td>England</td>\n",
       "      <td>0.0</td>\n",
       "      <td>-</td>\n",
       "      <td>225000.0</td>\n",
       "      <td>34</td>\n",
       "      <td>Goalkeeper</td>\n",
       "      <td>Goalkeeper</td>\n",
       "      <td>41.0</td>\n",
       "      <td>23.0</td>\n",
       "      <td>19.0</td>\n",
       "      <td>0.0</td>\n",
       "      <td>0.0</td>\n",
       "      <td>1.0</td>\n",
       "      <td>0.0</td>\n",
       "      <td>0.0</td>\n",
       "      <td>0.0</td>\n",
       "      <td>0.0</td>\n",
       "      <td>1.84</td>\n",
       "      <td>1710.0</td>\n",
       "    </tr>\n",
       "    <tr>\n",
       "      <th>863</th>\n",
       "      <td>Paolo Maldini</td>\n",
       "      <td>ac-mailand</td>\n",
       "      <td>2008</td>\n",
       "      <td>Jun 26, 1968 (40)</td>\n",
       "      <td>Italy</td>\n",
       "      <td>1.86</td>\n",
       "      <td>both</td>\n",
       "      <td>Jul 1, 1985</td>\n",
       "      <td>1985</td>\n",
       "      <td>Milan Primavera</td>\n",
       "      <td>0.0</td>\n",
       "      <td>-</td>\n",
       "      <td>1800000.0</td>\n",
       "      <td>3</td>\n",
       "      <td>Centre-Back</td>\n",
       "      <td>Defender</td>\n",
       "      <td>40.0</td>\n",
       "      <td>37.0</td>\n",
       "      <td>32.0</td>\n",
       "      <td>0.0</td>\n",
       "      <td>1.0</td>\n",
       "      <td>6.0</td>\n",
       "      <td>0.0</td>\n",
       "      <td>0.0</td>\n",
       "      <td>1.0</td>\n",
       "      <td>2.0</td>\n",
       "      <td>1.84</td>\n",
       "      <td>2781.0</td>\n",
       "    </tr>\n",
       "  </tbody>\n",
       "</table>\n",
       "</div>"
      ],
      "text/plain": [
       "               player       current_team  current_year      birthdate_age  \\\n",
       "15966  Mark Schwarzer  leicester-city     2015          Oct 6, 1972 (42)    \n",
       "13422  Mark Schwarzer  leicester-city     2014          Oct 6, 1972 (41)    \n",
       "10540  Brad Friedel    tottenham-hotspur  2012          May 18, 1971 (41)   \n",
       "10759  David James     afc-bournemouth    2012          Aug 1, 1970 (41)    \n",
       "863    Paolo Maldini   ac-mailand         2008          Jun 26, 1968 (40)   \n",
       "\n",
       "         nationality  height_m   foot   date_joined year_joined  \\\n",
       "15966  Australia      1.94      right  Jan 6, 2015   2014         \n",
       "13422  Australia      1.94      right  Jan 6, 2015   2014         \n",
       "10540  United States  1.91      right  Jul 1, 2011   2011         \n",
       "10759  England        1.93      right  Sep 28, 2012  2012         \n",
       "863    Italy          1.86      both   Jul 1, 1985   1985         \n",
       "\n",
       "           signed_from  transfer_fee contract_until  market_value  number  \\\n",
       "15966  Retired          0.0           -              450000.0      32       \n",
       "13422  Australia        0.0           -              900000.0      32       \n",
       "10540  Aston Villa      0.0           -              900000.0      24       \n",
       "10759  England          0.0           -              225000.0      34       \n",
       "863    Milan Primavera  0.0           -              1800000.0     3        \n",
       "\n",
       "          position general_position   age  in_squad  appearances  goals  \\\n",
       "15966  Goalkeeper   Goalkeeper       42.0  42.0      3.0          0.0     \n",
       "13422  Goalkeeper   Goalkeeper       41.0  20.0      8.0          0.0     \n",
       "10540  Goalkeeper   Goalkeeper       41.0  47.0      20.0         0.0     \n",
       "10759  Goalkeeper   Goalkeeper       41.0  23.0      19.0         0.0     \n",
       "863    Centre-Back  Defender         40.0  37.0      32.0         0.0     \n",
       "\n",
       "       assists  yellow_card  second_yellow  red_cards  substituted_on  \\\n",
       "15966  0.0      0.0          0.0            0.0        0.0              \n",
       "13422  0.0      0.0          0.0            0.0        0.0              \n",
       "10540  0.0      1.0          0.0            0.0        0.0              \n",
       "10759  0.0      1.0          0.0            0.0        0.0              \n",
       "863    1.0      6.0          0.0            0.0        1.0              \n",
       "\n",
       "       substituted_off   ppm  minutes_played  \n",
       "15966  0.0              2.00  330.0           \n",
       "13422  0.0              0.63  720.0           \n",
       "10540  0.0              1.55  1830.0          \n",
       "10759  0.0              1.84  1710.0          \n",
       "863    2.0              1.84  2781.0          "
      ]
     },
     "execution_count": 13,
     "metadata": {},
     "output_type": "execute_result"
    }
   ],
   "source": [
    "df.sort_values(by='age', ascending=False).head(5)"
   ]
  },
  {
   "cell_type": "code",
   "execution_count": 14,
   "metadata": {
    "ExecuteTime": {
     "end_time": "2019-02-12T08:39:33.885115Z",
     "start_time": "2019-02-12T08:39:33.805726Z"
    }
   },
   "outputs": [
    {
     "data": {
      "text/html": [
       "<div>\n",
       "<style scoped>\n",
       "    .dataframe tbody tr th:only-of-type {\n",
       "        vertical-align: middle;\n",
       "    }\n",
       "\n",
       "    .dataframe tbody tr th {\n",
       "        vertical-align: top;\n",
       "    }\n",
       "\n",
       "    .dataframe thead th {\n",
       "        text-align: right;\n",
       "    }\n",
       "</style>\n",
       "<table border=\"1\" class=\"dataframe\">\n",
       "  <thead>\n",
       "    <tr style=\"text-align: right;\">\n",
       "      <th></th>\n",
       "      <th>player</th>\n",
       "      <th>current_team</th>\n",
       "      <th>current_year</th>\n",
       "      <th>birthdate_age</th>\n",
       "      <th>nationality</th>\n",
       "      <th>height_m</th>\n",
       "      <th>foot</th>\n",
       "      <th>date_joined</th>\n",
       "      <th>year_joined</th>\n",
       "      <th>signed_from</th>\n",
       "      <th>transfer_fee</th>\n",
       "      <th>contract_until</th>\n",
       "      <th>market_value</th>\n",
       "      <th>number</th>\n",
       "      <th>position</th>\n",
       "      <th>general_position</th>\n",
       "      <th>age</th>\n",
       "      <th>in_squad</th>\n",
       "      <th>appearances</th>\n",
       "      <th>goals</th>\n",
       "      <th>assists</th>\n",
       "      <th>yellow_card</th>\n",
       "      <th>second_yellow</th>\n",
       "      <th>red_cards</th>\n",
       "      <th>substituted_on</th>\n",
       "      <th>substituted_off</th>\n",
       "      <th>ppm</th>\n",
       "      <th>minutes_played</th>\n",
       "    </tr>\n",
       "  </thead>\n",
       "  <tbody>\n",
       "    <tr>\n",
       "      <th>4004</th>\n",
       "      <td>Enrique de Lucas</td>\n",
       "      <td>celta-vigo</td>\n",
       "      <td>2010</td>\n",
       "      <td>Aug 17, 1978 (31)</td>\n",
       "      <td>Spain</td>\n",
       "      <td>1.74</td>\n",
       "      <td>right</td>\n",
       "      <td>Jul 1, 2010</td>\n",
       "      <td>2010</td>\n",
       "      <td>Spain</td>\n",
       "      <td>0.0</td>\n",
       "      <td>-</td>\n",
       "      <td>900000.0</td>\n",
       "      <td>22</td>\n",
       "      <td>Attacking Midfield</td>\n",
       "      <td>Midfielder</td>\n",
       "      <td>31.0</td>\n",
       "      <td>39.0</td>\n",
       "      <td>76.0</td>\n",
       "      <td>18.0</td>\n",
       "      <td>0.0</td>\n",
       "      <td>22.0</td>\n",
       "      <td>0.0</td>\n",
       "      <td>0.0</td>\n",
       "      <td>11.0</td>\n",
       "      <td>41.0</td>\n",
       "      <td>0.83</td>\n",
       "      <td>5382.0</td>\n",
       "    </tr>\n",
       "    <tr>\n",
       "      <th>4009</th>\n",
       "      <td>David Rodríguez</td>\n",
       "      <td>celta-vigo</td>\n",
       "      <td>2010</td>\n",
       "      <td>Feb 14, 1986 (24)</td>\n",
       "      <td>Spain</td>\n",
       "      <td>1.80</td>\n",
       "      <td>right</td>\n",
       "      <td>Jul 1, 2010</td>\n",
       "      <td>2010</td>\n",
       "      <td>Spain</td>\n",
       "      <td>0.0</td>\n",
       "      <td>-</td>\n",
       "      <td>1080000.0</td>\n",
       "      <td>18</td>\n",
       "      <td>Centre-Forward</td>\n",
       "      <td>Forward</td>\n",
       "      <td>24.0</td>\n",
       "      <td>42.0</td>\n",
       "      <td>74.0</td>\n",
       "      <td>36.0</td>\n",
       "      <td>0.0</td>\n",
       "      <td>12.0</td>\n",
       "      <td>0.0</td>\n",
       "      <td>0.0</td>\n",
       "      <td>2.0</td>\n",
       "      <td>49.0</td>\n",
       "      <td>0.84</td>\n",
       "      <td>5774.0</td>\n",
       "    </tr>\n",
       "    <tr>\n",
       "      <th>4006</th>\n",
       "      <td>Dani Abalo</td>\n",
       "      <td>celta-vigo</td>\n",
       "      <td>2010</td>\n",
       "      <td>Sep 29, 1987 (22)</td>\n",
       "      <td>Spain</td>\n",
       "      <td>1.77</td>\n",
       "      <td>right</td>\n",
       "      <td>Jul 1, 2005</td>\n",
       "      <td>2005</td>\n",
       "      <td>Celta Vigo B</td>\n",
       "      <td>0.0</td>\n",
       "      <td>-</td>\n",
       "      <td>1080000.0</td>\n",
       "      <td>7</td>\n",
       "      <td>Right Winger</td>\n",
       "      <td>Forward</td>\n",
       "      <td>22.0</td>\n",
       "      <td>43.0</td>\n",
       "      <td>69.0</td>\n",
       "      <td>7.0</td>\n",
       "      <td>0.0</td>\n",
       "      <td>5.0</td>\n",
       "      <td>0.0</td>\n",
       "      <td>0.0</td>\n",
       "      <td>51.0</td>\n",
       "      <td>16.0</td>\n",
       "      <td>0.80</td>\n",
       "      <td>2172.0</td>\n",
       "    </tr>\n",
       "    <tr>\n",
       "      <th>4008</th>\n",
       "      <td>Michu</td>\n",
       "      <td>celta-vigo</td>\n",
       "      <td>2010</td>\n",
       "      <td>Mar 21, 1986 (24)</td>\n",
       "      <td>Spain</td>\n",
       "      <td>1.85</td>\n",
       "      <td>left</td>\n",
       "      <td>Mar 1, 2008</td>\n",
       "      <td>2007</td>\n",
       "      <td>Celta Vigo B</td>\n",
       "      <td>0.0</td>\n",
       "      <td>-</td>\n",
       "      <td>720000.0</td>\n",
       "      <td>5</td>\n",
       "      <td>Second Striker</td>\n",
       "      <td>Forward</td>\n",
       "      <td>24.0</td>\n",
       "      <td>45.0</td>\n",
       "      <td>66.0</td>\n",
       "      <td>13.0</td>\n",
       "      <td>0.0</td>\n",
       "      <td>5.0</td>\n",
       "      <td>0.0</td>\n",
       "      <td>0.0</td>\n",
       "      <td>28.0</td>\n",
       "      <td>19.0</td>\n",
       "      <td>0.73</td>\n",
       "      <td>3628.0</td>\n",
       "    </tr>\n",
       "    <tr>\n",
       "      <th>10529</th>\n",
       "      <td>Juan Mata</td>\n",
       "      <td>fc-chelsea</td>\n",
       "      <td>2012</td>\n",
       "      <td>Apr 28, 1988 (24)</td>\n",
       "      <td>Spain</td>\n",
       "      <td>1.70</td>\n",
       "      <td>left</td>\n",
       "      <td>Aug 24, 2011</td>\n",
       "      <td>2011</td>\n",
       "      <td>Valencia CF</td>\n",
       "      <td>24030000.0</td>\n",
       "      <td>-</td>\n",
       "      <td>34200000.0</td>\n",
       "      <td>10</td>\n",
       "      <td>Attacking Midfield</td>\n",
       "      <td>Midfielder</td>\n",
       "      <td>24.0</td>\n",
       "      <td>65.0</td>\n",
       "      <td>64.0</td>\n",
       "      <td>19.0</td>\n",
       "      <td>35.0</td>\n",
       "      <td>4.0</td>\n",
       "      <td>0.0</td>\n",
       "      <td>0.0</td>\n",
       "      <td>9.0</td>\n",
       "      <td>30.0</td>\n",
       "      <td>1.97</td>\n",
       "      <td>4909.0</td>\n",
       "    </tr>\n",
       "  </tbody>\n",
       "</table>\n",
       "</div>"
      ],
      "text/plain": [
       "                 player current_team  current_year      birthdate_age  \\\n",
       "4004   Enrique de Lucas  celta-vigo   2010          Aug 17, 1978 (31)   \n",
       "4009   David Rodríguez   celta-vigo   2010          Feb 14, 1986 (24)   \n",
       "4006   Dani Abalo        celta-vigo   2010          Sep 29, 1987 (22)   \n",
       "4008   Michu             celta-vigo   2010          Mar 21, 1986 (24)   \n",
       "10529  Juan Mata         fc-chelsea   2012          Apr 28, 1988 (24)   \n",
       "\n",
       "      nationality  height_m   foot   date_joined year_joined   signed_from  \\\n",
       "4004   Spain       1.74      right  Jul 1, 2010   2010        Spain          \n",
       "4009   Spain       1.80      right  Jul 1, 2010   2010        Spain          \n",
       "4006   Spain       1.77      right  Jul 1, 2005   2005        Celta Vigo B   \n",
       "4008   Spain       1.85      left   Mar 1, 2008   2007        Celta Vigo B   \n",
       "10529  Spain       1.70      left   Aug 24, 2011  2011        Valencia CF    \n",
       "\n",
       "       transfer_fee contract_until  market_value  number            position  \\\n",
       "4004   0.0           -              900000.0      22      Attacking Midfield   \n",
       "4009   0.0           -              1080000.0     18      Centre-Forward       \n",
       "4006   0.0           -              1080000.0     7       Right Winger         \n",
       "4008   0.0           -              720000.0      5       Second Striker       \n",
       "10529  24030000.0    -              34200000.0    10      Attacking Midfield   \n",
       "\n",
       "      general_position   age  in_squad  appearances  goals  assists  \\\n",
       "4004   Midfielder       31.0  39.0      76.0         18.0   0.0       \n",
       "4009   Forward          24.0  42.0      74.0         36.0   0.0       \n",
       "4006   Forward          22.0  43.0      69.0         7.0    0.0       \n",
       "4008   Forward          24.0  45.0      66.0         13.0   0.0       \n",
       "10529  Midfielder       24.0  65.0      64.0         19.0   35.0      \n",
       "\n",
       "       yellow_card  second_yellow  red_cards  substituted_on  substituted_off  \\\n",
       "4004   22.0         0.0            0.0        11.0            41.0              \n",
       "4009   12.0         0.0            0.0        2.0             49.0              \n",
       "4006   5.0          0.0            0.0        51.0            16.0              \n",
       "4008   5.0          0.0            0.0        28.0            19.0              \n",
       "10529  4.0          0.0            0.0        9.0             30.0              \n",
       "\n",
       "        ppm  minutes_played  \n",
       "4004   0.83  5382.0          \n",
       "4009   0.84  5774.0          \n",
       "4006   0.80  2172.0          \n",
       "4008   0.73  3628.0          \n",
       "10529  1.97  4909.0          "
      ]
     },
     "execution_count": 14,
     "metadata": {},
     "output_type": "execute_result"
    }
   ],
   "source": [
    "df.sort_values(by='appearances', ascending=False).head(5)"
   ]
  },
  {
   "cell_type": "markdown",
   "metadata": {},
   "source": [
    "#### Market Value Info"
   ]
  },
  {
   "cell_type": "code",
   "execution_count": 15,
   "metadata": {
    "ExecuteTime": {
     "end_time": "2019-02-12T08:39:33.897836Z",
     "start_time": "2019-02-12T08:39:33.887787Z"
    }
   },
   "outputs": [
    {
     "data": {
      "text/plain": [
       "4412661.0"
      ]
     },
     "execution_count": 15,
     "metadata": {},
     "output_type": "execute_result"
    }
   ],
   "source": [
    "# What's average market value\n",
    "round(df['market_value'].mean(),0)"
   ]
  },
  {
   "cell_type": "code",
   "execution_count": 16,
   "metadata": {
    "ExecuteTime": {
     "end_time": "2019-02-12T08:39:33.913577Z",
     "start_time": "2019-02-12T08:39:33.902514Z"
    }
   },
   "outputs": [
    {
     "data": {
      "text/plain": [
       "1800000.0"
      ]
     },
     "execution_count": 16,
     "metadata": {},
     "output_type": "execute_result"
    }
   ],
   "source": [
    "# What's median market value\n",
    "round(df['market_value'].median(),0)"
   ]
  },
  {
   "cell_type": "code",
   "execution_count": 17,
   "metadata": {
    "ExecuteTime": {
     "end_time": "2019-02-12T08:39:33.999042Z",
     "start_time": "2019-02-12T08:39:33.918454Z"
    }
   },
   "outputs": [
    {
     "data": {
      "text/html": [
       "<div>\n",
       "<style scoped>\n",
       "    .dataframe tbody tr th:only-of-type {\n",
       "        vertical-align: middle;\n",
       "    }\n",
       "\n",
       "    .dataframe tbody tr th {\n",
       "        vertical-align: top;\n",
       "    }\n",
       "\n",
       "    .dataframe thead th {\n",
       "        text-align: right;\n",
       "    }\n",
       "</style>\n",
       "<table border=\"1\" class=\"dataframe\">\n",
       "  <thead>\n",
       "    <tr style=\"text-align: right;\">\n",
       "      <th></th>\n",
       "      <th>player</th>\n",
       "      <th>current_team</th>\n",
       "      <th>current_year</th>\n",
       "      <th>birthdate_age</th>\n",
       "      <th>nationality</th>\n",
       "      <th>height_m</th>\n",
       "      <th>foot</th>\n",
       "      <th>date_joined</th>\n",
       "      <th>year_joined</th>\n",
       "      <th>signed_from</th>\n",
       "      <th>transfer_fee</th>\n",
       "      <th>contract_until</th>\n",
       "      <th>market_value</th>\n",
       "      <th>number</th>\n",
       "      <th>position</th>\n",
       "      <th>general_position</th>\n",
       "      <th>age</th>\n",
       "      <th>in_squad</th>\n",
       "      <th>appearances</th>\n",
       "      <th>goals</th>\n",
       "      <th>assists</th>\n",
       "      <th>yellow_card</th>\n",
       "      <th>second_yellow</th>\n",
       "      <th>red_cards</th>\n",
       "      <th>substituted_on</th>\n",
       "      <th>substituted_off</th>\n",
       "      <th>ppm</th>\n",
       "      <th>minutes_played</th>\n",
       "    </tr>\n",
       "  </thead>\n",
       "  <tbody>\n",
       "    <tr>\n",
       "      <th>13809</th>\n",
       "      <td>Lionel Messi</td>\n",
       "      <td>fc-barcelona</td>\n",
       "      <td>2015</td>\n",
       "      <td>Jun 24, 1987 (28)</td>\n",
       "      <td>Argentina</td>\n",
       "      <td>1.70</td>\n",
       "      <td>left</td>\n",
       "      <td>Jul 1, 2005</td>\n",
       "      <td>2005</td>\n",
       "      <td>FC Barcelona</td>\n",
       "      <td>0.0</td>\n",
       "      <td>30.06.2021</td>\n",
       "      <td>108000000.0</td>\n",
       "      <td>10</td>\n",
       "      <td>Right Winger</td>\n",
       "      <td>Forward</td>\n",
       "      <td>28.0</td>\n",
       "      <td>49.0</td>\n",
       "      <td>49.0</td>\n",
       "      <td>41.0</td>\n",
       "      <td>23.0</td>\n",
       "      <td>5.0</td>\n",
       "      <td>0.0</td>\n",
       "      <td>0.0</td>\n",
       "      <td>2.0</td>\n",
       "      <td>2.0</td>\n",
       "      <td>2.35</td>\n",
       "      <td>4229.0</td>\n",
       "    </tr>\n",
       "    <tr>\n",
       "      <th>13831</th>\n",
       "      <td>Cristiano Ronaldo</td>\n",
       "      <td>real-madrid</td>\n",
       "      <td>2015</td>\n",
       "      <td>Feb 5, 1985 (30)</td>\n",
       "      <td>Portugal</td>\n",
       "      <td>1.87</td>\n",
       "      <td>both</td>\n",
       "      <td>Jul 1, 2009</td>\n",
       "      <td>2009</td>\n",
       "      <td>Manchester United</td>\n",
       "      <td>84600000.0</td>\n",
       "      <td>30.06.2021</td>\n",
       "      <td>108000000.0</td>\n",
       "      <td>7</td>\n",
       "      <td>Left Winger</td>\n",
       "      <td>Forward</td>\n",
       "      <td>30.0</td>\n",
       "      <td>48.0</td>\n",
       "      <td>48.0</td>\n",
       "      <td>51.0</td>\n",
       "      <td>15.0</td>\n",
       "      <td>3.0</td>\n",
       "      <td>0.0</td>\n",
       "      <td>0.0</td>\n",
       "      <td>0.0</td>\n",
       "      <td>4.0</td>\n",
       "      <td>2.40</td>\n",
       "      <td>4293.0</td>\n",
       "    </tr>\n",
       "    <tr>\n",
       "      <th>16367</th>\n",
       "      <td>Lionel Messi</td>\n",
       "      <td>fc-barcelona</td>\n",
       "      <td>2016</td>\n",
       "      <td>Jun 24, 1987 (29)</td>\n",
       "      <td>Argentina</td>\n",
       "      <td>1.70</td>\n",
       "      <td>left</td>\n",
       "      <td>Jul 1, 2005</td>\n",
       "      <td>2005</td>\n",
       "      <td>FC Barcelona</td>\n",
       "      <td>0.0</td>\n",
       "      <td>30.06.2021</td>\n",
       "      <td>108000000.0</td>\n",
       "      <td>10</td>\n",
       "      <td>Right Winger</td>\n",
       "      <td>Forward</td>\n",
       "      <td>29.0</td>\n",
       "      <td>52.0</td>\n",
       "      <td>52.0</td>\n",
       "      <td>54.0</td>\n",
       "      <td>16.0</td>\n",
       "      <td>9.0</td>\n",
       "      <td>0.0</td>\n",
       "      <td>0.0</td>\n",
       "      <td>2.0</td>\n",
       "      <td>4.0</td>\n",
       "      <td>2.33</td>\n",
       "      <td>4452.0</td>\n",
       "    </tr>\n",
       "    <tr>\n",
       "      <th>11042</th>\n",
       "      <td>Lionel Messi</td>\n",
       "      <td>fc-barcelona</td>\n",
       "      <td>2013</td>\n",
       "      <td>Jun 24, 1987 (26)</td>\n",
       "      <td>Argentina</td>\n",
       "      <td>1.70</td>\n",
       "      <td>left</td>\n",
       "      <td>Jul 1, 2005</td>\n",
       "      <td>2005</td>\n",
       "      <td>FC Barcelona</td>\n",
       "      <td>0.0</td>\n",
       "      <td>30.06.2021</td>\n",
       "      <td>108000000.0</td>\n",
       "      <td>10</td>\n",
       "      <td>Right Winger</td>\n",
       "      <td>Forward</td>\n",
       "      <td>26.0</td>\n",
       "      <td>47.0</td>\n",
       "      <td>46.0</td>\n",
       "      <td>41.0</td>\n",
       "      <td>14.0</td>\n",
       "      <td>3.0</td>\n",
       "      <td>0.0</td>\n",
       "      <td>0.0</td>\n",
       "      <td>3.0</td>\n",
       "      <td>6.0</td>\n",
       "      <td>2.13</td>\n",
       "      <td>3742.0</td>\n",
       "    </tr>\n",
       "    <tr>\n",
       "      <th>18968</th>\n",
       "      <td>Lionel Messi</td>\n",
       "      <td>fc-barcelona</td>\n",
       "      <td>2017</td>\n",
       "      <td>Jun 24, 1987 (30)</td>\n",
       "      <td>Argentina</td>\n",
       "      <td>1.70</td>\n",
       "      <td>left</td>\n",
       "      <td>Jul 1, 2005</td>\n",
       "      <td>2005</td>\n",
       "      <td>FC Barcelona</td>\n",
       "      <td>0.0</td>\n",
       "      <td>30.06.2021</td>\n",
       "      <td>108000000.0</td>\n",
       "      <td>10</td>\n",
       "      <td>Right Winger</td>\n",
       "      <td>Forward</td>\n",
       "      <td>30.0</td>\n",
       "      <td>54.0</td>\n",
       "      <td>54.0</td>\n",
       "      <td>45.0</td>\n",
       "      <td>18.0</td>\n",
       "      <td>7.0</td>\n",
       "      <td>0.0</td>\n",
       "      <td>0.0</td>\n",
       "      <td>6.0</td>\n",
       "      <td>1.0</td>\n",
       "      <td>2.33</td>\n",
       "      <td>4468.0</td>\n",
       "    </tr>\n",
       "  </tbody>\n",
       "</table>\n",
       "</div>"
      ],
      "text/plain": [
       "                  player  current_team  current_year      birthdate_age  \\\n",
       "13809  Lionel Messi       fc-barcelona  2015          Jun 24, 1987 (28)   \n",
       "13831  Cristiano Ronaldo  real-madrid   2015          Feb 5, 1985 (30)    \n",
       "16367  Lionel Messi       fc-barcelona  2016          Jun 24, 1987 (29)   \n",
       "11042  Lionel Messi       fc-barcelona  2013          Jun 24, 1987 (26)   \n",
       "18968  Lionel Messi       fc-barcelona  2017          Jun 24, 1987 (30)   \n",
       "\n",
       "      nationality  height_m  foot  date_joined year_joined        signed_from  \\\n",
       "13809  Argentina   1.70      left  Jul 1, 2005  2005        FC Barcelona        \n",
       "13831  Portugal    1.87      both  Jul 1, 2009  2009        Manchester United   \n",
       "16367  Argentina   1.70      left  Jul 1, 2005  2005        FC Barcelona        \n",
       "11042  Argentina   1.70      left  Jul 1, 2005  2005        FC Barcelona        \n",
       "18968  Argentina   1.70      left  Jul 1, 2005  2005        FC Barcelona        \n",
       "\n",
       "       transfer_fee contract_until  market_value  number      position  \\\n",
       "13809  0.0           30.06.2021     108000000.0   10      Right Winger   \n",
       "13831  84600000.0    30.06.2021     108000000.0   7       Left Winger    \n",
       "16367  0.0           30.06.2021     108000000.0   10      Right Winger   \n",
       "11042  0.0           30.06.2021     108000000.0   10      Right Winger   \n",
       "18968  0.0           30.06.2021     108000000.0   10      Right Winger   \n",
       "\n",
       "      general_position   age  in_squad  appearances  goals  assists  \\\n",
       "13809  Forward          28.0  49.0      49.0         41.0   23.0      \n",
       "13831  Forward          30.0  48.0      48.0         51.0   15.0      \n",
       "16367  Forward          29.0  52.0      52.0         54.0   16.0      \n",
       "11042  Forward          26.0  47.0      46.0         41.0   14.0      \n",
       "18968  Forward          30.0  54.0      54.0         45.0   18.0      \n",
       "\n",
       "       yellow_card  second_yellow  red_cards  substituted_on  substituted_off  \\\n",
       "13809  5.0          0.0            0.0        2.0             2.0               \n",
       "13831  3.0          0.0            0.0        0.0             4.0               \n",
       "16367  9.0          0.0            0.0        2.0             4.0               \n",
       "11042  3.0          0.0            0.0        3.0             6.0               \n",
       "18968  7.0          0.0            0.0        6.0             1.0               \n",
       "\n",
       "        ppm  minutes_played  \n",
       "13809  2.35  4229.0          \n",
       "13831  2.40  4293.0          \n",
       "16367  2.33  4452.0          \n",
       "11042  2.13  3742.0          \n",
       "18968  2.33  4468.0          "
      ]
     },
     "execution_count": 17,
     "metadata": {},
     "output_type": "execute_result"
    }
   ],
   "source": [
    "df.sort_values(by='market_value', ascending=False).head(5)"
   ]
  },
  {
   "cell_type": "code",
   "execution_count": 18,
   "metadata": {
    "ExecuteTime": {
     "end_time": "2019-02-12T08:39:34.557075Z",
     "start_time": "2019-02-12T08:39:34.002407Z"
    }
   },
   "outputs": [
    {
     "data": {
      "image/png": "[encoded data removed]",
      "text/plain": [
       "<Figure size 576x576 with 1 Axes>"
      ]
     },
     "metadata": {
      "image/png": {
       "height": 495,
       "width": 551
      },
      "needs_background": "light"
     },
     "output_type": "display_data"
    }
   ],
   "source": [
    "plt.figure(figsize=(8,8))\n",
    "sns.boxplot(x=df['general_position'], y=df['market_value'])\n",
    "plt.xlabel('Position')\n",
    "plt.ylabel('Market Value Pounds')\n",
    "plt.title('Range of Market Value by Position');"
   ]
  },
  {
   "cell_type": "code",
   "execution_count": 19,
   "metadata": {
    "ExecuteTime": {
     "end_time": "2019-02-12T08:39:35.462000Z",
     "start_time": "2019-02-12T08:39:34.559827Z"
    }
   },
   "outputs": [],
   "source": [
    "# Imports\n",
    "\n",
    "import statsmodels.api as sm\n",
    "from sklearn import linear_model\n",
    "from sklearn.linear_model import Ridge, Lasso, ElasticNet, LinearRegression, RidgeCV, LassoCV, ElasticNetCV, LogisticRegression\n",
    "from sklearn.model_selection import train_test_split, cross_val_score, GridSearchCV\n",
    "import sklearn.metrics as metrics\n",
    "from sklearn.metrics import r2_score, mean_squared_error, explained_variance_score, mean_absolute_error, median_absolute_error \n",
    "from sklearn.preprocessing import StandardScaler\n",
    "from sklearn.ensemble import ExtraTreesClassifier, RandomForestClassifier, AdaBoostRegressor, RandomForestRegressor, BaggingRegressor\n",
    "from sklearn.svm import SVR\n",
    "from sklearn.neighbors import KNeighborsRegressor\n",
    "from sklearn.tree import DecisionTreeRegressor"
   ]
  },
  {
   "cell_type": "markdown",
   "metadata": {},
   "source": [
    "# Classification Models on Position\n",
    "\n",
    "\n",
    "- Predict whether or not one is a forward, midfielder, defender or goalkeeper (using general_position column)\n"
   ]
  },
  {
   "cell_type": "code",
   "execution_count": 20,
   "metadata": {
    "ExecuteTime": {
     "end_time": "2019-02-12T08:39:35.481286Z",
     "start_time": "2019-02-12T08:39:35.467189Z"
    }
   },
   "outputs": [
    {
     "data": {
      "text/plain": [
       "Index(['player', 'current_team', 'current_year', 'birthdate_age',\n",
       "       'nationality', 'height_m', 'foot', 'date_joined', 'year_joined',\n",
       "       'signed_from', 'transfer_fee', 'contract_until', 'market_value',\n",
       "       'number', 'position', 'general_position', 'age', 'in_squad',\n",
       "       'appearances', 'goals', 'assists', 'yellow_card', 'second_yellow',\n",
       "       'red_cards', 'substituted_on', 'substituted_off', 'ppm',\n",
       "       'minutes_played'],\n",
       "      dtype='object')"
      ]
     },
     "execution_count": 20,
     "metadata": {},
     "output_type": "execute_result"
    }
   ],
   "source": [
    "df.columns"
   ]
  },
  {
   "cell_type": "code",
   "execution_count": 21,
   "metadata": {
    "ExecuteTime": {
     "end_time": "2019-02-12T08:39:35.531425Z",
     "start_time": "2019-02-12T08:39:35.486319Z"
    }
   },
   "outputs": [
    {
     "data": {
      "text/plain": [
       "Index(['current_year', 'height_m', 'transfer_fee', 'market_value', 'number',\n",
       "       'age', 'in_squad', 'appearances', 'goals', 'assists', 'yellow_card',\n",
       "       'second_yellow', 'red_cards', 'substituted_on', 'substituted_off',\n",
       "       'ppm', 'minutes_played'],\n",
       "      dtype='object')"
      ]
     },
     "execution_count": 21,
     "metadata": {},
     "output_type": "execute_result"
    }
   ],
   "source": [
    "df.select_dtypes(include=['float64', 'int64', 'uint8']).columns"
   ]
  },
  {
   "cell_type": "code",
   "execution_count": 22,
   "metadata": {
    "ExecuteTime": {
     "end_time": "2019-02-12T08:39:35.579107Z",
     "start_time": "2019-02-12T08:39:35.537069Z"
    }
   },
   "outputs": [],
   "source": [
    "# Imports\n",
    "\n",
    "import statsmodels.api as sm\n",
    "from sklearn import linear_model\n",
    "from sklearn.linear_model import Ridge, Lasso, ElasticNet, LinearRegression, RidgeCV, LassoCV, ElasticNetCV, LogisticRegression\n",
    "from sklearn.model_selection import train_test_split, cross_val_score, GridSearchCV\n",
    "import sklearn.metrics as metrics\n",
    "from sklearn.metrics import r2_score, mean_squared_error, explained_variance_score, mean_absolute_error, median_absolute_error \n",
    "from sklearn.preprocessing import StandardScaler\n",
    "from sklearn.ensemble import ExtraTreesClassifier, RandomForestClassifier, AdaBoostRegressor, RandomForestRegressor, BaggingRegressor\n",
    "from sklearn.svm import SVR\n",
    "\n",
    "from sklearn.preprocessing import PowerTransformer\n",
    "from sklearn.neural_network import MLPClassifier \n",
    "from sklearn.neighbors import KNeighborsClassifier\n",
    "from sklearn.svm import SVC\n",
    "from sklearn.gaussian_process import GaussianProcessClassifier\n",
    "from sklearn.gaussian_process.kernels import RBF\n",
    "from sklearn.tree import DecisionTreeClassifier\n",
    "from sklearn.ensemble import RandomForestClassifier, AdaBoostClassifier, ExtraTreesClassifier, BaggingClassifier\n",
    "from sklearn.naive_bayes import GaussianNB\n",
    "from sklearn.linear_model import SGDClassifier\n",
    "from sklearn.svm import LinearSVC\n",
    "from sklearn import metrics\n",
    "from sklearn.metrics import roc_curve, f1_score, accuracy_score"
   ]
  },
  {
   "cell_type": "code",
   "execution_count": 23,
   "metadata": {
    "ExecuteTime": {
     "end_time": "2019-02-12T08:39:35.587842Z",
     "start_time": "2019-02-12T08:39:35.580735Z"
    }
   },
   "outputs": [
    {
     "data": {
      "text/plain": [
       "Index(['player', 'current_team', 'current_year', 'birthdate_age',\n",
       "       'nationality', 'height_m', 'foot', 'date_joined', 'year_joined',\n",
       "       'signed_from', 'transfer_fee', 'contract_until', 'market_value',\n",
       "       'number', 'position', 'general_position', 'age', 'in_squad',\n",
       "       'appearances', 'goals', 'assists', 'yellow_card', 'second_yellow',\n",
       "       'red_cards', 'substituted_on', 'substituted_off', 'ppm',\n",
       "       'minutes_played'],\n",
       "      dtype='object')"
      ]
     },
     "execution_count": 23,
     "metadata": {},
     "output_type": "execute_result"
    }
   ],
   "source": [
    "df.columns"
   ]
  },
  {
   "cell_type": "code",
   "execution_count": 24,
   "metadata": {
    "ExecuteTime": {
     "end_time": "2019-02-12T08:39:35.636862Z",
     "start_time": "2019-02-12T08:39:35.596523Z"
    }
   },
   "outputs": [
    {
     "data": {
      "text/html": [
       "<div>\n",
       "<style scoped>\n",
       "    .dataframe tbody tr th:only-of-type {\n",
       "        vertical-align: middle;\n",
       "    }\n",
       "\n",
       "    .dataframe tbody tr th {\n",
       "        vertical-align: top;\n",
       "    }\n",
       "\n",
       "    .dataframe thead th {\n",
       "        text-align: right;\n",
       "    }\n",
       "</style>\n",
       "<table border=\"1\" class=\"dataframe\">\n",
       "  <thead>\n",
       "    <tr style=\"text-align: right;\">\n",
       "      <th></th>\n",
       "      <th>player</th>\n",
       "      <th>current_team</th>\n",
       "      <th>current_year</th>\n",
       "      <th>birthdate_age</th>\n",
       "      <th>nationality</th>\n",
       "      <th>height_m</th>\n",
       "      <th>foot</th>\n",
       "      <th>date_joined</th>\n",
       "      <th>year_joined</th>\n",
       "      <th>signed_from</th>\n",
       "      <th>transfer_fee</th>\n",
       "      <th>contract_until</th>\n",
       "      <th>market_value</th>\n",
       "      <th>number</th>\n",
       "      <th>position</th>\n",
       "      <th>general_position</th>\n",
       "      <th>age</th>\n",
       "      <th>in_squad</th>\n",
       "      <th>appearances</th>\n",
       "      <th>goals</th>\n",
       "      <th>assists</th>\n",
       "      <th>yellow_card</th>\n",
       "      <th>second_yellow</th>\n",
       "      <th>red_cards</th>\n",
       "      <th>substituted_on</th>\n",
       "      <th>substituted_off</th>\n",
       "      <th>ppm</th>\n",
       "      <th>minutes_played</th>\n",
       "    </tr>\n",
       "  </thead>\n",
       "  <tbody>\n",
       "    <tr>\n",
       "      <th>0</th>\n",
       "      <td>Víctor Valdés</td>\n",
       "      <td>fc-barcelona</td>\n",
       "      <td>2008</td>\n",
       "      <td>Jan 14, 1982 (26)</td>\n",
       "      <td>Spain</td>\n",
       "      <td>1.83</td>\n",
       "      <td>right</td>\n",
       "      <td>Jul 1, 2002</td>\n",
       "      <td>2002</td>\n",
       "      <td>FC Barcelona B</td>\n",
       "      <td>0.0</td>\n",
       "      <td>-</td>\n",
       "      <td>13500000.0</td>\n",
       "      <td>1</td>\n",
       "      <td>Goalkeeper</td>\n",
       "      <td>Goalkeeper</td>\n",
       "      <td>26.0</td>\n",
       "      <td>52.0</td>\n",
       "      <td>49.0</td>\n",
       "      <td>0.0</td>\n",
       "      <td>0.0</td>\n",
       "      <td>3.0</td>\n",
       "      <td>0.0</td>\n",
       "      <td>0.0</td>\n",
       "      <td>0.0</td>\n",
       "      <td>0.0</td>\n",
       "      <td>2.35</td>\n",
       "      <td>4410.0</td>\n",
       "    </tr>\n",
       "    <tr>\n",
       "      <th>1</th>\n",
       "      <td>José Manuel Pinto</td>\n",
       "      <td>fc-barcelona</td>\n",
       "      <td>2008</td>\n",
       "      <td>Nov 8, 1975 (32)</td>\n",
       "      <td>Spain</td>\n",
       "      <td>1.85</td>\n",
       "      <td>right</td>\n",
       "      <td>Jul 1, 2008</td>\n",
       "      <td>2008</td>\n",
       "      <td>Spain</td>\n",
       "      <td>0.0</td>\n",
       "      <td>-</td>\n",
       "      <td>1800000.0</td>\n",
       "      <td>13</td>\n",
       "      <td>Goalkeeper</td>\n",
       "      <td>Goalkeeper</td>\n",
       "      <td>32.0</td>\n",
       "      <td>51.0</td>\n",
       "      <td>11.0</td>\n",
       "      <td>0.0</td>\n",
       "      <td>0.0</td>\n",
       "      <td>1.0</td>\n",
       "      <td>0.0</td>\n",
       "      <td>0.0</td>\n",
       "      <td>0.0</td>\n",
       "      <td>0.0</td>\n",
       "      <td>2.18</td>\n",
       "      <td>990.0</td>\n",
       "    </tr>\n",
       "    <tr>\n",
       "      <th>2</th>\n",
       "      <td>Albert Jorquera</td>\n",
       "      <td>fc-barcelona</td>\n",
       "      <td>2008</td>\n",
       "      <td>Mar 3, 1979 (29)</td>\n",
       "      <td>Spain</td>\n",
       "      <td>1.83</td>\n",
       "      <td>right</td>\n",
       "      <td>Jul 1, 2003</td>\n",
       "      <td>2003</td>\n",
       "      <td>FC Barcelona B</td>\n",
       "      <td>0.0</td>\n",
       "      <td>-</td>\n",
       "      <td>720000.0</td>\n",
       "      <td>25</td>\n",
       "      <td>Goalkeeper</td>\n",
       "      <td>Goalkeeper</td>\n",
       "      <td>29.0</td>\n",
       "      <td>20.0</td>\n",
       "      <td>1.0</td>\n",
       "      <td>0.0</td>\n",
       "      <td>0.0</td>\n",
       "      <td>0.0</td>\n",
       "      <td>0.0</td>\n",
       "      <td>0.0</td>\n",
       "      <td>0.0</td>\n",
       "      <td>0.0</td>\n",
       "      <td>0.00</td>\n",
       "      <td>90.0</td>\n",
       "    </tr>\n",
       "    <tr>\n",
       "      <th>3</th>\n",
       "      <td>Oier Olazábal</td>\n",
       "      <td>fc-barcelona</td>\n",
       "      <td>2008</td>\n",
       "      <td>Sep 14, 1989 (18)</td>\n",
       "      <td>Spain</td>\n",
       "      <td>1.89</td>\n",
       "      <td>left</td>\n",
       "      <td>Aug 1, 2007</td>\n",
       "      <td>2007</td>\n",
       "      <td>FC Barcelona B</td>\n",
       "      <td>0.0</td>\n",
       "      <td>-</td>\n",
       "      <td>540000.0</td>\n",
       "      <td>-999</td>\n",
       "      <td>Goalkeeper</td>\n",
       "      <td>Goalkeeper</td>\n",
       "      <td>18.0</td>\n",
       "      <td>2.0</td>\n",
       "      <td>1.0</td>\n",
       "      <td>0.0</td>\n",
       "      <td>0.0</td>\n",
       "      <td>0.0</td>\n",
       "      <td>0.0</td>\n",
       "      <td>0.0</td>\n",
       "      <td>0.0</td>\n",
       "      <td>0.0</td>\n",
       "      <td>0.00</td>\n",
       "      <td>90.0</td>\n",
       "    </tr>\n",
       "    <tr>\n",
       "      <th>4</th>\n",
       "      <td>Carles Puyol</td>\n",
       "      <td>fc-barcelona</td>\n",
       "      <td>2008</td>\n",
       "      <td>Apr 13, 1978 (30)</td>\n",
       "      <td>Spain</td>\n",
       "      <td>1.78</td>\n",
       "      <td>right</td>\n",
       "      <td>Jul 1, 1999</td>\n",
       "      <td>1999</td>\n",
       "      <td>FC Barcelona B</td>\n",
       "      <td>0.0</td>\n",
       "      <td>-</td>\n",
       "      <td>23400000.0</td>\n",
       "      <td>5</td>\n",
       "      <td>Centre-Back</td>\n",
       "      <td>Defender</td>\n",
       "      <td>30.0</td>\n",
       "      <td>49.0</td>\n",
       "      <td>45.0</td>\n",
       "      <td>1.0</td>\n",
       "      <td>3.0</td>\n",
       "      <td>8.0</td>\n",
       "      <td>0.0</td>\n",
       "      <td>0.0</td>\n",
       "      <td>4.0</td>\n",
       "      <td>6.0</td>\n",
       "      <td>2.29</td>\n",
       "      <td>3768.0</td>\n",
       "    </tr>\n",
       "  </tbody>\n",
       "</table>\n",
       "</div>"
      ],
      "text/plain": [
       "              player  current_team  current_year      birthdate_age  \\\n",
       "0  Víctor Valdés      fc-barcelona  2008          Jan 14, 1982 (26)   \n",
       "1  José Manuel Pinto  fc-barcelona  2008          Nov 8, 1975 (32)    \n",
       "2  Albert Jorquera    fc-barcelona  2008          Mar 3, 1979 (29)    \n",
       "3  Oier Olazábal      fc-barcelona  2008          Sep 14, 1989 (18)   \n",
       "4  Carles Puyol       fc-barcelona  2008          Apr 13, 1978 (30)   \n",
       "\n",
       "  nationality  height_m   foot  date_joined year_joined     signed_from  \\\n",
       "0  Spain       1.83      right  Jul 1, 2002  2002        FC Barcelona B   \n",
       "1  Spain       1.85      right  Jul 1, 2008  2008        Spain            \n",
       "2  Spain       1.83      right  Jul 1, 2003  2003        FC Barcelona B   \n",
       "3  Spain       1.89      left   Aug 1, 2007  2007        FC Barcelona B   \n",
       "4  Spain       1.78      right  Jul 1, 1999  1999        FC Barcelona B   \n",
       "\n",
       "   transfer_fee contract_until  market_value  number     position  \\\n",
       "0  0.0           -              13500000.0    1       Goalkeeper    \n",
       "1  0.0           -              1800000.0     13      Goalkeeper    \n",
       "2  0.0           -              720000.0      25      Goalkeeper    \n",
       "3  0.0           -              540000.0     -999     Goalkeeper    \n",
       "4  0.0           -              23400000.0    5       Centre-Back   \n",
       "\n",
       "  general_position   age  in_squad  appearances  goals  assists  yellow_card  \\\n",
       "0  Goalkeeper       26.0  52.0      49.0         0.0    0.0      3.0           \n",
       "1  Goalkeeper       32.0  51.0      11.0         0.0    0.0      1.0           \n",
       "2  Goalkeeper       29.0  20.0      1.0          0.0    0.0      0.0           \n",
       "3  Goalkeeper       18.0  2.0       1.0          0.0    0.0      0.0           \n",
       "4  Defender         30.0  49.0      45.0         1.0    3.0      8.0           \n",
       "\n",
       "   second_yellow  red_cards  substituted_on  substituted_off   ppm  \\\n",
       "0  0.0            0.0        0.0             0.0              2.35   \n",
       "1  0.0            0.0        0.0             0.0              2.18   \n",
       "2  0.0            0.0        0.0             0.0              0.00   \n",
       "3  0.0            0.0        0.0             0.0              0.00   \n",
       "4  0.0            0.0        4.0             6.0              2.29   \n",
       "\n",
       "   minutes_played  \n",
       "0  4410.0          \n",
       "1  990.0           \n",
       "2  90.0            \n",
       "3  90.0            \n",
       "4  3768.0          "
      ]
     },
     "execution_count": 24,
     "metadata": {},
     "output_type": "execute_result"
    }
   ],
   "source": [
    "df.head()"
   ]
  },
  {
   "cell_type": "code",
   "execution_count": 25,
   "metadata": {
    "ExecuteTime": {
     "end_time": "2019-02-12T08:39:35.648654Z",
     "start_time": "2019-02-12T08:39:35.638852Z"
    }
   },
   "outputs": [
    {
     "data": {
      "text/plain": [
       "Defender      7251\n",
       "Midfielder    6469\n",
       "Forward       5995\n",
       "Goalkeeper    1855\n",
       "Name: general_position, dtype: int64"
      ]
     },
     "execution_count": 25,
     "metadata": {},
     "output_type": "execute_result"
    }
   ],
   "source": [
    "df['general_position'].value_counts()"
   ]
  },
  {
   "cell_type": "code",
   "execution_count": 26,
   "metadata": {
    "ExecuteTime": {
     "end_time": "2019-02-12T08:39:35.700492Z",
     "start_time": "2019-02-12T08:39:35.651456Z"
    }
   },
   "outputs": [
    {
     "data": {
      "text/html": [
       "<div>\n",
       "<style scoped>\n",
       "    .dataframe tbody tr th:only-of-type {\n",
       "        vertical-align: middle;\n",
       "    }\n",
       "\n",
       "    .dataframe tbody tr th {\n",
       "        vertical-align: top;\n",
       "    }\n",
       "\n",
       "    .dataframe thead th {\n",
       "        text-align: right;\n",
       "    }\n",
       "</style>\n",
       "<table border=\"1\" class=\"dataframe\">\n",
       "  <thead>\n",
       "    <tr style=\"text-align: right;\">\n",
       "      <th></th>\n",
       "      <th>player</th>\n",
       "      <th>current_team</th>\n",
       "      <th>current_year</th>\n",
       "      <th>birthdate_age</th>\n",
       "      <th>nationality</th>\n",
       "      <th>height_m</th>\n",
       "      <th>foot</th>\n",
       "      <th>date_joined</th>\n",
       "      <th>year_joined</th>\n",
       "      <th>signed_from</th>\n",
       "      <th>transfer_fee</th>\n",
       "      <th>contract_until</th>\n",
       "      <th>market_value</th>\n",
       "      <th>number</th>\n",
       "      <th>position</th>\n",
       "      <th>general_position</th>\n",
       "      <th>age</th>\n",
       "      <th>in_squad</th>\n",
       "      <th>appearances</th>\n",
       "      <th>goals</th>\n",
       "      <th>assists</th>\n",
       "      <th>yellow_card</th>\n",
       "      <th>second_yellow</th>\n",
       "      <th>red_cards</th>\n",
       "      <th>substituted_on</th>\n",
       "      <th>substituted_off</th>\n",
       "      <th>ppm</th>\n",
       "      <th>minutes_played</th>\n",
       "    </tr>\n",
       "  </thead>\n",
       "  <tbody>\n",
       "    <tr>\n",
       "      <th>0</th>\n",
       "      <td>Víctor Valdés</td>\n",
       "      <td>fc-barcelona</td>\n",
       "      <td>2008</td>\n",
       "      <td>Jan 14, 1982 (26)</td>\n",
       "      <td>Spain</td>\n",
       "      <td>1.83</td>\n",
       "      <td>right</td>\n",
       "      <td>Jul 1, 2002</td>\n",
       "      <td>2002</td>\n",
       "      <td>FC Barcelona B</td>\n",
       "      <td>0.0</td>\n",
       "      <td>-</td>\n",
       "      <td>13500000.0</td>\n",
       "      <td>1</td>\n",
       "      <td>Goalkeeper</td>\n",
       "      <td>Goalkeeper</td>\n",
       "      <td>26.0</td>\n",
       "      <td>52.0</td>\n",
       "      <td>49.0</td>\n",
       "      <td>0.0</td>\n",
       "      <td>0.0</td>\n",
       "      <td>3.0</td>\n",
       "      <td>0.0</td>\n",
       "      <td>0.0</td>\n",
       "      <td>0.0</td>\n",
       "      <td>0.0</td>\n",
       "      <td>2.35</td>\n",
       "      <td>4410.0</td>\n",
       "    </tr>\n",
       "    <tr>\n",
       "      <th>1</th>\n",
       "      <td>José Manuel Pinto</td>\n",
       "      <td>fc-barcelona</td>\n",
       "      <td>2008</td>\n",
       "      <td>Nov 8, 1975 (32)</td>\n",
       "      <td>Spain</td>\n",
       "      <td>1.85</td>\n",
       "      <td>right</td>\n",
       "      <td>Jul 1, 2008</td>\n",
       "      <td>2008</td>\n",
       "      <td>Spain</td>\n",
       "      <td>0.0</td>\n",
       "      <td>-</td>\n",
       "      <td>1800000.0</td>\n",
       "      <td>13</td>\n",
       "      <td>Goalkeeper</td>\n",
       "      <td>Goalkeeper</td>\n",
       "      <td>32.0</td>\n",
       "      <td>51.0</td>\n",
       "      <td>11.0</td>\n",
       "      <td>0.0</td>\n",
       "      <td>0.0</td>\n",
       "      <td>1.0</td>\n",
       "      <td>0.0</td>\n",
       "      <td>0.0</td>\n",
       "      <td>0.0</td>\n",
       "      <td>0.0</td>\n",
       "      <td>2.18</td>\n",
       "      <td>990.0</td>\n",
       "    </tr>\n",
       "  </tbody>\n",
       "</table>\n",
       "</div>"
      ],
      "text/plain": [
       "              player  current_team  current_year      birthdate_age  \\\n",
       "0  Víctor Valdés      fc-barcelona  2008          Jan 14, 1982 (26)   \n",
       "1  José Manuel Pinto  fc-barcelona  2008          Nov 8, 1975 (32)    \n",
       "\n",
       "  nationality  height_m   foot  date_joined year_joined     signed_from  \\\n",
       "0  Spain       1.83      right  Jul 1, 2002  2002        FC Barcelona B   \n",
       "1  Spain       1.85      right  Jul 1, 2008  2008        Spain            \n",
       "\n",
       "   transfer_fee contract_until  market_value  number    position  \\\n",
       "0  0.0           -              13500000.0    1       Goalkeeper   \n",
       "1  0.0           -              1800000.0     13      Goalkeeper   \n",
       "\n",
       "  general_position   age  in_squad  appearances  goals  assists  yellow_card  \\\n",
       "0  Goalkeeper       26.0  52.0      49.0         0.0    0.0      3.0           \n",
       "1  Goalkeeper       32.0  51.0      11.0         0.0    0.0      1.0           \n",
       "\n",
       "   second_yellow  red_cards  substituted_on  substituted_off   ppm  \\\n",
       "0  0.0            0.0        0.0             0.0              2.35   \n",
       "1  0.0            0.0        0.0             0.0              2.18   \n",
       "\n",
       "   minutes_played  \n",
       "0  4410.0          \n",
       "1  990.0           "
      ]
     },
     "execution_count": 26,
     "metadata": {},
     "output_type": "execute_result"
    }
   ],
   "source": [
    "df_class = df.copy()\n",
    "df_class.head(2)"
   ]
  },
  {
   "cell_type": "code",
   "execution_count": 27,
   "metadata": {
    "ExecuteTime": {
     "end_time": "2019-02-12T08:39:35.711418Z",
     "start_time": "2019-02-12T08:39:35.705418Z"
    }
   },
   "outputs": [],
   "source": [
    "dict_map_of_general_positions = {'Forward':1,'Midfielder':2,'Defender':3, 'Goalkeeper':4}"
   ]
  },
  {
   "cell_type": "code",
   "execution_count": 28,
   "metadata": {
    "ExecuteTime": {
     "end_time": "2019-02-12T08:39:35.735507Z",
     "start_time": "2019-02-12T08:39:35.719891Z"
    }
   },
   "outputs": [],
   "source": [
    "df_class['general_position_mapped'] = df_class['general_position'].map(dict_map_of_general_positions).astype(float)"
   ]
  },
  {
   "cell_type": "code",
   "execution_count": 29,
   "metadata": {
    "ExecuteTime": {
     "end_time": "2019-02-12T08:39:35.747408Z",
     "start_time": "2019-02-12T08:39:35.737397Z"
    }
   },
   "outputs": [
    {
     "data": {
      "text/plain": [
       "dtype('float64')"
      ]
     },
     "execution_count": 29,
     "metadata": {},
     "output_type": "execute_result"
    }
   ],
   "source": [
    "df_class['general_position_mapped'].dtypes"
   ]
  },
  {
   "cell_type": "code",
   "execution_count": 30,
   "metadata": {
    "ExecuteTime": {
     "end_time": "2019-02-12T08:39:35.801144Z",
     "start_time": "2019-02-12T08:39:35.750104Z"
    }
   },
   "outputs": [
    {
     "name": "stdout",
     "output_type": "stream",
     "text": [
      "<class 'pandas.core.frame.DataFrame'>\n",
      "RangeIndex: 21570 entries, 0 to 21569\n",
      "Data columns (total 29 columns):\n",
      "player                     21570 non-null object\n",
      "current_team               21570 non-null object\n",
      "current_year               21570 non-null int64\n",
      "birthdate_age              21570 non-null object\n",
      "nationality                21570 non-null object\n",
      "height_m                   21570 non-null float64\n",
      "foot                       21570 non-null object\n",
      "date_joined                21570 non-null object\n",
      "year_joined                21570 non-null object\n",
      "signed_from                21570 non-null object\n",
      "transfer_fee               21570 non-null float64\n",
      "contract_until             21570 non-null object\n",
      "market_value               21570 non-null float64\n",
      "number                     21570 non-null int64\n",
      "position                   21570 non-null object\n",
      "general_position           21570 non-null object\n",
      "age                        21570 non-null float64\n",
      "in_squad                   21570 non-null float64\n",
      "appearances                21570 non-null float64\n",
      "goals                      21570 non-null float64\n",
      "assists                    21570 non-null float64\n",
      "yellow_card                21570 non-null float64\n",
      "second_yellow              21570 non-null float64\n",
      "red_cards                  21570 non-null float64\n",
      "substituted_on             21570 non-null float64\n",
      "substituted_off            21570 non-null float64\n",
      "ppm                        21570 non-null float64\n",
      "minutes_played             21570 non-null float64\n",
      "general_position_mapped    21570 non-null float64\n",
      "dtypes: float64(16), int64(2), object(11)\n",
      "memory usage: 4.8+ MB\n"
     ]
    }
   ],
   "source": [
    "df_class.info()"
   ]
  },
  {
   "cell_type": "code",
   "execution_count": 31,
   "metadata": {
    "ExecuteTime": {
     "end_time": "2019-02-12T08:39:35.809802Z",
     "start_time": "2019-02-12T08:39:35.802925Z"
    }
   },
   "outputs": [],
   "source": [
    "Xc = df_class[['transfer_fee', 'age', 'in_squad', 'appearances', 'goals', 'assists', 'yellow_card', 'second_yellow',\n",
    "       'red_cards', 'substituted_on', 'substituted_off', 'ppm', 'minutes_played']]\n",
    "yc = df_class['general_position_mapped']"
   ]
  },
  {
   "cell_type": "code",
   "execution_count": 33,
   "metadata": {
    "ExecuteTime": {
     "end_time": "2019-02-12T08:39:35.829701Z",
     "start_time": "2019-02-12T08:39:35.821514Z"
    }
   },
   "outputs": [],
   "source": [
    "# Define Function to Run and Plot Models\n",
    "\n",
    "\n",
    "\n",
    "def run_and_plot_classification_model(model):\n",
    "    X_train, X_test, y_train, y_test = train_test_split(Xc, yc, random_state=42)\n",
    "    #ss = PowerTransformer()\n",
    "    ss = StandardScaler()\n",
    "    X_train_sc = ss.fit_transform(X_train)\n",
    "\n",
    "    name = str(model).split('(')[0] + ' model'\n",
    "    model.fit(X_train_sc, y_train)\n",
    "\n",
    "    train_predictions = model.predict(X_train_sc)\n",
    "    train_residuals = y_train - train_predictions\n",
    "\n",
    "    X_test_sc = ss.transform(X_test)\n",
    "    predictions = model.predict(X_test_sc)\n",
    "\n",
    "    print(f\"{name} Training Accuracy Score: {round(accuracy_score(train_predictions, y_train),3)}\")\n",
    "    print(f\"{name} Testing Accuracy Score: {round(accuracy_score(y_test, predictions),3)}\")\n"
   ]
  },
  {
   "cell_type": "code",
   "execution_count": 35,
   "metadata": {
    "ExecuteTime": {
     "end_time": "2019-02-12T08:40:37.938561Z",
     "start_time": "2019-02-12T08:39:35.869675Z"
    }
   },
   "outputs": [
    {
     "name": "stdout",
     "output_type": "stream",
     "text": [
      "LogisticRegression model Training Accuracy Score: 0.696\n",
      "LogisticRegression model Testing Accuracy Score: 0.702\n",
      " \n",
      "DecisionTreeClassifier model Training Accuracy Score: 1.0\n",
      "DecisionTreeClassifier model Testing Accuracy Score: 0.628\n",
      " \n",
      "BaggingClassifier model Training Accuracy Score: 0.985\n",
      "BaggingClassifier model Testing Accuracy Score: 0.692\n",
      " \n",
      "KNeighborsClassifier model Training Accuracy Score: 0.766\n",
      "KNeighborsClassifier model Testing Accuracy Score: 0.654\n",
      " \n",
      "RandomForestClassifier model Training Accuracy Score: 0.988\n",
      "RandomForestClassifier model Testing Accuracy Score: 0.694\n",
      " \n",
      "AdaBoostClassifier model Training Accuracy Score: 0.597\n",
      "AdaBoostClassifier model Testing Accuracy Score: 0.597\n",
      " \n",
      "SVC model Training Accuracy Score: 0.755\n",
      "SVC model Testing Accuracy Score: 0.74\n",
      " \n"
     ]
    }
   ],
   "source": [
    "Xc = df_class[['market_value','transfer_fee', 'age', 'height_m', 'in_squad', 'appearances', 'goals', 'assists', 'yellow_card', 'second_yellow',\n",
    "       'red_cards', 'substituted_on', 'substituted_off', 'ppm', 'minutes_played']]\n",
    "yc = df_class['general_position_mapped']\n",
    "\n",
    "\n",
    "for mod in [LogisticRegression(),   \n",
    "            DecisionTreeClassifier(),\n",
    "            BaggingClassifier(),\n",
    "            KNeighborsClassifier(),\n",
    "            RandomForestClassifier(),\n",
    "            AdaBoostClassifier(),\n",
    "            SVC(probability=True)\n",
    "            ]:\n",
    "    \n",
    "    run_and_plot_classification_model(mod)\n",
    "    print(\" \")\n"
   ]
  },
  {
   "cell_type": "code",
   "execution_count": 36,
   "metadata": {
    "ExecuteTime": {
     "end_time": "2019-02-12T08:41:40.633825Z",
     "start_time": "2019-02-12T08:40:37.941990Z"
    },
    "scrolled": false
   },
   "outputs": [
    {
     "name": "stdout",
     "output_type": "stream",
     "text": [
      "LogisticRegression model Training Accuracy Score: 0.696\n",
      "LogisticRegression model Testing Accuracy Score: 0.704\n",
      " \n",
      "DecisionTreeClassifier model Training Accuracy Score: 1.0\n",
      "DecisionTreeClassifier model Testing Accuracy Score: 0.62\n",
      " \n",
      "BaggingClassifier model Training Accuracy Score: 0.984\n",
      "BaggingClassifier model Testing Accuracy Score: 0.697\n",
      " \n",
      "KNeighborsClassifier model Training Accuracy Score: 0.765\n",
      "KNeighborsClassifier model Testing Accuracy Score: 0.653\n",
      " \n",
      "RandomForestClassifier model Training Accuracy Score: 0.985\n",
      "RandomForestClassifier model Testing Accuracy Score: 0.688\n",
      " \n",
      "AdaBoostClassifier model Training Accuracy Score: 0.598\n",
      "AdaBoostClassifier model Testing Accuracy Score: 0.597\n",
      " \n",
      "SVC model Training Accuracy Score: 0.752\n",
      "SVC model Testing Accuracy Score: 0.738\n",
      " \n"
     ]
    }
   ],
   "source": [
    "Xc = df_class[['transfer_fee', 'age', 'height_m','in_squad', 'appearances', 'goals', 'assists', 'yellow_card', 'second_yellow',\n",
    "       'red_cards', 'substituted_on', 'substituted_off', 'ppm', 'minutes_played']]\n",
    "yc = df_class['general_position_mapped']\n",
    "\n",
    "\n",
    "for mod in [LogisticRegression(),   \n",
    "            DecisionTreeClassifier(),\n",
    "            BaggingClassifier(),\n",
    "            KNeighborsClassifier(),\n",
    "            RandomForestClassifier(),\n",
    "            AdaBoostClassifier(),\n",
    "            SVC(probability=True)\n",
    "            ]:\n",
    "    \n",
    "    run_and_plot_classification_model(mod)\n",
    "    print(\" \")\n"
   ]
  },
  {
   "cell_type": "code",
   "execution_count": 37,
   "metadata": {
    "ExecuteTime": {
     "end_time": "2019-02-12T08:42:27.144128Z",
     "start_time": "2019-02-12T08:41:40.636325Z"
    },
    "scrolled": false
   },
   "outputs": [
    {
     "name": "stdout",
     "output_type": "stream",
     "text": [
      "LogisticRegression model Training Accuracy Score: 0.69\n",
      "LogisticRegression model Testing Accuracy Score: 0.698\n",
      " \n",
      "DecisionTreeClassifier model Training Accuracy Score: 0.993\n",
      "DecisionTreeClassifier model Testing Accuracy Score: 0.62\n",
      " \n",
      "BaggingClassifier model Training Accuracy Score: 0.977\n",
      "BaggingClassifier model Testing Accuracy Score: 0.686\n",
      " \n",
      "KNeighborsClassifier model Training Accuracy Score: 0.77\n",
      "KNeighborsClassifier model Testing Accuracy Score: 0.668\n",
      " \n",
      "RandomForestClassifier model Training Accuracy Score: 0.978\n",
      "RandomForestClassifier model Testing Accuracy Score: 0.679\n",
      " \n",
      "AdaBoostClassifier model Training Accuracy Score: 0.556\n",
      "AdaBoostClassifier model Testing Accuracy Score: 0.561\n",
      " \n",
      "SVC model Training Accuracy Score: 0.733\n",
      "SVC model Testing Accuracy Score: 0.722\n",
      " \n"
     ]
    }
   ],
   "source": [
    "Xc = df_class[['in_squad', 'appearances', 'goals', 'assists', 'yellow_card', 'second_yellow',\n",
    "       'red_cards', 'substituted_on', 'substituted_off', 'ppm', 'minutes_played']]\n",
    "yc = df_class['general_position_mapped']\n",
    "\n",
    "\n",
    "for mod in [LogisticRegression(),   \n",
    "            DecisionTreeClassifier(),\n",
    "            BaggingClassifier(),\n",
    "            KNeighborsClassifier(),\n",
    "            RandomForestClassifier(),\n",
    "            AdaBoostClassifier(),\n",
    "            SVC(probability=True)\n",
    "            ]:\n",
    "    \n",
    "    run_and_plot_classification_model(mod)\n",
    "    print(\" \")\n"
   ]
  },
  {
   "cell_type": "markdown",
   "metadata": {},
   "source": [
    "## Exploring the SVC Model"
   ]
  },
  {
   "cell_type": "code",
   "execution_count": 38,
   "metadata": {
    "ExecuteTime": {
     "end_time": "2019-02-12T18:08:47.630007Z",
     "start_time": "2019-02-12T18:08:11.954064Z"
    }
   },
   "outputs": [
    {
     "data": {
      "text/plain": [
       "SVC(C=1.0, cache_size=200, class_weight=None, coef0=0.0,\n",
       "  decision_function_shape='ovr', degree=3, gamma='auto_deprecated',\n",
       "  kernel='rbf', max_iter=-1, probability=True, random_state=None,\n",
       "  shrinking=True, tol=0.001, verbose=False)"
      ]
     },
     "execution_count": 38,
     "metadata": {},
     "output_type": "execute_result"
    },
    {
     "name": "stdout",
     "output_type": "stream",
     "text": [
      "SVC model Training Accuracy Score: 0.733\n",
      "SVC model Testing Accuracy Score: 0.722\n"
     ]
    }
   ],
   "source": [
    "# Define Function to Run and Plot Models\n",
    "\n",
    "\n",
    "Xc = df_class[['in_squad', 'appearances', 'goals', 'assists', 'yellow_card', 'second_yellow',\n",
    "       'red_cards', 'substituted_on', 'substituted_off', 'ppm', 'minutes_played']]\n",
    "yc = df_class['general_position_mapped']\n",
    "\n",
    "model = SVC(probability=True)\n",
    "\n",
    "X_train, X_test, y_train, y_test = train_test_split(Xc, yc, random_state=42)\n",
    "#ss = PowerTransformer()\n",
    "ss = StandardScaler()\n",
    "X_train_sc = ss.fit_transform(X_train)\n",
    "\n",
    "name = str(model).split('(')[0] + ' model'\n",
    "model.fit(X_train_sc, y_train)\n",
    "\n",
    "train_predictions = model.predict(X_train_sc)\n",
    "train_residuals = y_train - train_predictions\n",
    "\n",
    "X_test_sc = ss.transform(X_test)\n",
    "predictions = model.predict(X_test_sc)\n",
    "\n",
    "print(f\"{name} Training Accuracy Score: {round(accuracy_score(train_predictions, y_train),3)}\")\n",
    "print(f\"{name} Testing Accuracy Score: {round(accuracy_score(y_test, predictions),3)}\")\n"
   ]
  },
  {
   "cell_type": "code",
   "execution_count": 42,
   "metadata": {
    "ExecuteTime": {
     "end_time": "2019-02-12T18:13:00.200877Z",
     "start_time": "2019-02-12T18:13:00.196159Z"
    }
   },
   "outputs": [
    {
     "data": {
      "text/plain": [
       "<bound method BaseSVC._predict_proba of SVC(C=1.0, cache_size=200, class_weight=None, coef0=0.0,\n",
       "  decision_function_shape='ovr', degree=3, gamma='auto_deprecated',\n",
       "  kernel='rbf', max_iter=-1, probability=True, random_state=None,\n",
       "  shrinking=True, tol=0.001, verbose=False)>"
      ]
     },
     "execution_count": 42,
     "metadata": {},
     "output_type": "execute_result"
    }
   ],
   "source": [
    "model.predict_proba"
   ]
  },
  {
   "cell_type": "code",
   "execution_count": 43,
   "metadata": {
    "ExecuteTime": {
     "end_time": "2019-02-12T18:13:21.384323Z",
     "start_time": "2019-02-12T18:13:21.378719Z"
    }
   },
   "outputs": [
    {
     "data": {
      "text/plain": [
       "<bound method BaseEstimator.get_params of SVC(C=1.0, cache_size=200, class_weight=None, coef0=0.0,\n",
       "  decision_function_shape='ovr', degree=3, gamma='auto_deprecated',\n",
       "  kernel='rbf', max_iter=-1, probability=True, random_state=None,\n",
       "  shrinking=True, tol=0.001, verbose=False)>"
      ]
     },
     "execution_count": 43,
     "metadata": {},
     "output_type": "execute_result"
    }
   ],
   "source": [
    "model.get_params"
   ]
  },
  {
   "cell_type": "code",
   "execution_count": 45,
   "metadata": {
    "ExecuteTime": {
     "end_time": "2019-02-12T18:15:04.732811Z",
     "start_time": "2019-02-12T18:15:04.727690Z"
    }
   },
   "outputs": [
    {
     "data": {
      "text/plain": [
       "5393"
      ]
     },
     "execution_count": 45,
     "metadata": {},
     "output_type": "execute_result"
    }
   ],
   "source": [
    "len(predictions)"
   ]
  },
  {
   "cell_type": "code",
   "execution_count": 47,
   "metadata": {
    "ExecuteTime": {
     "end_time": "2019-02-12T18:15:19.234534Z",
     "start_time": "2019-02-12T18:15:19.227593Z"
    }
   },
   "outputs": [
    {
     "data": {
      "text/plain": [
       "5393"
      ]
     },
     "execution_count": 47,
     "metadata": {},
     "output_type": "execute_result"
    }
   ],
   "source": [
    "len(y_test)"
   ]
  },
  {
   "cell_type": "code",
   "execution_count": 98,
   "metadata": {
    "ExecuteTime": {
     "end_time": "2019-02-12T18:29:06.805860Z",
     "start_time": "2019-02-12T18:29:06.796247Z"
    }
   },
   "outputs": [
    {
     "data": {
      "text/plain": [
       "18432    1.0\n",
       "12617    1.0\n",
       "18000    3.0\n",
       "12503    4.0\n",
       "3171     4.0\n",
       "1747     3.0\n",
       "20843    3.0\n",
       "5477     3.0\n",
       "2498     2.0\n",
       "19011    2.0\n",
       "1056     1.0\n",
       "18807    3.0\n",
       "19546    3.0\n",
       "20707    1.0\n",
       "5654     3.0\n",
       "18828    4.0\n",
       "2638     2.0\n",
       "10902    4.0\n",
       "7515     4.0\n",
       "19010    2.0\n",
       "Name: general_position_mapped, dtype: float64"
      ]
     },
     "execution_count": 98,
     "metadata": {},
     "output_type": "execute_result"
    }
   ],
   "source": [
    "y_test[:20]"
   ]
  },
  {
   "cell_type": "code",
   "execution_count": 130,
   "metadata": {
    "ExecuteTime": {
     "end_time": "2019-02-12T18:44:54.676745Z",
     "start_time": "2019-02-12T18:44:54.667621Z"
    }
   },
   "outputs": [
    {
     "data": {
      "text/html": [
       "<div>\n",
       "<style scoped>\n",
       "    .dataframe tbody tr th:only-of-type {\n",
       "        vertical-align: middle;\n",
       "    }\n",
       "\n",
       "    .dataframe tbody tr th {\n",
       "        vertical-align: top;\n",
       "    }\n",
       "\n",
       "    .dataframe thead th {\n",
       "        text-align: right;\n",
       "    }\n",
       "</style>\n",
       "<table border=\"1\" class=\"dataframe\">\n",
       "  <thead>\n",
       "    <tr style=\"text-align: right;\">\n",
       "      <th></th>\n",
       "      <th>0</th>\n",
       "    </tr>\n",
       "  </thead>\n",
       "  <tbody>\n",
       "    <tr>\n",
       "      <th>0</th>\n",
       "      <td>1.0</td>\n",
       "    </tr>\n",
       "    <tr>\n",
       "      <th>1</th>\n",
       "      <td>1.0</td>\n",
       "    </tr>\n",
       "    <tr>\n",
       "      <th>2</th>\n",
       "      <td>3.0</td>\n",
       "    </tr>\n",
       "    <tr>\n",
       "      <th>3</th>\n",
       "      <td>4.0</td>\n",
       "    </tr>\n",
       "    <tr>\n",
       "      <th>4</th>\n",
       "      <td>4.0</td>\n",
       "    </tr>\n",
       "  </tbody>\n",
       "</table>\n",
       "</div>"
      ],
      "text/plain": [
       "     0\n",
       "0  1.0\n",
       "1  1.0\n",
       "2  3.0\n",
       "3  4.0\n",
       "4  4.0"
      ]
     },
     "execution_count": 130,
     "metadata": {},
     "output_type": "execute_result"
    }
   ],
   "source": [
    "y_test_df = pd.DataFrame(np.array(y_test))\n",
    "y_test_df.head()"
   ]
  },
  {
   "cell_type": "code",
   "execution_count": 57,
   "metadata": {
    "ExecuteTime": {
     "end_time": "2019-02-12T18:17:31.428061Z",
     "start_time": "2019-02-12T18:17:31.422837Z"
    }
   },
   "outputs": [
    {
     "data": {
      "text/plain": [
       "array([2., 1., 3., 4., 4., 3., 3., 3., 1., 2., 1., 3., 2., 1., 3., 4., 2.,\n",
       "       4., 3., 2.])"
      ]
     },
     "execution_count": 57,
     "metadata": {},
     "output_type": "execute_result"
    }
   ],
   "source": [
    "predictions[:20]"
   ]
  },
  {
   "cell_type": "code",
   "execution_count": 129,
   "metadata": {
    "ExecuteTime": {
     "end_time": "2019-02-12T18:44:47.950531Z",
     "start_time": "2019-02-12T18:44:47.943268Z"
    },
    "scrolled": true
   },
   "outputs": [
    {
     "data": {
      "text/plain": [
       "18432   -1.0\n",
       "12617    0.0\n",
       "18000    0.0\n",
       "12503    0.0\n",
       "3171     0.0\n",
       "1747     0.0\n",
       "20843    0.0\n",
       "5477     0.0\n",
       "2498     1.0\n",
       "19011    0.0\n",
       "Name: general_position_mapped, dtype: float64"
      ]
     },
     "execution_count": 129,
     "metadata": {},
     "output_type": "execute_result"
    }
   ],
   "source": [
    "y_test[:10] - predictions[:10]"
   ]
  },
  {
   "cell_type": "code",
   "execution_count": 128,
   "metadata": {
    "ExecuteTime": {
     "end_time": "2019-02-12T18:44:40.633309Z",
     "start_time": "2019-02-12T18:44:40.626166Z"
    }
   },
   "outputs": [
    {
     "data": {
      "text/plain": [
       "18432    1.0\n",
       "12617    1.0\n",
       "18000    3.0\n",
       "12503    4.0\n",
       "3171     4.0\n",
       "1747     3.0\n",
       "20843    3.0\n",
       "5477     3.0\n",
       "2498     2.0\n",
       "19011    2.0\n",
       "Name: general_position_mapped, dtype: float64"
      ]
     },
     "execution_count": 128,
     "metadata": {},
     "output_type": "execute_result"
    }
   ],
   "source": [
    "y_test[:10]"
   ]
  },
  {
   "cell_type": "code",
   "execution_count": 106,
   "metadata": {
    "ExecuteTime": {
     "end_time": "2019-02-12T18:35:12.494528Z",
     "start_time": "2019-02-12T18:35:12.479349Z"
    }
   },
   "outputs": [
    {
     "data": {
      "text/html": [
       "<div>\n",
       "<style scoped>\n",
       "    .dataframe tbody tr th:only-of-type {\n",
       "        vertical-align: middle;\n",
       "    }\n",
       "\n",
       "    .dataframe tbody tr th {\n",
       "        vertical-align: top;\n",
       "    }\n",
       "\n",
       "    .dataframe thead th {\n",
       "        text-align: right;\n",
       "    }\n",
       "</style>\n",
       "<table border=\"1\" class=\"dataframe\">\n",
       "  <thead>\n",
       "    <tr style=\"text-align: right;\">\n",
       "      <th></th>\n",
       "      <th>0</th>\n",
       "      <th>1</th>\n",
       "      <th>2</th>\n",
       "    </tr>\n",
       "  </thead>\n",
       "  <tbody>\n",
       "    <tr>\n",
       "      <th>0</th>\n",
       "      <td>1.0</td>\n",
       "      <td>2.0</td>\n",
       "      <td>4.0</td>\n",
       "    </tr>\n",
       "    <tr>\n",
       "      <th>1</th>\n",
       "      <td>1.0</td>\n",
       "      <td>1.0</td>\n",
       "      <td>NaN</td>\n",
       "    </tr>\n",
       "    <tr>\n",
       "      <th>2</th>\n",
       "      <td>3.0</td>\n",
       "      <td>3.0</td>\n",
       "      <td>NaN</td>\n",
       "    </tr>\n",
       "    <tr>\n",
       "      <th>3</th>\n",
       "      <td>4.0</td>\n",
       "      <td>4.0</td>\n",
       "      <td>4.0</td>\n",
       "    </tr>\n",
       "    <tr>\n",
       "      <th>4</th>\n",
       "      <td>4.0</td>\n",
       "      <td>4.0</td>\n",
       "      <td>NaN</td>\n",
       "    </tr>\n",
       "  </tbody>\n",
       "</table>\n",
       "</div>"
      ],
      "text/plain": [
       "     0    1    2\n",
       "0  1.0  2.0  4.0\n",
       "1  1.0  1.0 NaN \n",
       "2  3.0  3.0 NaN \n",
       "3  4.0  4.0  4.0\n",
       "4  4.0  4.0 NaN "
      ]
     },
     "execution_count": 106,
     "metadata": {},
     "output_type": "execute_result"
    }
   ],
   "source": [
    "svc_result = pd.concat([y_test_df, predictions_df], axis=1, ignore_index=True)\n",
    "svc_result.head()"
   ]
  },
  {
   "cell_type": "code",
   "execution_count": 108,
   "metadata": {
    "ExecuteTime": {
     "end_time": "2019-02-12T18:35:32.877179Z",
     "start_time": "2019-02-12T18:35:32.872659Z"
    }
   },
   "outputs": [],
   "source": [
    "# dropping extra columns\n",
    "svc_result.drop(columns=[2], inplace=True)"
   ]
  },
  {
   "cell_type": "code",
   "execution_count": 110,
   "metadata": {
    "ExecuteTime": {
     "end_time": "2019-02-12T18:36:15.318563Z",
     "start_time": "2019-02-12T18:36:15.313568Z"
    }
   },
   "outputs": [],
   "source": [
    "# Making new column named y_test\n",
    "svc_result['y_test'] = svc_result[0]"
   ]
  },
  {
   "cell_type": "code",
   "execution_count": 112,
   "metadata": {
    "ExecuteTime": {
     "end_time": "2019-02-12T18:36:41.654958Z",
     "start_time": "2019-02-12T18:36:41.650884Z"
    }
   },
   "outputs": [],
   "source": [
    "# Making new column named predictions\n",
    "svc_result['predictions'] = svc_result[1]"
   ]
  },
  {
   "cell_type": "code",
   "execution_count": 114,
   "metadata": {
    "ExecuteTime": {
     "end_time": "2019-02-12T18:37:09.717169Z",
     "start_time": "2019-02-12T18:37:09.711674Z"
    }
   },
   "outputs": [],
   "source": [
    "# dropping extra columns\n",
    "svc_result.drop(columns=[0,1], inplace=True)"
   ]
  },
  {
   "cell_type": "code",
   "execution_count": 116,
   "metadata": {
    "ExecuteTime": {
     "end_time": "2019-02-12T18:37:47.526216Z",
     "start_time": "2019-02-12T18:37:47.519892Z"
    }
   },
   "outputs": [],
   "source": [
    "# Making Columns showing erros in prediction. Erros are all values that are not 0\n",
    "svc_result['diff'] = svc_result['y_test'] - svc_result['predictions']"
   ]
  },
  {
   "cell_type": "code",
   "execution_count": 120,
   "metadata": {
    "ExecuteTime": {
     "end_time": "2019-02-12T18:41:48.087926Z",
     "start_time": "2019-02-12T18:41:48.084645Z"
    }
   },
   "outputs": [],
   "source": [
    "# dict_map_of_general_positions = {'Forward':1,'Midfielder':2,'Defender':3, 'Goalkeeper':4}\n",
    "mapping_no_to_players = {1:'Forward', 2:'Midfielder', 3:'Defender', 4:'Goalkeeper'}"
   ]
  },
  {
   "cell_type": "code",
   "execution_count": 122,
   "metadata": {
    "ExecuteTime": {
     "end_time": "2019-02-12T18:41:59.686139Z",
     "start_time": "2019-02-12T18:41:59.679179Z"
    }
   },
   "outputs": [],
   "source": [
    "# Mapping the players position to column\n",
    "svc_result['players_position_y_test'] = svc_result['y_test'].map(mapping_no_to_players)"
   ]
  },
  {
   "cell_type": "code",
   "execution_count": 126,
   "metadata": {
    "ExecuteTime": {
     "end_time": "2019-02-12T18:44:24.737905Z",
     "start_time": "2019-02-12T18:44:24.724037Z"
    }
   },
   "outputs": [
    {
     "data": {
      "text/html": [
       "<div>\n",
       "<style scoped>\n",
       "    .dataframe tbody tr th:only-of-type {\n",
       "        vertical-align: middle;\n",
       "    }\n",
       "\n",
       "    .dataframe tbody tr th {\n",
       "        vertical-align: top;\n",
       "    }\n",
       "\n",
       "    .dataframe thead th {\n",
       "        text-align: right;\n",
       "    }\n",
       "</style>\n",
       "<table border=\"1\" class=\"dataframe\">\n",
       "  <thead>\n",
       "    <tr style=\"text-align: right;\">\n",
       "      <th></th>\n",
       "      <th>y_test</th>\n",
       "      <th>predictions</th>\n",
       "      <th>diff</th>\n",
       "      <th>players_position_y_test</th>\n",
       "    </tr>\n",
       "  </thead>\n",
       "  <tbody>\n",
       "    <tr>\n",
       "      <th>0</th>\n",
       "      <td>1.0</td>\n",
       "      <td>2.0</td>\n",
       "      <td>-1.0</td>\n",
       "      <td>Forward</td>\n",
       "    </tr>\n",
       "    <tr>\n",
       "      <th>1</th>\n",
       "      <td>1.0</td>\n",
       "      <td>1.0</td>\n",
       "      <td>0.0</td>\n",
       "      <td>Forward</td>\n",
       "    </tr>\n",
       "    <tr>\n",
       "      <th>2</th>\n",
       "      <td>3.0</td>\n",
       "      <td>3.0</td>\n",
       "      <td>0.0</td>\n",
       "      <td>Defender</td>\n",
       "    </tr>\n",
       "    <tr>\n",
       "      <th>3</th>\n",
       "      <td>4.0</td>\n",
       "      <td>4.0</td>\n",
       "      <td>0.0</td>\n",
       "      <td>Goalkeeper</td>\n",
       "    </tr>\n",
       "    <tr>\n",
       "      <th>4</th>\n",
       "      <td>4.0</td>\n",
       "      <td>4.0</td>\n",
       "      <td>0.0</td>\n",
       "      <td>Goalkeeper</td>\n",
       "    </tr>\n",
       "    <tr>\n",
       "      <th>5</th>\n",
       "      <td>3.0</td>\n",
       "      <td>3.0</td>\n",
       "      <td>0.0</td>\n",
       "      <td>Defender</td>\n",
       "    </tr>\n",
       "    <tr>\n",
       "      <th>6</th>\n",
       "      <td>3.0</td>\n",
       "      <td>3.0</td>\n",
       "      <td>0.0</td>\n",
       "      <td>Defender</td>\n",
       "    </tr>\n",
       "    <tr>\n",
       "      <th>7</th>\n",
       "      <td>3.0</td>\n",
       "      <td>3.0</td>\n",
       "      <td>0.0</td>\n",
       "      <td>Defender</td>\n",
       "    </tr>\n",
       "    <tr>\n",
       "      <th>8</th>\n",
       "      <td>2.0</td>\n",
       "      <td>1.0</td>\n",
       "      <td>1.0</td>\n",
       "      <td>Midfielder</td>\n",
       "    </tr>\n",
       "    <tr>\n",
       "      <th>9</th>\n",
       "      <td>2.0</td>\n",
       "      <td>2.0</td>\n",
       "      <td>0.0</td>\n",
       "      <td>Midfielder</td>\n",
       "    </tr>\n",
       "  </tbody>\n",
       "</table>\n",
       "</div>"
      ],
      "text/plain": [
       "   y_test  predictions  diff players_position_y_test\n",
       "0  1.0     2.0         -1.0   Forward               \n",
       "1  1.0     1.0          0.0   Forward               \n",
       "2  3.0     3.0          0.0   Defender              \n",
       "3  4.0     4.0          0.0   Goalkeeper            \n",
       "4  4.0     4.0          0.0   Goalkeeper            \n",
       "5  3.0     3.0          0.0   Defender              \n",
       "6  3.0     3.0          0.0   Defender              \n",
       "7  3.0     3.0          0.0   Defender              \n",
       "8  2.0     1.0          1.0   Midfielder            \n",
       "9  2.0     2.0          0.0   Midfielder            "
      ]
     },
     "execution_count": 126,
     "metadata": {},
     "output_type": "execute_result"
    }
   ],
   "source": [
    "# seeing the actual versus predicted and which postions\n",
    "svc_result[:10]"
   ]
  },
  {
   "cell_type": "code",
   "execution_count": 127,
   "metadata": {
    "ExecuteTime": {
     "end_time": "2019-02-12T18:44:31.089132Z",
     "start_time": "2019-02-12T18:44:31.081705Z"
    }
   },
   "outputs": [
    {
     "data": {
      "text/plain": [
       "[True, False, False, False, False, False, False, False, True, False]"
      ]
     },
     "execution_count": 127,
     "metadata": {},
     "output_type": "execute_result"
    }
   ],
   "source": [
    "# Boolean expression for values that are false\n",
    "[i for i in svc_result['diff'] != 0][:10]"
   ]
  },
  {
   "cell_type": "markdown",
   "metadata": {
    "heading_collapsed": true
   },
   "source": [
    "# End "
   ]
  }
 ],
 "metadata": {
  "kernelspec": {
   "display_name": "Python 3",
   "language": "python",
   "name": "python3"
  },
  "language_info": {
   "codemirror_mode": {
    "name": "ipython",
    "version": 3
   },
   "file_extension": ".py",
   "mimetype": "text/x-python",
   "name": "python",
   "nbconvert_exporter": "python",
   "pygments_lexer": "ipython3",
   "version": "3.6.8"
  },
  "toc": {
   "base_numbering": 1,
   "nav_menu": {},
   "number_sections": true,
   "sideBar": true,
   "skip_h1_title": false,
   "title_cell": "Table of Contents",
   "title_sidebar": "Contents",
   "toc_cell": true,
   "toc_position": {
    "height": "510px",
    "left": "61px",
    "top": "110px",
    "width": "220.035px"
   },
   "toc_section_display": true,
   "toc_window_display": false
  },
  "varInspector": {
   "cols": {
    "lenName": 16,
    "lenType": 16,
    "lenVar": 40
   },
   "kernels_config": {
    "python": {
     "delete_cmd_postfix": "",
     "delete_cmd_prefix": "del ",
     "library": "var_list.py",
     "varRefreshCmd": "print(var_dic_list())"
    },
    "r": {
     "delete_cmd_postfix": ") ",
     "delete_cmd_prefix": "rm(",
     "library": "var_list.r",
     "varRefreshCmd": "cat(var_dic_list()) "
    }
   },
   "position": {
    "height": "600.538px",
    "left": "674.5px",
    "right": "20px",
    "top": "151px",
    "width": "574.549px"
   },
   "types_to_exclude": [
    "module",
    "function",
    "builtin_function_or_method",
    "instance",
    "_Feature"
   ],
   "window_display": true
  }
 },
 "nbformat": 4,
 "nbformat_minor": 2
}
