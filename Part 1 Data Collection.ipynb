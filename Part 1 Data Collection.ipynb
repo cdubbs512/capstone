{
 "cells": [
  {
   "cell_type": "markdown",
   "metadata": {},
   "source": [
    "<center>\n",
    "\n",
    "# Part 1 Data Collection Capstone\n",
    "\n",
    "\n",
    "</center>\n",
    "\n",
    "\n",
    "\n",
    "> **Predicting Footballers Market Values**\n",
    "   \n",
    "> **Using 2008 - 2017 data from transfermarkt.co.uk**\n",
    "   \n",
    "> **Christopher Williams, ATX, GA DSI Feb 2019**\n",
    "\n",
    "\n",
    "\n",
    "> **The data science process.**\n",
    "\n",
    ">1. Define the problem.\n",
    ">2. Gather the data.\n",
    ">3. Explore the data.\n",
    ">4. Model the data.\n",
    ">5. Evaluate the model.\n",
    ">6. Answer the problem.\n",
    "\n",
    "\n",
    "On this jupyter notebook, I'm going to address part 2 of the data science process: gathering the data. See Capstone Model jupyter notebook for the rest of my capstone's data science process."
   ]
  },
  {
   "cell_type": "markdown",
   "metadata": {
    "toc": true
   },
   "source": [
    "<h1>Table of Contents<span class=\"tocSkip\"></span></h1>\n",
    "<div class=\"toc\"><ul class=\"toc-item\"><li><span><a href=\"#Part-1-Data-Collection-Capstone\" data-toc-modified-id=\"Part-1-Data-Collection-Capstone-1\"><span class=\"toc-item-num\">1&nbsp;&nbsp;</span>Part 1 Data Collection Capstone</a></span></li><li><span><a href=\"#Scrapper-Function-get_data\" data-toc-modified-id=\"Scrapper-Function-get_data-2\"><span class=\"toc-item-num\">2&nbsp;&nbsp;</span>Scrapper Function get_data</a></span></li><li><span><a href=\"#Leagues-to-Scrap\" data-toc-modified-id=\"Leagues-to-Scrap-3\"><span class=\"toc-item-num\">3&nbsp;&nbsp;</span>Leagues to Scrap</a></span></li><li><span><a href=\"#Function-to-scrape-each-team's-pages-on-each-league-site-to-get-url-&amp;-id\" data-toc-modified-id=\"Function-to-scrape-each-team's-pages-on-each-league-site-to-get-url-&amp;-id-4\"><span class=\"toc-item-num\">4&nbsp;&nbsp;</span>Function to scrape each team's pages on each league site to get url &amp; id</a></span></li><li><span><a href=\"#Get-the-Club-Name,-Unique-ID,-and-Name-in-URL-for-Each-League's-Team\" data-toc-modified-id=\"Get-the-Club-Name,-Unique-ID,-and-Name-in-URL-for-Each-League's-Team-5\"><span class=\"toc-item-num\">5&nbsp;&nbsp;</span>Get the Club Name, Unique ID, and Name in URL for Each League's Team</a></span></li><li><span><a href=\"#Build-out-the-function-to-insert-team-name-and-team-id-into-url-to-scrap-stats-and-market-value-page\" data-toc-modified-id=\"Build-out-the-function-to-insert-team-name-and-team-id-into-url-to-scrap-stats-and-market-value-page-6\"><span class=\"toc-item-num\">6&nbsp;&nbsp;</span>Build out the function to insert team name and team id into url to scrap stats and market value page</a></span></li><li><span><a href=\"#List-of-Years\" data-toc-modified-id=\"List-of-Years-7\"><span class=\"toc-item-num\">7&nbsp;&nbsp;</span>List of Years</a></span><ul class=\"toc-item\"><li><ul class=\"toc-item\"><li><ul class=\"toc-item\"><li><span><a href=\"#Currently-Using-This-One\" data-toc-modified-id=\"Currently-Using-This-One-7.0.0.1\"><span class=\"toc-item-num\">7.0.0.1&nbsp;&nbsp;</span>Currently Using This One</a></span></li></ul></li></ul></li></ul></li><li><span><a href=\"#Base-Urls\" data-toc-modified-id=\"Base-Urls-8\"><span class=\"toc-item-num\">8&nbsp;&nbsp;</span>Base Urls</a></span></li><li><span><a href=\"#CHANGE-HERE-TO-GET-DATA-FROM-MORE-YEARS\" data-toc-modified-id=\"CHANGE-HERE-TO-GET-DATA-FROM-MORE-YEARS-9\"><span class=\"toc-item-num\">9&nbsp;&nbsp;</span>CHANGE HERE TO GET DATA FROM MORE YEARS</a></span><ul class=\"toc-item\"><li><ul class=\"toc-item\"><li><ul class=\"toc-item\"><li><span><a href=\"#Break\" data-toc-modified-id=\"Break-9.0.0.1\"><span class=\"toc-item-num\">9.0.0.1&nbsp;&nbsp;</span>Break</a></span></li></ul></li></ul></li></ul></li><li><span><a href=\"#Data-Retrieval-Function-called-get_data-that-takes-two-urls\" data-toc-modified-id=\"Data-Retrieval-Function-called-get_data-that-takes-two-urls-10\"><span class=\"toc-item-num\">10&nbsp;&nbsp;</span>Data Retrieval Function called get_data that takes two urls</a></span></li><li><span><a href=\"#For-2013-2017-data-scrap\" data-toc-modified-id=\"For-2013-2017-data-scrap-11\"><span class=\"toc-item-num\">11&nbsp;&nbsp;</span>For 2013-2017 data scrap</a></span></li><li><span><a href=\"#For-2008-2012-data-scrap\" data-toc-modified-id=\"For-2008-2012-data-scrap-12\"><span class=\"toc-item-num\">12&nbsp;&nbsp;</span>For 2008-2012 data scrap</a></span></li><li><span><a href=\"#END\" data-toc-modified-id=\"END-13\"><span class=\"toc-item-num\">13&nbsp;&nbsp;</span>END</a></span></li></ul></div>"
   ]
  },
  {
   "cell_type": "code",
   "execution_count": 45,
   "metadata": {
    "ExecuteTime": {
     "end_time": "2019-02-09T20:48:02.178553Z",
     "start_time": "2019-02-09T20:48:02.158940Z"
    }
   },
   "outputs": [],
   "source": [
    "# Imports\n",
    "\n",
    "import pandas as pd\n",
    "import numpy as np\n",
    "import requests\n",
    "import matplotlib.pyplot as plt\n",
    "from bs4 import BeautifulSoup \n",
    "from time import sleep\n",
    "from selenium import webdriver\n",
    "import os\n",
    "import sys\n",
    "import sqlalchemy\n",
    "import re\n",
    "import psycopg2 as pg2\n",
    "\n",
    "\n",
    "from IPython.core.interactiveshell import InteractiveShell\n",
    "InteractiveShell.ast_node_interactivity = \"all\"\n",
    "\n",
    "%config InlineBackend.figure_format = 'retina'\n",
    "%matplotlib inline\n",
    "\n",
    "pd.set_option('display.max_columns', 500)\n",
    "pd.set_option('display.max_rows', 500)\n",
    "pd.set_option('display.max_colwidth', -1)"
   ]
  },
  {
   "cell_type": "markdown",
   "metadata": {},
   "source": [
    "# Scrapper Function get_data  \n",
    "- Takes two soup objects from both the Market Cap and Player Stat pages"
   ]
  },
  {
   "cell_type": "code",
   "execution_count": 69,
   "metadata": {
    "ExecuteTime": {
     "end_time": "2019-02-09T21:24:56.292968Z",
     "start_time": "2019-02-09T21:24:56.265987Z"
    }
   },
   "outputs": [],
   "source": [
    "# get_data scrapper function\n",
    "# This is the function that gets the data\n",
    "\n",
    "def get_data(soup1, soup2):\n",
    "\n",
    "    ################# from the market value page #################\n",
    "\n",
    "    rows1 = []\n",
    "\n",
    "    df_url1 = pd.DataFrame(columns=['player', 'current_team', 'current_year','birthdate_age', 'nationality', 'height_m', 'foot', 'date_joined', 'year_joined','signed_from', 'transfer_fee', 'contract_until', 'market_value'])\n",
    "\n",
    "    current_team = soup1.find_all('a', {'href':True})[10]['href'].split('/')[3]\n",
    "\n",
    "    current_year = soup1.find_all('a', {'href':True})[10]['href'].split('/')[8]\n",
    "\n",
    "\n",
    "\n",
    "\n",
    "    for i in soup1.find_all('tr', {'class':['even', 'odd']}):\n",
    "\n",
    "\n",
    "        try:\n",
    "            player = i.find('td', {'class':'posrela'}).find_all('tr')[0].find('span',{\"class\":'hide-for-small'}).text\n",
    "        except:\n",
    "            player = '-'\n",
    "\n",
    "        try:\n",
    "            birthdate_age = i.find_all('td', {'class':'zentriert'})[1].text\n",
    "        except:\n",
    "            birthdate_age = '-'\n",
    "\n",
    "        try:\n",
    "            nationality = i.find_all('td')[6].find('img').attrs['title'] \n",
    "        except:\n",
    "            nationality = '-'\n",
    "\n",
    "        try:\n",
    "            height_m = i.find_all('td')[8].text\n",
    "        except:\n",
    "            height_m = '-'\n",
    "\n",
    "        try:\n",
    "            foot = i.find_all('td')[9].text\n",
    "        except:\n",
    "            foot = '-'\n",
    "\n",
    "        try:\n",
    "            date_joined = i.find_all('td')[10].text\n",
    "        except:\n",
    "            date_joined = '-'\n",
    "\n",
    "        try:\n",
    "            year_joined = i.find_all('td')[11].find('a')['href'].split('/')[6]\n",
    "        except:\n",
    "            year_joined = '-'\n",
    "\n",
    "        try:\n",
    "            signed_from = i.find_all('img')[3]['alt'] \n",
    "        except:\n",
    "            signed_from = '-'\n",
    "\n",
    "        try:\n",
    "            transfer_fee = i.find_all('img')[3]['title'].split(': ')[1].split(' ')[1]\n",
    "        except:\n",
    "            transfer_fee = '-'\n",
    "\n",
    "        try:\n",
    "            contract_until = i.find_all('td')[12].text\n",
    "        except:\n",
    "            contract_until = '-'\n",
    "\n",
    "        try:\n",
    "            #market_value = i.find_all('td')[13].text.split('m')[0]\n",
    "            market_value = i.find_all('td')[13].text.split('/')[0]\n",
    "            \n",
    "        except:\n",
    "            market_value = '-'\n",
    "\n",
    "        df_url1.loc[len(df_url1)] = [player, current_team, current_year, birthdate_age, nationality, height_m, foot, date_joined, year_joined, signed_from, transfer_fee, contract_until, market_value]\n",
    "\n",
    "\n",
    "        rows1.append(i)\n",
    "    df_url1.head(25)\n",
    "\n",
    "\n",
    "    ################# from the players stats page #################\n",
    "\n",
    "\n",
    "    rows2 = []\n",
    "\n",
    "    df_url2 = pd.DataFrame(columns=['number', 'player', 'position', 'general_position', 'age', 'in_squad', 'appearances', 'goals', 'assists', 'yellow_card', 'second_yellow', 'red_cards', 'substituted_on', 'substituted_off', 'ppm', 'minutes_played'])\n",
    "\n",
    "    for i in soup2.find_all('tr', {'class':['even', 'odd']}):\n",
    "\n",
    "        try:\n",
    "            number = i.find('div', {'class': 'rn_nummer'}).text\n",
    "        except:\n",
    "            number = '-'\n",
    "\n",
    "        try:\n",
    "            player = i.find('td', {'class':'posrela'}).find_all('tr')[0].find('span',{\"class\":'hide-for-small'}).text\n",
    "        except:\n",
    "            player = '-'\n",
    "\n",
    "        try:\n",
    "            position = i.find('td', {'class':'posrela'}).find_all('tr')[1].text\n",
    "        except:\n",
    "            position = '-'\n",
    "\n",
    "        try:\n",
    "            general_position = i.find_all('td')[0]['title']\n",
    "        except:\n",
    "            general_position = '-'\n",
    "\n",
    "        try:\n",
    "            age = i.find_all('td', {'class':'zentriert'})[1].text\n",
    "        except:\n",
    "            age = '-'\n",
    "\n",
    "\n",
    "        try:\n",
    "            in_squad = i.find_all('td')[7].text\n",
    "        except:\n",
    "            in_squad = '-'\n",
    "\n",
    "        try:\n",
    "            appearances = i.find_all('td')[8].text\n",
    "        except:\n",
    "            appearances = '-'\n",
    "\n",
    "        try:\n",
    "            goals = i.find_all('td')[9].text\n",
    "        except:\n",
    "            goals = '-'\n",
    "\n",
    "        try:\n",
    "            assists = i.find_all('td')[10].text\n",
    "        except:\n",
    "            assists = '-'\n",
    "\n",
    "        try:\n",
    "            yellow_card = i.find_all('td')[11].text\n",
    "        except:\n",
    "            yellow_card = '-'\n",
    "\n",
    "        try:\n",
    "            second_yellow = i.find_all('td')[12].text\n",
    "        except:\n",
    "            second_yellow = '-'\n",
    "\n",
    "        try:\n",
    "            red_cards = i.find_all('td')[13].text\n",
    "        except:\n",
    "            red_cards = '-'\n",
    "\n",
    "        try:\n",
    "            substituted_on = i.find_all('td')[14].text\n",
    "        except:\n",
    "            substituted_on = '-'\n",
    "\n",
    "        try:\n",
    "            substituted_off = i.find_all('td')[15].text\n",
    "        except:\n",
    "            substituted_off = '-'\n",
    "\n",
    "        try:\n",
    "            ppm = i.find_all('td')[16].text\n",
    "        except:\n",
    "            ppm = '-'\n",
    "\n",
    "        try:\n",
    "            minutes_played = i.find_all('td')[17].text\n",
    "        except:\n",
    "            minutes_played = '-'\n",
    "\n",
    "\n",
    "        df_url2.loc[len(df_url2)] = [number, player, position, general_position, age, in_squad, appearances, goals, assists, yellow_card, second_yellow, red_cards, substituted_on, substituted_off, ppm, minutes_played]\n",
    "\n",
    "\n",
    "        rows2.append(i)\n",
    "    df_url2.head(25)\n",
    "\n",
    "\n",
    "    df = pd.merge(df_url1, df_url2, how = 'inner', on = 'player')\n",
    "    return df"
   ]
  },
  {
   "cell_type": "markdown",
   "metadata": {},
   "source": [
    "# Leagues to Scrap"
   ]
  },
  {
   "cell_type": "code",
   "execution_count": 2,
   "metadata": {
    "ExecuteTime": {
     "end_time": "2019-02-09T20:37:11.133411Z",
     "start_time": "2019-02-09T20:37:11.129541Z"
    }
   },
   "outputs": [],
   "source": [
    "# List of all Teams in La Liga\n",
    "la_liga_url = \"https://www.transfermarkt.co.uk/primera-division/startseite/wettbewerb/ES1\"\n",
    "\n",
    "# List of all Teams in Bundelsliga\n",
    "bundesliga_url = \"https://www.transfermarkt.co.uk/1-bundesliga/startseite/wettbewerb/L1\"\n",
    "\n",
    "# List of all Teams in Serie A\n",
    "serie_a_url = \"https://www.transfermarkt.co.uk/serie-a/startseite/wettbewerb/IT1\"\n",
    "\n",
    "# List of all Teams in French Ligue 1\n",
    "ligue_1_url = \"https://www.transfermarkt.co.uk/ligue-1/startseite/wettbewerb/FR1\"\n",
    "\n",
    "# List of all Teams in Premier League\n",
    "premier_league_url = \"https://www.transfermarkt.co.uk/premier-league/startseite/wettbewerb/GB1\"\n",
    "\n",
    "\n",
    "\n",
    "#### List of all League's teams urls    #####\n",
    "league_urls = [la_liga_url, bundesliga_url, serie_a_url, ligue_1_url, premier_league_url]"
   ]
  },
  {
   "cell_type": "code",
   "execution_count": 3,
   "metadata": {
    "ExecuteTime": {
     "end_time": "2019-02-09T20:37:12.057567Z",
     "start_time": "2019-02-09T20:37:12.053836Z"
    }
   },
   "outputs": [
    {
     "name": "stdout",
     "output_type": "stream",
     "text": [
      "https://www.transfermarkt.co.uk/primera-division/startseite/wettbewerb/ES1\n",
      "https://www.transfermarkt.co.uk/1-bundesliga/startseite/wettbewerb/L1\n",
      "https://www.transfermarkt.co.uk/serie-a/startseite/wettbewerb/IT1\n",
      "https://www.transfermarkt.co.uk/ligue-1/startseite/wettbewerb/FR1\n",
      "https://www.transfermarkt.co.uk/premier-league/startseite/wettbewerb/GB1\n"
     ]
    }
   ],
   "source": [
    "for i in league_urls: \n",
    "    print(i)"
   ]
  },
  {
   "cell_type": "markdown",
   "metadata": {},
   "source": [
    "#  Function to scrape each team's pages on each league site to get url & id"
   ]
  },
  {
   "cell_type": "code",
   "execution_count": 4,
   "metadata": {
    "ExecuteTime": {
     "end_time": "2019-02-09T20:37:13.488947Z",
     "start_time": "2019-02-09T20:37:13.480435Z"
    }
   },
   "outputs": [],
   "source": [
    "# Define function to scrape each team's pages on each league site to get url & id\n",
    "\n",
    "def leagues_teams_scraper(soup_object):\n",
    "     \n",
    "    for i in soup.find_all('a', {'class': \"vereinprofil_tooltip tooltipstered\"}):\n",
    "      \n",
    "        ### get the club name ###\n",
    "        club_name = i.text\n",
    "      \n",
    "        ### get the club name used in the url ###\n",
    "        url_name = i['href'].split('/')[1]\n",
    "      \n",
    "        ### get the club ids used in the url ###\n",
    "        id_number = i['href'].split('/')[4]\n",
    "\n",
    "        sleep(.01)\n",
    "        df_leagues_teams_names_urls_and_ids.loc[len(df_leagues_teams_names_urls_and_ids)] = [club_name, id_number, url_name]\n"
   ]
  },
  {
   "cell_type": "markdown",
   "metadata": {},
   "source": [
    "# Get the Club Name, Unique ID, and Name in URL for Each League's Team\n"
   ]
  },
  {
   "cell_type": "code",
   "execution_count": 47,
   "metadata": {
    "ExecuteTime": {
     "end_time": "2019-02-09T20:50:07.734562Z",
     "start_time": "2019-02-09T20:49:05.852662Z"
    },
    "scrolled": false
   },
   "outputs": [
    {
     "name": "stdout",
     "output_type": "stream",
     "text": [
      "98\n"
     ]
    },
    {
     "data": {
      "text/html": [
       "<div>\n",
       "<style scoped>\n",
       "    .dataframe tbody tr th:only-of-type {\n",
       "        vertical-align: middle;\n",
       "    }\n",
       "\n",
       "    .dataframe tbody tr th {\n",
       "        vertical-align: top;\n",
       "    }\n",
       "\n",
       "    .dataframe thead th {\n",
       "        text-align: right;\n",
       "    }\n",
       "</style>\n",
       "<table border=\"1\" class=\"dataframe\">\n",
       "  <thead>\n",
       "    <tr style=\"text-align: right;\">\n",
       "      <th></th>\n",
       "      <th>club_name</th>\n",
       "      <th>id_number</th>\n",
       "      <th>url_name</th>\n",
       "    </tr>\n",
       "  </thead>\n",
       "  <tbody>\n",
       "    <tr>\n",
       "      <th>1</th>\n",
       "      <td>FC Barcelona</td>\n",
       "      <td>131</td>\n",
       "      <td>fc-barcelona</td>\n",
       "    </tr>\n",
       "    <tr>\n",
       "      <th>4</th>\n",
       "      <td>Real Madrid</td>\n",
       "      <td>418</td>\n",
       "      <td>real-madrid</td>\n",
       "    </tr>\n",
       "    <tr>\n",
       "      <th>7</th>\n",
       "      <td>Atlético Madrid</td>\n",
       "      <td>13</td>\n",
       "      <td>atletico-madrid</td>\n",
       "    </tr>\n",
       "    <tr>\n",
       "      <th>10</th>\n",
       "      <td>Valencia CF</td>\n",
       "      <td>1049</td>\n",
       "      <td>fc-valencia</td>\n",
       "    </tr>\n",
       "    <tr>\n",
       "      <th>13</th>\n",
       "      <td>Sevilla FC</td>\n",
       "      <td>368</td>\n",
       "      <td>fc-sevilla</td>\n",
       "    </tr>\n",
       "  </tbody>\n",
       "</table>\n",
       "</div>"
      ],
      "text/plain": [
       "          club_name id_number         url_name\n",
       "1   FC Barcelona     131       fc-barcelona   \n",
       "4   Real Madrid      418       real-madrid    \n",
       "7   Atlético Madrid  13        atletico-madrid\n",
       "10  Valencia CF      1049      fc-valencia    \n",
       "13  Sevilla FC       368       fc-sevilla     "
      ]
     },
     "execution_count": 47,
     "metadata": {},
     "output_type": "execute_result"
    }
   ],
   "source": [
    "# Create dataframe called: df_leagues_teams_names_urls_and_ids\n",
    "# Scraps team's pages on each league site to get club info: to df_leagues_teams_names_urls_and_ids\n",
    "\n",
    "\n",
    "driver = webdriver.Chrome(executable_path=\"./chromedriver\") \n",
    "driver.implicitly_wait(.05) \n",
    "\n",
    "df_leagues_teams_names_urls_and_ids = pd.DataFrame(columns=['club_name', 'id_number', 'url_name'])\n",
    "\n",
    "\n",
    "for url in league_urls:\n",
    "    \n",
    "    driver.get(url)\n",
    "    soup = BeautifulSoup(driver.page_source, 'lxml')\n",
    "    leagues_teams_scraper(soup)\n",
    "    \n",
    "df_leagues_teams_names_urls_and_ids = df_leagues_teams_names_urls_and_ids[df_leagues_teams_names_urls_and_ids['club_name'] != '']\n",
    "df_leagues_teams_names_urls_and_ids = df_leagues_teams_names_urls_and_ids.drop_duplicates(subset='id_number')\n",
    "\n",
    "# Export to csv dataframe of df_leagues_teams_names_urls_and_ids\n",
    "df_leagues_teams_names_urls_and_ids.to_csv('df_leagues_teams_names_urls_and_ids.csv')\n",
    "\n",
    "# Check Length of df_leagues_teams_names_urls_and_ids\n",
    "print(len(df_leagues_teams_names_urls_and_ids))\n",
    "\n",
    "# Check head\n",
    "df_leagues_teams_names_urls_and_ids.head()\n",
    "\n",
    "driver.quit()"
   ]
  },
  {
   "cell_type": "markdown",
   "metadata": {},
   "source": [
    "# Build out the function to insert team name and team id into url to scrap stats and market value page"
   ]
  },
  {
   "cell_type": "code",
   "execution_count": 49,
   "metadata": {
    "ExecuteTime": {
     "end_time": "2019-02-09T20:50:26.321736Z",
     "start_time": "2019-02-09T20:50:26.313937Z"
    },
    "scrolled": true
   },
   "outputs": [
    {
     "data": {
      "text/plain": [
       "['131', '418', '13', '1049', '368']"
      ]
     },
     "execution_count": 49,
     "metadata": {},
     "output_type": "execute_result"
    }
   ],
   "source": [
    "# Create List of all Leagues' Team Ids using df_leagues_teams_names_urls_and_ids\n",
    "\n",
    "ids = [df_leagues_teams_names_urls_and_ids.iloc[i,1] for i in range(0, len(df_leagues_teams_names_urls_and_ids))]\n",
    "ids[:5]"
   ]
  },
  {
   "cell_type": "code",
   "execution_count": 50,
   "metadata": {
    "ExecuteTime": {
     "end_time": "2019-02-09T20:50:27.014163Z",
     "start_time": "2019-02-09T20:50:27.007245Z"
    },
    "scrolled": true
   },
   "outputs": [
    {
     "data": {
      "text/plain": [
       "['fc-barcelona', 'real-madrid', 'atletico-madrid', 'fc-valencia', 'fc-sevilla']"
      ]
     },
     "execution_count": 50,
     "metadata": {},
     "output_type": "execute_result"
    }
   ],
   "source": [
    "# Create List of all Leagues' Team's Names used in URL using df_leagues_teams_names_urls_and_ids\n",
    "\n",
    "teams = [df_leagues_teams_names_urls_and_ids.iloc[i,2] for i in range(0, len(df_leagues_teams_names_urls_and_ids))]\n",
    "teams[:5]"
   ]
  },
  {
   "cell_type": "markdown",
   "metadata": {},
   "source": [
    "# List of Years"
   ]
  },
  {
   "cell_type": "code",
   "execution_count": 51,
   "metadata": {
    "ExecuteTime": {
     "end_time": "2019-02-09T20:50:28.798664Z",
     "start_time": "2019-02-09T20:50:28.795916Z"
    }
   },
   "outputs": [],
   "source": [
    "# # Insert below Number of Years of Data you Want to Collect (Max is 20 years)\n",
    "# # Will collected data from 2017 and previous\n",
    "\n",
    "# num_of_years_wanted = 5\n",
    "\n",
    "# list_of_twenty_years = ['1998','1999','2000','2001','2002','2003','2004','2005','2006','2007','2008','2009', '2010', '2011','2012', '2013', '2014','2015', '2016', '2017']\n",
    "# list_of_years_being_used = [i for i in list_of_twenty_years][-num_of_years_wanted:]\n",
    "# list_of_years_being_used\n"
   ]
  },
  {
   "cell_type": "markdown",
   "metadata": {
    "ExecuteTime": {
     "end_time": "2019-02-09T20:42:43.439796Z",
     "start_time": "2019-02-09T20:42:43.437287Z"
    }
   },
   "source": [
    "#### Currently Using This One"
   ]
  },
  {
   "cell_type": "code",
   "execution_count": 70,
   "metadata": {
    "ExecuteTime": {
     "end_time": "2019-02-09T21:25:22.453151Z",
     "start_time": "2019-02-09T21:25:22.446459Z"
    }
   },
   "outputs": [
    {
     "data": {
      "text/plain": [
       "['2008', '2009', '2010', '2011', '2012']"
      ]
     },
     "execution_count": 70,
     "metadata": {},
     "output_type": "execute_result"
    }
   ],
   "source": [
    "# For 2008 - 2012\n",
    "num_of_years_wanted = 5\n",
    "list_of_twenty_years = ['1998','1999','2000','2001','2002','2003','2004','2005','2006','2007','2008','2009', '2010', '2011','2012']\n",
    "list_of_years_being_used = [i for i in list_of_twenty_years][-num_of_years_wanted:]\n",
    "list_of_years_being_used"
   ]
  },
  {
   "cell_type": "code",
   "execution_count": 120,
   "metadata": {
    "ExecuteTime": {
     "end_time": "2019-02-11T06:11:24.301225Z",
     "start_time": "2019-02-11T06:11:24.298714Z"
    }
   },
   "outputs": [],
   "source": [
    "# # For 2007\n",
    "# num_of_years_wanted = 1\n",
    "# list_of_twenty_years = ['2007']\n",
    "# list_of_years_being_used = [i for i in list_of_twenty_years][-num_of_years_wanted:]\n",
    "# list_of_years_being_used"
   ]
  },
  {
   "cell_type": "markdown",
   "metadata": {},
   "source": [
    "# Base Urls \n",
    "\n",
    "\n",
    "# CHANGE HERE TO GET DATA FROM MORE YEARS"
   ]
  },
  {
   "cell_type": "code",
   "execution_count": 72,
   "metadata": {
    "ExecuteTime": {
     "end_time": "2019-02-09T21:25:39.418842Z",
     "start_time": "2019-02-09T21:25:39.412238Z"
    },
    "scrolled": true
   },
   "outputs": [
    {
     "name": "stdout",
     "output_type": "stream",
     "text": [
      "['2008', '2009', '2010', '2011', '2012']\n"
     ]
    }
   ],
   "source": [
    "# Create a list of all the teams and their ids per each of the 10 years\n",
    "####### change for loop iterable to whichever list of years that you want to do complete scrap on\n",
    "\n",
    "for_loops_list_variable = list_of_years_being_used.copy()\n",
    "\n",
    "\n",
    "list_of_all_teams_ids_years = []\n",
    "for i in for_loops_list_variable:            ####### change this to whichever list of years that you want to do complete scrap on\n",
    "    for (a, b) in zip(teams, ids):\n",
    "        c = a, b + '',''+i\n",
    "        list_of_all_teams_ids_years.append(c)\n",
    "        \n",
    "# Years Being Used In the function from here out\n",
    "print(for_loops_list_variable)\n",
    "        "
   ]
  },
  {
   "cell_type": "code",
   "execution_count": 119,
   "metadata": {
    "ExecuteTime": {
     "end_time": "2019-02-11T05:36:22.658409Z",
     "start_time": "2019-02-11T05:36:22.617181Z"
    },
    "scrolled": true
   },
   "outputs": [],
   "source": [
    "# # Uncomment to see list of info to build urls\n",
    "# list_of_all_teams_ids_years"
   ]
  },
  {
   "cell_type": "code",
   "execution_count": 74,
   "metadata": {
    "ExecuteTime": {
     "end_time": "2019-02-09T21:25:50.087244Z",
     "start_time": "2019-02-09T21:25:50.079332Z"
    }
   },
   "outputs": [
    {
     "data": {
      "text/plain": [
       "980"
      ]
     },
     "execution_count": 74,
     "metadata": {},
     "output_type": "execute_result"
    }
   ],
   "source": [
    "# This is how many individual pages of team data that will be collected\n",
    "\n",
    "len(list_of_all_teams_ids_years) * 2"
   ]
  },
  {
   "cell_type": "code",
   "execution_count": 75,
   "metadata": {
    "ExecuteTime": {
     "end_time": "2019-02-09T21:25:54.568189Z",
     "start_time": "2019-02-09T21:25:54.560502Z"
    },
    "scrolled": true
   },
   "outputs": [],
   "source": [
    "## Make list of URLS: url1 & url2\n",
    "\n",
    "# url1 for players market values\n",
    "list_url1 = []\n",
    "for i in range(len(list_of_all_teams_ids_years)):\n",
    "    url1 = \"https://www.transfermarkt.co.uk/\" + list_of_all_teams_ids_years[i][0] + \"/kader/verein/\" + list_of_all_teams_ids_years[i][1] + \"/saison_id/\" + list_of_all_teams_ids_years[i][2] + \"/plus/1\"\n",
    "    list_url1.append(url1)\n",
    "    # print(url1)  # in order to see the urls and click on them\n",
    "    \n",
    "    \n",
    "# url2 for players stats\n",
    "list_url2 = []\n",
    "for i in range(len(list_of_all_teams_ids_years)):\n",
    "    url2 = \"https://www.transfermarkt.co.uk/\" + list_of_all_teams_ids_years[i][0] + \"/leistungsdaten/verein/\" + list_of_all_teams_ids_years[i][1] + \"/reldata/%26\" + list_of_all_teams_ids_years[i][2] + \"/plus/1\"\n",
    "    list_url2.append(url2)\n",
    "     # print(url2) # in order to see the urls and click on them\n",
    "    \n",
    "\n"
   ]
  },
  {
   "cell_type": "code",
   "execution_count": 76,
   "metadata": {
    "ExecuteTime": {
     "end_time": "2019-02-09T21:25:59.242161Z",
     "start_time": "2019-02-09T21:25:59.236149Z"
    }
   },
   "outputs": [
    {
     "name": "stdout",
     "output_type": "stream",
     "text": [
      "Scrapper will run over 490 Market Value Pages and 490 Player Stats pages for each Club for a total of 980 unique webpages.\n"
     ]
    }
   ],
   "source": [
    "print('Scrapper will run over ' + str(len(list_url1)) + ' Market Value Pages and ' + str(len(list_url2)) + ' Player Stats pages for each Club for a total of ' + str(len(list_url1) + len(list_url2)) + ' unique webpages.')\n",
    "\n"
   ]
  },
  {
   "cell_type": "markdown",
   "metadata": {},
   "source": [
    "#### Break"
   ]
  },
  {
   "cell_type": "markdown",
   "metadata": {},
   "source": [
    "# Data Retrieval Function called get_data that takes two urls"
   ]
  },
  {
   "cell_type": "code",
   "execution_count": 36,
   "metadata": {
    "ExecuteTime": {
     "end_time": "2019-02-09T11:01:15.794525Z",
     "start_time": "2019-02-09T11:01:15.791875Z"
    },
    "scrolled": true
   },
   "outputs": [],
   "source": [
    "# # Uncomment to check list_url1 and list_url2 for all\n",
    "# for a, b in zip(list_url1, list_url2):\n",
    "#      print(a, b)"
   ]
  },
  {
   "cell_type": "code",
   "execution_count": 37,
   "metadata": {
    "ExecuteTime": {
     "end_time": "2019-02-09T11:01:16.120177Z",
     "start_time": "2019-02-09T11:01:16.116791Z"
    }
   },
   "outputs": [],
   "source": [
    "# # Uncomment to see all list_url1\n",
    "# list_url1"
   ]
  },
  {
   "cell_type": "code",
   "execution_count": 38,
   "metadata": {
    "ExecuteTime": {
     "end_time": "2019-02-09T11:01:16.772688Z",
     "start_time": "2019-02-09T11:01:16.770007Z"
    },
    "scrolled": true
   },
   "outputs": [],
   "source": [
    "# # Uncomment to see all list_url2\n",
    "# list_url2"
   ]
  },
  {
   "cell_type": "code",
   "execution_count": 41,
   "metadata": {
    "ExecuteTime": {
     "end_time": "2019-02-09T11:02:26.426013Z",
     "start_time": "2019-02-09T11:02:26.421061Z"
    }
   },
   "outputs": [
    {
     "data": {
      "text/plain": [
       "490"
      ]
     },
     "execution_count": 41,
     "metadata": {},
     "output_type": "execute_result"
    }
   ],
   "source": [
    "# how many pages it'll go to, if fully run\n",
    "len(list_url1)"
   ]
  },
  {
   "cell_type": "markdown",
   "metadata": {},
   "source": [
    "# For 2013-2017 data scrap"
   ]
  },
  {
   "cell_type": "code",
   "execution_count": 44,
   "metadata": {
    "ExecuteTime": {
     "end_time": "2019-02-09T19:42:32.175561Z",
     "start_time": "2019-02-09T19:42:32.171173Z"
    }
   },
   "outputs": [
    {
     "name": "stdout",
     "output_type": "stream",
     "text": [
      "Scrapper will run over 490 Market Value Pages and 490 Player Stats pages for each Club for a total of 980 unique webpages.\n"
     ]
    }
   ],
   "source": [
    "# print('Scrapper will run over ' + str(len(list_url1)) + ' Market Value Pages and ' + str(len(list_url2)) + ' Player Stats pages for each Club for a total of ' + str(len(list_url1) + len(list_url2)) + ' unique webpages.')\n"
   ]
  },
  {
   "cell_type": "code",
   "execution_count": 42,
   "metadata": {
    "ExecuteTime": {
     "end_time": "2019-02-09T19:32:52.153699Z",
     "start_time": "2019-02-09T11:04:03.842253Z"
    },
    "scrolled": true
   },
   "outputs": [
    {
     "name": "stdout",
     "output_type": "stream",
     "text": [
      "(14644, 28)\n"
     ]
    },
    {
     "data": {
      "text/html": [
       "<div>\n",
       "<style scoped>\n",
       "    .dataframe tbody tr th:only-of-type {\n",
       "        vertical-align: middle;\n",
       "    }\n",
       "\n",
       "    .dataframe tbody tr th {\n",
       "        vertical-align: top;\n",
       "    }\n",
       "\n",
       "    .dataframe thead th {\n",
       "        text-align: right;\n",
       "    }\n",
       "</style>\n",
       "<table border=\"1\" class=\"dataframe\">\n",
       "  <thead>\n",
       "    <tr style=\"text-align: right;\">\n",
       "      <th></th>\n",
       "      <th>player</th>\n",
       "      <th>current_team</th>\n",
       "      <th>current_year</th>\n",
       "      <th>birthdate_age</th>\n",
       "      <th>nationality</th>\n",
       "      <th>height_m</th>\n",
       "      <th>foot</th>\n",
       "      <th>date_joined</th>\n",
       "      <th>year_joined</th>\n",
       "      <th>signed_from</th>\n",
       "      <th>transfer_fee</th>\n",
       "      <th>contract_until</th>\n",
       "      <th>market_value</th>\n",
       "      <th>number</th>\n",
       "      <th>position</th>\n",
       "      <th>general_position</th>\n",
       "      <th>age</th>\n",
       "      <th>in_squad</th>\n",
       "      <th>appearances</th>\n",
       "      <th>goals</th>\n",
       "      <th>assists</th>\n",
       "      <th>yellow_card</th>\n",
       "      <th>second_yellow</th>\n",
       "      <th>red_cards</th>\n",
       "      <th>substituted_on</th>\n",
       "      <th>substituted_off</th>\n",
       "      <th>ppm</th>\n",
       "      <th>minutes_played</th>\n",
       "    </tr>\n",
       "  </thead>\n",
       "  <tbody>\n",
       "    <tr>\n",
       "      <th>0</th>\n",
       "      <td>Víctor Valdés</td>\n",
       "      <td>fc-barcelona</td>\n",
       "      <td>2013</td>\n",
       "      <td>Jan 14, 1982 (31)</td>\n",
       "      <td>Spain</td>\n",
       "      <td>1,83 m</td>\n",
       "      <td>right</td>\n",
       "      <td>Jul 1, 2002</td>\n",
       "      <td>2002</td>\n",
       "      <td>FC Barcelona B</td>\n",
       "      <td>-</td>\n",
       "      <td>-</td>\n",
       "      <td>£9.00m</td>\n",
       "      <td>1</td>\n",
       "      <td>Goalkeeper</td>\n",
       "      <td>Goalkeeper</td>\n",
       "      <td>31</td>\n",
       "      <td>40</td>\n",
       "      <td>34</td>\n",
       "      <td>-</td>\n",
       "      <td>-</td>\n",
       "      <td>2</td>\n",
       "      <td>-</td>\n",
       "      <td>-</td>\n",
       "      <td>-</td>\n",
       "      <td>1</td>\n",
       "      <td>2,38</td>\n",
       "      <td>2.993'</td>\n",
       "    </tr>\n",
       "    <tr>\n",
       "      <th>1</th>\n",
       "      <td>Oier Olazábal</td>\n",
       "      <td>fc-barcelona</td>\n",
       "      <td>2013</td>\n",
       "      <td>Sep 14, 1989 (23)</td>\n",
       "      <td>Spain</td>\n",
       "      <td>1,89 m</td>\n",
       "      <td>left</td>\n",
       "      <td>Jul 1, 2013</td>\n",
       "      <td>2013</td>\n",
       "      <td>Spain</td>\n",
       "      <td>-</td>\n",
       "      <td>-</td>\n",
       "      <td>£1.35m</td>\n",
       "      <td>25</td>\n",
       "      <td>Goalkeeper</td>\n",
       "      <td>Goalkeeper</td>\n",
       "      <td>23</td>\n",
       "      <td>21</td>\n",
       "      <td>Was not used during this season</td>\n",
       "      <td>-</td>\n",
       "      <td>-</td>\n",
       "      <td>-</td>\n",
       "      <td>-</td>\n",
       "      <td>-</td>\n",
       "      <td>-</td>\n",
       "      <td>-</td>\n",
       "      <td>0</td>\n",
       "      <td>-</td>\n",
       "    </tr>\n",
       "    <tr>\n",
       "      <th>2</th>\n",
       "      <td>José Manuel Pinto</td>\n",
       "      <td>fc-barcelona</td>\n",
       "      <td>2013</td>\n",
       "      <td>Nov 8, 1975 (37)</td>\n",
       "      <td>Spain</td>\n",
       "      <td>1,85 m</td>\n",
       "      <td>right</td>\n",
       "      <td>Jul 1, 2008</td>\n",
       "      <td>2008</td>\n",
       "      <td>Celta de Vigo</td>\n",
       "      <td>Free</td>\n",
       "      <td>-</td>\n",
       "      <td>£270k</td>\n",
       "      <td>13</td>\n",
       "      <td>Goalkeeper</td>\n",
       "      <td>Goalkeeper</td>\n",
       "      <td>37</td>\n",
       "      <td>57</td>\n",
       "      <td>26</td>\n",
       "      <td>-</td>\n",
       "      <td>-</td>\n",
       "      <td>1</td>\n",
       "      <td>-</td>\n",
       "      <td>-</td>\n",
       "      <td>1</td>\n",
       "      <td>-</td>\n",
       "      <td>2,04</td>\n",
       "      <td>2.317'</td>\n",
       "    </tr>\n",
       "    <tr>\n",
       "      <th>3</th>\n",
       "      <td>Gerard Piqué</td>\n",
       "      <td>fc-barcelona</td>\n",
       "      <td>2013</td>\n",
       "      <td>Feb 2, 1987 (26)</td>\n",
       "      <td>Spain</td>\n",
       "      <td>1,94 m</td>\n",
       "      <td>right</td>\n",
       "      <td>Jul 1, 2008</td>\n",
       "      <td>2008</td>\n",
       "      <td>Manchester United</td>\n",
       "      <td>£4.50m</td>\n",
       "      <td>30.06.2022</td>\n",
       "      <td>£32.40m</td>\n",
       "      <td>3</td>\n",
       "      <td>Centre-Back</td>\n",
       "      <td>Defender</td>\n",
       "      <td>26</td>\n",
       "      <td>43</td>\n",
       "      <td>39</td>\n",
       "      <td>4</td>\n",
       "      <td>-</td>\n",
       "      <td>7</td>\n",
       "      <td>-</td>\n",
       "      <td>-</td>\n",
       "      <td>-</td>\n",
       "      <td>4</td>\n",
       "      <td>2,21</td>\n",
       "      <td>3.393'</td>\n",
       "    </tr>\n",
       "    <tr>\n",
       "      <th>4</th>\n",
       "      <td>Marc Bartra</td>\n",
       "      <td>fc-barcelona</td>\n",
       "      <td>2013</td>\n",
       "      <td>Jan 15, 1991 (22)</td>\n",
       "      <td>Spain</td>\n",
       "      <td>1,84 m</td>\n",
       "      <td>right</td>\n",
       "      <td>Jul 1, 2012</td>\n",
       "      <td>2012</td>\n",
       "      <td>FC Barcelona B</td>\n",
       "      <td>-</td>\n",
       "      <td>-</td>\n",
       "      <td>£5.40m</td>\n",
       "      <td>15</td>\n",
       "      <td>Centre-Back</td>\n",
       "      <td>Defender</td>\n",
       "      <td>22</td>\n",
       "      <td>51</td>\n",
       "      <td>30</td>\n",
       "      <td>2</td>\n",
       "      <td>1</td>\n",
       "      <td>4</td>\n",
       "      <td>-</td>\n",
       "      <td>-</td>\n",
       "      <td>6</td>\n",
       "      <td>1</td>\n",
       "      <td>2,37</td>\n",
       "      <td>2.302'</td>\n",
       "    </tr>\n",
       "  </tbody>\n",
       "</table>\n",
       "</div>"
      ],
      "text/plain": [
       "              player  current_team current_year      birthdate_age  \\\n",
       "0  Víctor Valdés      fc-barcelona  2013         Jan 14, 1982 (31)   \n",
       "1  Oier Olazábal      fc-barcelona  2013         Sep 14, 1989 (23)   \n",
       "2  José Manuel Pinto  fc-barcelona  2013         Nov 8, 1975 (37)    \n",
       "3  Gerard Piqué       fc-barcelona  2013         Feb 2, 1987 (26)    \n",
       "4  Marc Bartra        fc-barcelona  2013         Jan 15, 1991 (22)   \n",
       "\n",
       "  nationality height_m   foot  date_joined year_joined        signed_from  \\\n",
       "0  Spain       1,83 m   right  Jul 1, 2002  2002        FC Barcelona B      \n",
       "1  Spain       1,89 m   left   Jul 1, 2013  2013        Spain               \n",
       "2  Spain       1,85 m   right  Jul 1, 2008  2008        Celta de Vigo       \n",
       "3  Spain       1,94 m   right  Jul 1, 2008  2008        Manchester United   \n",
       "4  Spain       1,84 m   right  Jul 1, 2012  2012        FC Barcelona B      \n",
       "\n",
       "  transfer_fee contract_until market_value number     position  \\\n",
       "0  -            -              £9.00m       1      Goalkeeper    \n",
       "1  -            -              £1.35m       25     Goalkeeper    \n",
       "2  Free         -              £270k        13     Goalkeeper    \n",
       "3  £4.50m       30.06.2022     £32.40m      3      Centre-Back   \n",
       "4  -            -              £5.40m       15     Centre-Back   \n",
       "\n",
       "  general_position age in_squad                      appearances goals  \\\n",
       "0  Goalkeeper       31  40       34                               -      \n",
       "1  Goalkeeper       23  21       Was not used during this season  -      \n",
       "2  Goalkeeper       37  57       26                               -      \n",
       "3  Defender         26  43       39                               4      \n",
       "4  Defender         22  51       30                               2      \n",
       "\n",
       "  assists yellow_card second_yellow red_cards substituted_on substituted_off  \\\n",
       "0  -       2           -             -         -              1                \n",
       "1  -       -           -             -         -              -                \n",
       "2  -       1           -             -         1              -                \n",
       "3  -       7           -             -         -              4                \n",
       "4  1       4           -             -         6              1                \n",
       "\n",
       "    ppm minutes_played  \n",
       "0  2,38  2.993'         \n",
       "1  0     -              \n",
       "2  2,04  2.317'         \n",
       "3  2,21  3.393'         \n",
       "4  2,37  2.302'         "
      ]
     },
     "execution_count": 42,
     "metadata": {},
     "output_type": "execute_result"
    }
   ],
   "source": [
    "# # Run this to return the dataframe of info\n",
    "\n",
    "# driver = webdriver.Chrome(executable_path=\"./chromedriver\") \n",
    "# driver.implicitly_wait(5) \n",
    "\n",
    "\n",
    "# list_of_dfs = []\n",
    "\n",
    "# for url1, url2 in zip(list_url1, list_url2):\n",
    "    \n",
    "#     try:\n",
    "#         driver.get(url1)\n",
    "#         soup1 = BeautifulSoup(driver.page_source, 'lxml')\n",
    "#         sleep(.1)\n",
    "#     except:\n",
    "#         continue\n",
    "    \n",
    "#     try:\n",
    "#         driver.get(url2)\n",
    "#         soup2 = BeautifulSoup(driver.page_source, 'lxml')\n",
    "#     except:\n",
    "#         continue\n",
    "\n",
    "#     list_of_dfs.append(get_data(soup1, soup2))\n",
    "\n",
    "# df_master = pd.concat(list_of_dfs, ignore_index=True, sort=False)\n",
    "# df_master.to_csv('df_master.csv')\n",
    "# print(df_master.shape)\n",
    " \n",
    "\n",
    "# driver.quit()\n",
    "# df_master.head()"
   ]
  },
  {
   "cell_type": "markdown",
   "metadata": {},
   "source": [
    "# For 2008-2012 data scrap"
   ]
  },
  {
   "cell_type": "code",
   "execution_count": 77,
   "metadata": {
    "ExecuteTime": {
     "end_time": "2019-02-09T21:26:16.916995Z",
     "start_time": "2019-02-09T21:26:16.912430Z"
    }
   },
   "outputs": [
    {
     "name": "stdout",
     "output_type": "stream",
     "text": [
      "Scrapper will run over 490 Market Value Pages and 490 Player Stats pages for each Club for a total of 980 unique webpages.\n"
     ]
    }
   ],
   "source": [
    "print('Scrapper will run over ' + str(len(list_url1)) + ' Market Value Pages and ' + str(len(list_url2)) + ' Player Stats pages for each Club for a total of ' + str(len(list_url1) + len(list_url2)) + ' unique webpages.')\n",
    "\n"
   ]
  },
  {
   "cell_type": "code",
   "execution_count": 79,
   "metadata": {
    "ExecuteTime": {
     "end_time": "2019-02-09T21:26:29.797461Z",
     "start_time": "2019-02-09T21:26:29.790605Z"
    }
   },
   "outputs": [
    {
     "data": {
      "text/plain": [
       "980"
      ]
     },
     "execution_count": 79,
     "metadata": {},
     "output_type": "execute_result"
    }
   ],
   "source": [
    "# how many pages it'll go to, if fully run\n",
    "len(list_url1)*2"
   ]
  },
  {
   "cell_type": "code",
   "execution_count": 80,
   "metadata": {
    "ExecuteTime": {
     "end_time": "2019-02-10T02:28:30.054989Z",
     "start_time": "2019-02-09T21:29:07.183437Z"
    }
   },
   "outputs": [
    {
     "name": "stderr",
     "output_type": "stream",
     "text": [
      "/anaconda3/lib/python3.6/site-packages/ipykernel_launcher.py:31: FutureWarning: Sorting because non-concatenation axis is not aligned. A future version\n",
      "of pandas will change to not sort by default.\n",
      "\n",
      "To accept the future behavior, pass 'sort=False'.\n",
      "\n",
      "To retain the current behavior and silence the warning, pass 'sort=True'.\n",
      "\n"
     ]
    },
    {
     "name": "stdout",
     "output_type": "stream",
     "text": [
      "(15860, 28)\n"
     ]
    },
    {
     "data": {
      "text/html": [
       "<div>\n",
       "<style scoped>\n",
       "    .dataframe tbody tr th:only-of-type {\n",
       "        vertical-align: middle;\n",
       "    }\n",
       "\n",
       "    .dataframe tbody tr th {\n",
       "        vertical-align: top;\n",
       "    }\n",
       "\n",
       "    .dataframe thead th {\n",
       "        text-align: right;\n",
       "    }\n",
       "</style>\n",
       "<table border=\"1\" class=\"dataframe\">\n",
       "  <thead>\n",
       "    <tr style=\"text-align: right;\">\n",
       "      <th></th>\n",
       "      <th>age</th>\n",
       "      <th>appearances</th>\n",
       "      <th>assists</th>\n",
       "      <th>birthdate_age</th>\n",
       "      <th>contract_until</th>\n",
       "      <th>current_team</th>\n",
       "      <th>current_year</th>\n",
       "      <th>date_joined</th>\n",
       "      <th>foot</th>\n",
       "      <th>general_position</th>\n",
       "      <th>goals</th>\n",
       "      <th>height_m</th>\n",
       "      <th>in_squad</th>\n",
       "      <th>market_value</th>\n",
       "      <th>minutes_played</th>\n",
       "      <th>nationality</th>\n",
       "      <th>number</th>\n",
       "      <th>player</th>\n",
       "      <th>position</th>\n",
       "      <th>ppm</th>\n",
       "      <th>red_cards</th>\n",
       "      <th>second_yellow</th>\n",
       "      <th>signed_from</th>\n",
       "      <th>substituted_off</th>\n",
       "      <th>substituted_on</th>\n",
       "      <th>transfer_fee</th>\n",
       "      <th>year_joined</th>\n",
       "      <th>yellow_card</th>\n",
       "    </tr>\n",
       "  </thead>\n",
       "  <tbody>\n",
       "    <tr>\n",
       "      <th>0</th>\n",
       "      <td>26</td>\n",
       "      <td>49</td>\n",
       "      <td>-</td>\n",
       "      <td>Jan 14, 1982 (26)</td>\n",
       "      <td>-</td>\n",
       "      <td>fc-barcelona</td>\n",
       "      <td>2008</td>\n",
       "      <td>Jul 1, 2002</td>\n",
       "      <td>right</td>\n",
       "      <td>Goalkeeper</td>\n",
       "      <td>-</td>\n",
       "      <td>1,83 m</td>\n",
       "      <td>52</td>\n",
       "      <td>£13.50m</td>\n",
       "      <td>4.410'</td>\n",
       "      <td>Spain</td>\n",
       "      <td>1</td>\n",
       "      <td>Víctor Valdés</td>\n",
       "      <td>Goalkeeper</td>\n",
       "      <td>2,35</td>\n",
       "      <td>-</td>\n",
       "      <td>-</td>\n",
       "      <td>FC Barcelona B</td>\n",
       "      <td>-</td>\n",
       "      <td>-</td>\n",
       "      <td>-</td>\n",
       "      <td>2002</td>\n",
       "      <td>3</td>\n",
       "    </tr>\n",
       "    <tr>\n",
       "      <th>1</th>\n",
       "      <td>32</td>\n",
       "      <td>11</td>\n",
       "      <td>-</td>\n",
       "      <td>Nov 8, 1975 (32)</td>\n",
       "      <td>-</td>\n",
       "      <td>fc-barcelona</td>\n",
       "      <td>2008</td>\n",
       "      <td>Jul 1, 2008</td>\n",
       "      <td>right</td>\n",
       "      <td>Goalkeeper</td>\n",
       "      <td>-</td>\n",
       "      <td>1,85 m</td>\n",
       "      <td>51</td>\n",
       "      <td>£1.80m</td>\n",
       "      <td>990'</td>\n",
       "      <td>Spain</td>\n",
       "      <td>13</td>\n",
       "      <td>José Manuel Pinto</td>\n",
       "      <td>Goalkeeper</td>\n",
       "      <td>2,18</td>\n",
       "      <td>-</td>\n",
       "      <td>-</td>\n",
       "      <td>Spain</td>\n",
       "      <td>-</td>\n",
       "      <td>-</td>\n",
       "      <td>-</td>\n",
       "      <td>2008</td>\n",
       "      <td>1</td>\n",
       "    </tr>\n",
       "    <tr>\n",
       "      <th>2</th>\n",
       "      <td>29</td>\n",
       "      <td>1</td>\n",
       "      <td>-</td>\n",
       "      <td>Mar 3, 1979 (29)</td>\n",
       "      <td>-</td>\n",
       "      <td>fc-barcelona</td>\n",
       "      <td>2008</td>\n",
       "      <td>Jul 1, 2003</td>\n",
       "      <td>-</td>\n",
       "      <td>Goalkeeper</td>\n",
       "      <td>-</td>\n",
       "      <td>1,83 m</td>\n",
       "      <td>20</td>\n",
       "      <td>£720k</td>\n",
       "      <td>90'</td>\n",
       "      <td>Spain</td>\n",
       "      <td>25</td>\n",
       "      <td>Albert Jorquera</td>\n",
       "      <td>Goalkeeper</td>\n",
       "      <td>0,00</td>\n",
       "      <td>-</td>\n",
       "      <td>-</td>\n",
       "      <td>FC Barcelona B</td>\n",
       "      <td>-</td>\n",
       "      <td>-</td>\n",
       "      <td>-</td>\n",
       "      <td>2003</td>\n",
       "      <td>-</td>\n",
       "    </tr>\n",
       "    <tr>\n",
       "      <th>3</th>\n",
       "      <td>18</td>\n",
       "      <td>1</td>\n",
       "      <td>-</td>\n",
       "      <td>Sep 14, 1989 (18)</td>\n",
       "      <td>-</td>\n",
       "      <td>fc-barcelona</td>\n",
       "      <td>2008</td>\n",
       "      <td>Aug 1, 2007</td>\n",
       "      <td>left</td>\n",
       "      <td>Goalkeeper</td>\n",
       "      <td>-</td>\n",
       "      <td>1,89 m</td>\n",
       "      <td>2</td>\n",
       "      <td>£540k</td>\n",
       "      <td>90'</td>\n",
       "      <td>Spain</td>\n",
       "      <td>-</td>\n",
       "      <td>Oier Olazábal</td>\n",
       "      <td>Goalkeeper</td>\n",
       "      <td>0,00</td>\n",
       "      <td>-</td>\n",
       "      <td>-</td>\n",
       "      <td>FC Barcelona B</td>\n",
       "      <td>-</td>\n",
       "      <td>-</td>\n",
       "      <td>-</td>\n",
       "      <td>2007</td>\n",
       "      <td>-</td>\n",
       "    </tr>\n",
       "    <tr>\n",
       "      <th>4</th>\n",
       "      <td>30</td>\n",
       "      <td>45</td>\n",
       "      <td>3</td>\n",
       "      <td>Apr 13, 1978 (30)</td>\n",
       "      <td>-</td>\n",
       "      <td>fc-barcelona</td>\n",
       "      <td>2008</td>\n",
       "      <td>Jul 1, 1999</td>\n",
       "      <td>right</td>\n",
       "      <td>Defender</td>\n",
       "      <td>1</td>\n",
       "      <td>1,78 m</td>\n",
       "      <td>49</td>\n",
       "      <td>£23.40m</td>\n",
       "      <td>3.768'</td>\n",
       "      <td>Spain</td>\n",
       "      <td>5</td>\n",
       "      <td>Carles Puyol</td>\n",
       "      <td>Centre-Back</td>\n",
       "      <td>2,29</td>\n",
       "      <td>-</td>\n",
       "      <td>-</td>\n",
       "      <td>FC Barcelona B</td>\n",
       "      <td>6</td>\n",
       "      <td>4</td>\n",
       "      <td>-</td>\n",
       "      <td>1999</td>\n",
       "      <td>8</td>\n",
       "    </tr>\n",
       "  </tbody>\n",
       "</table>\n",
       "</div>"
      ],
      "text/plain": [
       "  age appearances assists      birthdate_age contract_until  current_team  \\\n",
       "0  26  49          -       Jan 14, 1982 (26)  -              fc-barcelona   \n",
       "1  32  11          -       Nov 8, 1975 (32)   -              fc-barcelona   \n",
       "2  29  1           -       Mar 3, 1979 (29)   -              fc-barcelona   \n",
       "3  18  1           -       Sep 14, 1989 (18)  -              fc-barcelona   \n",
       "4  30  45          3       Apr 13, 1978 (30)  -              fc-barcelona   \n",
       "\n",
       "  current_year  date_joined   foot general_position goals height_m in_squad  \\\n",
       "0  2008         Jul 1, 2002  right  Goalkeeper       -     1,83 m   52        \n",
       "1  2008         Jul 1, 2008  right  Goalkeeper       -     1,85 m   51        \n",
       "2  2008         Jul 1, 2003  -      Goalkeeper       -     1,83 m   20        \n",
       "3  2008         Aug 1, 2007  left   Goalkeeper       -     1,89 m   2         \n",
       "4  2008         Jul 1, 1999  right  Defender         1     1,78 m   49        \n",
       "\n",
       "  market_value minutes_played nationality number             player  \\\n",
       "0  £13.50m      4.410'         Spain       1      Víctor Valdés       \n",
       "1  £1.80m       990'           Spain       13     José Manuel Pinto   \n",
       "2  £720k        90'            Spain       25     Albert Jorquera     \n",
       "3  £540k        90'            Spain       -      Oier Olazábal       \n",
       "4  £23.40m      3.768'         Spain       5      Carles Puyol        \n",
       "\n",
       "      position   ppm red_cards second_yellow     signed_from substituted_off  \\\n",
       "0  Goalkeeper   2,35  -         -             FC Barcelona B  -                \n",
       "1  Goalkeeper   2,18  -         -             Spain           -                \n",
       "2  Goalkeeper   0,00  -         -             FC Barcelona B  -                \n",
       "3  Goalkeeper   0,00  -         -             FC Barcelona B  -                \n",
       "4  Centre-Back  2,29  -         -             FC Barcelona B  6                \n",
       "\n",
       "  substituted_on transfer_fee year_joined yellow_card  \n",
       "0  -              -            2002        3           \n",
       "1  -              -            2008        1           \n",
       "2  -              -            2003        -           \n",
       "3  -              -            2007        -           \n",
       "4  4              -            1999        8           "
      ]
     },
     "execution_count": 80,
     "metadata": {},
     "output_type": "execute_result"
    }
   ],
   "source": [
    "# # Run this to return the dataframe of info for 2008 to 2012\n",
    "\n",
    "# Run this to return the dataframe of info for 2008 to 2012\n",
    "\n",
    "driver = webdriver.Chrome(executable_path=\"./chromedriver\") \n",
    "driver.implicitly_wait(5) \n",
    "\n",
    "\n",
    "list_of_dfs = []\n",
    "\n",
    "for url1, url2 in zip(list_url1, list_url2):\n",
    "    \n",
    "    try:\n",
    "        driver.get(url1)\n",
    "        soup1 = BeautifulSoup(driver.page_source, 'lxml')\n",
    "        sleep(.1)\n",
    "        driver.refresh()\n",
    "    except:\n",
    "        continue\n",
    "    \n",
    "    try:\n",
    "        driver.get(url2)\n",
    "        soup2 = BeautifulSoup(driver.page_source, 'lxml')\n",
    "        sleep(.1)\n",
    "        driver.refresh()\n",
    "    except:\n",
    "        continue\n",
    "\n",
    "    list_of_dfs.append(get_data(soup1, soup2))\n",
    "\n",
    "df_master = pd.concat(list_of_dfs, ignore_index=True, sort=False) # added sort=False here if reran\n",
    "df_master.to_csv('df_master_2008_2012_uncleaned.csv')\n",
    "print(df_master.shape)\n",
    " \n",
    "\n",
    "driver.quit()\n",
    "df_master.head()"
   ]
  },
  {
   "cell_type": "code",
   "execution_count": 82,
   "metadata": {
    "ExecuteTime": {
     "end_time": "2019-02-10T02:33:20.508229Z",
     "start_time": "2019-02-10T02:33:20.221120Z"
    }
   },
   "outputs": [
    {
     "name": "stdout",
     "output_type": "stream",
     "text": [
      "(15860, 28)\n"
     ]
    },
    {
     "data": {
      "text/html": [
       "<div>\n",
       "<style scoped>\n",
       "    .dataframe tbody tr th:only-of-type {\n",
       "        vertical-align: middle;\n",
       "    }\n",
       "\n",
       "    .dataframe tbody tr th {\n",
       "        vertical-align: top;\n",
       "    }\n",
       "\n",
       "    .dataframe thead th {\n",
       "        text-align: right;\n",
       "    }\n",
       "</style>\n",
       "<table border=\"1\" class=\"dataframe\">\n",
       "  <thead>\n",
       "    <tr style=\"text-align: right;\">\n",
       "      <th></th>\n",
       "      <th>player</th>\n",
       "      <th>current_team</th>\n",
       "      <th>current_year</th>\n",
       "      <th>birthdate_age</th>\n",
       "      <th>nationality</th>\n",
       "      <th>height_m</th>\n",
       "      <th>foot</th>\n",
       "      <th>date_joined</th>\n",
       "      <th>year_joined</th>\n",
       "      <th>signed_from</th>\n",
       "      <th>transfer_fee</th>\n",
       "      <th>contract_until</th>\n",
       "      <th>market_value</th>\n",
       "      <th>number</th>\n",
       "      <th>position</th>\n",
       "      <th>general_position</th>\n",
       "      <th>age</th>\n",
       "      <th>in_squad</th>\n",
       "      <th>appearances</th>\n",
       "      <th>goals</th>\n",
       "      <th>assists</th>\n",
       "      <th>yellow_card</th>\n",
       "      <th>second_yellow</th>\n",
       "      <th>red_cards</th>\n",
       "      <th>substituted_on</th>\n",
       "      <th>substituted_off</th>\n",
       "      <th>ppm</th>\n",
       "      <th>minutes_played</th>\n",
       "    </tr>\n",
       "  </thead>\n",
       "  <tbody>\n",
       "    <tr>\n",
       "      <th>0</th>\n",
       "      <td>Víctor Valdés</td>\n",
       "      <td>fc-barcelona</td>\n",
       "      <td>2008</td>\n",
       "      <td>Jan 14, 1982 (26)</td>\n",
       "      <td>Spain</td>\n",
       "      <td>1,83 m</td>\n",
       "      <td>right</td>\n",
       "      <td>Jul 1, 2002</td>\n",
       "      <td>2002</td>\n",
       "      <td>FC Barcelona B</td>\n",
       "      <td>-</td>\n",
       "      <td>-</td>\n",
       "      <td>£13.50m</td>\n",
       "      <td>1</td>\n",
       "      <td>Goalkeeper</td>\n",
       "      <td>Goalkeeper</td>\n",
       "      <td>26</td>\n",
       "      <td>52</td>\n",
       "      <td>49</td>\n",
       "      <td>-</td>\n",
       "      <td>-</td>\n",
       "      <td>3</td>\n",
       "      <td>-</td>\n",
       "      <td>-</td>\n",
       "      <td>-</td>\n",
       "      <td>-</td>\n",
       "      <td>2,35</td>\n",
       "      <td>4.410'</td>\n",
       "    </tr>\n",
       "    <tr>\n",
       "      <th>1</th>\n",
       "      <td>José Manuel Pinto</td>\n",
       "      <td>fc-barcelona</td>\n",
       "      <td>2008</td>\n",
       "      <td>Nov 8, 1975 (32)</td>\n",
       "      <td>Spain</td>\n",
       "      <td>1,85 m</td>\n",
       "      <td>right</td>\n",
       "      <td>Jul 1, 2008</td>\n",
       "      <td>2008</td>\n",
       "      <td>Spain</td>\n",
       "      <td>-</td>\n",
       "      <td>-</td>\n",
       "      <td>£1.80m</td>\n",
       "      <td>13</td>\n",
       "      <td>Goalkeeper</td>\n",
       "      <td>Goalkeeper</td>\n",
       "      <td>32</td>\n",
       "      <td>51</td>\n",
       "      <td>11</td>\n",
       "      <td>-</td>\n",
       "      <td>-</td>\n",
       "      <td>1</td>\n",
       "      <td>-</td>\n",
       "      <td>-</td>\n",
       "      <td>-</td>\n",
       "      <td>-</td>\n",
       "      <td>2,18</td>\n",
       "      <td>990'</td>\n",
       "    </tr>\n",
       "    <tr>\n",
       "      <th>2</th>\n",
       "      <td>Albert Jorquera</td>\n",
       "      <td>fc-barcelona</td>\n",
       "      <td>2008</td>\n",
       "      <td>Mar 3, 1979 (29)</td>\n",
       "      <td>Spain</td>\n",
       "      <td>1,83 m</td>\n",
       "      <td>-</td>\n",
       "      <td>Jul 1, 2003</td>\n",
       "      <td>2003</td>\n",
       "      <td>FC Barcelona B</td>\n",
       "      <td>-</td>\n",
       "      <td>-</td>\n",
       "      <td>£720k</td>\n",
       "      <td>25</td>\n",
       "      <td>Goalkeeper</td>\n",
       "      <td>Goalkeeper</td>\n",
       "      <td>29</td>\n",
       "      <td>20</td>\n",
       "      <td>1</td>\n",
       "      <td>-</td>\n",
       "      <td>-</td>\n",
       "      <td>-</td>\n",
       "      <td>-</td>\n",
       "      <td>-</td>\n",
       "      <td>-</td>\n",
       "      <td>-</td>\n",
       "      <td>0,00</td>\n",
       "      <td>90'</td>\n",
       "    </tr>\n",
       "    <tr>\n",
       "      <th>3</th>\n",
       "      <td>Oier Olazábal</td>\n",
       "      <td>fc-barcelona</td>\n",
       "      <td>2008</td>\n",
       "      <td>Sep 14, 1989 (18)</td>\n",
       "      <td>Spain</td>\n",
       "      <td>1,89 m</td>\n",
       "      <td>left</td>\n",
       "      <td>Aug 1, 2007</td>\n",
       "      <td>2007</td>\n",
       "      <td>FC Barcelona B</td>\n",
       "      <td>-</td>\n",
       "      <td>-</td>\n",
       "      <td>£540k</td>\n",
       "      <td>-</td>\n",
       "      <td>Goalkeeper</td>\n",
       "      <td>Goalkeeper</td>\n",
       "      <td>18</td>\n",
       "      <td>2</td>\n",
       "      <td>1</td>\n",
       "      <td>-</td>\n",
       "      <td>-</td>\n",
       "      <td>-</td>\n",
       "      <td>-</td>\n",
       "      <td>-</td>\n",
       "      <td>-</td>\n",
       "      <td>-</td>\n",
       "      <td>0,00</td>\n",
       "      <td>90'</td>\n",
       "    </tr>\n",
       "    <tr>\n",
       "      <th>4</th>\n",
       "      <td>Carles Puyol</td>\n",
       "      <td>fc-barcelona</td>\n",
       "      <td>2008</td>\n",
       "      <td>Apr 13, 1978 (30)</td>\n",
       "      <td>Spain</td>\n",
       "      <td>1,78 m</td>\n",
       "      <td>right</td>\n",
       "      <td>Jul 1, 1999</td>\n",
       "      <td>1999</td>\n",
       "      <td>FC Barcelona B</td>\n",
       "      <td>-</td>\n",
       "      <td>-</td>\n",
       "      <td>£23.40m</td>\n",
       "      <td>5</td>\n",
       "      <td>Centre-Back</td>\n",
       "      <td>Defender</td>\n",
       "      <td>30</td>\n",
       "      <td>49</td>\n",
       "      <td>45</td>\n",
       "      <td>1</td>\n",
       "      <td>3</td>\n",
       "      <td>8</td>\n",
       "      <td>-</td>\n",
       "      <td>-</td>\n",
       "      <td>4</td>\n",
       "      <td>6</td>\n",
       "      <td>2,29</td>\n",
       "      <td>3.768'</td>\n",
       "    </tr>\n",
       "  </tbody>\n",
       "</table>\n",
       "</div>"
      ],
      "text/plain": [
       "              player  current_team current_year      birthdate_age  \\\n",
       "0  Víctor Valdés      fc-barcelona  2008         Jan 14, 1982 (26)   \n",
       "1  José Manuel Pinto  fc-barcelona  2008         Nov 8, 1975 (32)    \n",
       "2  Albert Jorquera    fc-barcelona  2008         Mar 3, 1979 (29)    \n",
       "3  Oier Olazábal      fc-barcelona  2008         Sep 14, 1989 (18)   \n",
       "4  Carles Puyol       fc-barcelona  2008         Apr 13, 1978 (30)   \n",
       "\n",
       "  nationality height_m   foot  date_joined year_joined     signed_from  \\\n",
       "0  Spain       1,83 m   right  Jul 1, 2002  2002        FC Barcelona B   \n",
       "1  Spain       1,85 m   right  Jul 1, 2008  2008        Spain            \n",
       "2  Spain       1,83 m   -      Jul 1, 2003  2003        FC Barcelona B   \n",
       "3  Spain       1,89 m   left   Aug 1, 2007  2007        FC Barcelona B   \n",
       "4  Spain       1,78 m   right  Jul 1, 1999  1999        FC Barcelona B   \n",
       "\n",
       "  transfer_fee contract_until market_value number     position  \\\n",
       "0  -            -              £13.50m      1      Goalkeeper    \n",
       "1  -            -              £1.80m       13     Goalkeeper    \n",
       "2  -            -              £720k        25     Goalkeeper    \n",
       "3  -            -              £540k        -      Goalkeeper    \n",
       "4  -            -              £23.40m      5      Centre-Back   \n",
       "\n",
       "  general_position age in_squad appearances goals assists yellow_card  \\\n",
       "0  Goalkeeper       26  52       49          -     -       3            \n",
       "1  Goalkeeper       32  51       11          -     -       1            \n",
       "2  Goalkeeper       29  20       1           -     -       -            \n",
       "3  Goalkeeper       18  2        1           -     -       -            \n",
       "4  Defender         30  49       45          1     3       8            \n",
       "\n",
       "  second_yellow red_cards substituted_on substituted_off   ppm minutes_played  \n",
       "0  -             -         -              -               2,35  4.410'         \n",
       "1  -             -         -              -               2,18  990'           \n",
       "2  -             -         -              -               0,00  90'            \n",
       "3  -             -         -              -               0,00  90'            \n",
       "4  -             -         4              6               2,29  3.768'         "
      ]
     },
     "execution_count": 82,
     "metadata": {},
     "output_type": "execute_result"
    }
   ],
   "source": [
    "df_master = pd.concat(list_of_dfs, ignore_index=True, sort=False)\n",
    "df_master.to_csv('df_master_2008_2012_uncleaned.csv')\n",
    "print(df_master.shape)\n",
    "df_master.head()"
   ]
  },
  {
   "cell_type": "markdown",
   "metadata": {},
   "source": [
    "# END"
   ]
  }
 ],
 "metadata": {
  "kernelspec": {
   "display_name": "Python 3",
   "language": "python",
   "name": "python3"
  },
  "language_info": {
   "codemirror_mode": {
    "name": "ipython",
    "version": 3
   },
   "file_extension": ".py",
   "mimetype": "text/x-python",
   "name": "python",
   "nbconvert_exporter": "python",
   "pygments_lexer": "ipython3",
   "version": "3.6.8"
  },
  "toc": {
   "base_numbering": 1,
   "nav_menu": {},
   "number_sections": true,
   "sideBar": true,
   "skip_h1_title": false,
   "title_cell": "Table of Contents",
   "title_sidebar": "Contents",
   "toc_cell": true,
   "toc_position": {},
   "toc_section_display": true,
   "toc_window_display": true
  },
  "varInspector": {
   "cols": {
    "lenName": 16,
    "lenType": 16,
    "lenVar": 40
   },
   "kernels_config": {
    "python": {
     "delete_cmd_postfix": "",
     "delete_cmd_prefix": "del ",
     "library": "var_list.py",
     "varRefreshCmd": "print(var_dic_list())"
    },
    "r": {
     "delete_cmd_postfix": ") ",
     "delete_cmd_prefix": "rm(",
     "library": "var_list.r",
     "varRefreshCmd": "cat(var_dic_list()) "
    }
   },
   "position": {
    "height": "283.438px",
    "left": "-6.02344px",
    "right": "20px",
    "top": "529.98px",
    "width": "448.477px"
   },
   "types_to_exclude": [
    "module",
    "function",
    "builtin_function_or_method",
    "instance",
    "_Feature"
   ],
   "window_display": false
  }
 },
 "nbformat": 4,
 "nbformat_minor": 2
}
